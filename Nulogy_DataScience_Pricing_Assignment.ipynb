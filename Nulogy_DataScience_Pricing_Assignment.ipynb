{
 "cells": [
  {
   "cell_type": "markdown",
   "metadata": {},
   "source": [
    "## Instructions\n",
    "- Please complete the following assignment using (preferrably) Python. I am using Python 3.7 v.\n",
    "- If you feel like you have the time and skill set to complete all 2 exercises, feel free to do so.\n",
    "- Please push the assignment onto a free, publicly available repository for review (e.g. GitHub or Gitlab).\n",
    "- You are free to use any open source library or package to complete the exercises."
   ]
  },
  {
   "cell_type": "markdown",
   "metadata": {},
   "source": [
    "## Assumptions\n",
    "\n",
    "- Since there is no one 'price' column in the formulation of the problem + dataset, I am defining the 'price' target variable as being the mean of amountMin and amountMax prices, both converted to USD. ~0.03% of rows in the dataset have amountMin != amountMax, therefore it was a reasonable assumption to make.<br> i.e. we are assuming that the bias introduced by the currency conversion of the price is negligeable. Furthermore, I left the currency column in the model as an categorical variable to see if it has much feature importance on the target variable, price.\n",
    "\n",
    "- Assuming that each row represents a product-price_range per set of listing URLs: more explicitly each row represents a range of prices, captured by prices.amountMin and prices.amountMax, which were each seen on the prices.sourceURLs of that row (there may be multiple sources on which those prices were seen)."
   ]
  },
  {
   "cell_type": "markdown",
   "metadata": {},
   "source": [
    "# Introduction\n",
    "\n",
    "Given the time constraint of this assignment, the focus of this exercise was on using a simple but reliable model to generate a reasonably good performance (using MSE, RMSE, R2 as my evaluation metric(s)) and comparing it to a more complex supervised learning model. The accuracy of the model saw the greatest improvement by developing the \"Data Cleaning\", \"Feature Engineering\" and \"Model Implementation\" sections.\n",
    "\n",
    "This notebook outlines the following components of my analysis:\n",
    "\n",
    "    1) Read Data\n",
    "    2) Data Cleaning\n",
    "    3) Feature Engineering\n",
    "    4) EDA\n",
    "    5) Benchmarking\n",
    "    6) Model Implementation (LightGBM)\n",
    "    7) Future Improvements"
   ]
  },
  {
   "cell_type": "code",
   "execution_count": 1,
   "metadata": {},
   "outputs": [
    {
     "name": "stderr",
     "output_type": "stream",
     "text": [
      "/anaconda3/lib/python3.7/site-packages/lightgbm/__init__.py:46: UserWarning: Starting from version 2.2.1, the library file in distribution wheels for macOS is built by the Apple Clang (Xcode_8.3.3) compiler.\n",
      "This means that in case of installing LightGBM from PyPI via the ``pip install lightgbm`` command, you don't need to install the gcc compiler anymore.\n",
      "Instead of that, you need to install the OpenMP library, which is required for running LightGBM on the system with the Apple Clang compiler.\n",
      "You can install the OpenMP library by the following command: ``brew install libomp``.\n",
      "  \"You can install the OpenMP library by the following command: ``brew install libomp``.\", UserWarning)\n"
     ]
    }
   ],
   "source": [
    "# import libraries required for analysis\n",
    "\n",
    "import os\n",
    "import sys\n",
    "\n",
    "import pandas as pd\n",
    "import numpy as np\n",
    "\n",
    "import matplotlib.pyplot as plt\n",
    "import seaborn as sns\n",
    "\n",
    "import math\n",
    "import datetime as dt\n",
    "from dateutil.relativedelta import relativedelta\n",
    "\n",
    "import tldextract as tldextract\n",
    "# from currency_converter import CurrencyConverter\n",
    "\n",
    "import category_encoders as ce\n",
    "from sklearn.preprocessing import MinMaxScaler\n",
    "from sklearn.model_selection import train_test_split\n",
    "from sklearn.model_selection import GridSearchCV\n",
    "from sklearn.metrics import confusion_matrix\n",
    "from imblearn.over_sampling import SMOTE\n",
    "from bayes_opt import BayesianOptimization\n",
    "from sklearn import metrics\n",
    "from sklearn.model_selection import KFold\n",
    "from sklearn.decomposition import PCA\n",
    "\n",
    "from sklearn.linear_model import LinearRegression\n",
    "\n",
    "import lightgbm as lgb"
   ]
  },
  {
   "cell_type": "code",
   "execution_count": 2,
   "metadata": {},
   "outputs": [],
   "source": [
    "# initialize necessary directories and params\n",
    "os.chdir('/Users/estevanfalcone/Nulogy/Nulogy_DataScience_Pricing_Assignment/')"
   ]
  },
  {
   "cell_type": "markdown",
   "metadata": {},
   "source": [
    "# 1. Read Data\n",
    "- Investigate problematic rows at import (hypothesizing that it's JSON column foratting interfering with column splitting). "
   ]
  },
  {
   "cell_type": "code",
   "execution_count": 3,
   "metadata": {},
   "outputs": [
    {
     "name": "stdout",
     "output_type": "stream",
     "text": [
      "Dataset dimensions: (19387, 48)\n"
     ]
    },
    {
     "data": {
      "text/html": [
       "<div>\n",
       "<style scoped>\n",
       "    .dataframe tbody tr th:only-of-type {\n",
       "        vertical-align: middle;\n",
       "    }\n",
       "\n",
       "    .dataframe tbody tr th {\n",
       "        vertical-align: top;\n",
       "    }\n",
       "\n",
       "    .dataframe thead th {\n",
       "        text-align: right;\n",
       "    }\n",
       "</style>\n",
       "<table border=\"1\" class=\"dataframe\">\n",
       "  <thead>\n",
       "    <tr style=\"text-align: right;\">\n",
       "      <th></th>\n",
       "      <th>id</th>\n",
       "      <th>asins</th>\n",
       "      <th>brand</th>\n",
       "      <th>categories</th>\n",
       "      <th>colors</th>\n",
       "      <th>count</th>\n",
       "      <th>dateAdded</th>\n",
       "      <th>dateUpdated</th>\n",
       "      <th>descriptions</th>\n",
       "      <th>dimension</th>\n",
       "      <th>...</th>\n",
       "      <th>prices.warranty</th>\n",
       "      <th>quantities</th>\n",
       "      <th>reviews</th>\n",
       "      <th>sizes</th>\n",
       "      <th>skus</th>\n",
       "      <th>sourceURLs</th>\n",
       "      <th>upc</th>\n",
       "      <th>vin</th>\n",
       "      <th>websiteIDs</th>\n",
       "      <th>weight</th>\n",
       "    </tr>\n",
       "  </thead>\n",
       "  <tbody>\n",
       "    <tr>\n",
       "      <th>0</th>\n",
       "      <td>AVpfHrJ6ilAPnD_xVXOI</td>\n",
       "      <td>NaN</td>\n",
       "      <td>Josmo</td>\n",
       "      <td>Clothing,Shoes,Men's Shoes,All Men's Shoes</td>\n",
       "      <td>NaN</td>\n",
       "      <td>NaN</td>\n",
       "      <td>2016-11-07T00:45:12Z</td>\n",
       "      <td>2016-11-07T00:45:12Z</td>\n",
       "      <td>[{\"dateSeen\":[\"2016-11-07T00:45:12Z\"],\"sourceU...</td>\n",
       "      <td>NaN</td>\n",
       "      <td>...</td>\n",
       "      <td>NaN</td>\n",
       "      <td>NaN</td>\n",
       "      <td>NaN</td>\n",
       "      <td>NaN</td>\n",
       "      <td>NaN</td>\n",
       "      <td>https://www.walmart.com/ip/Josmo-8190-Plain-In...</td>\n",
       "      <td>699302044036</td>\n",
       "      <td>NaN</td>\n",
       "      <td>NaN</td>\n",
       "      <td>NaN</td>\n",
       "    </tr>\n",
       "    <tr>\n",
       "      <th>1</th>\n",
       "      <td>AVpfHrJ6ilAPnD_xVXOI</td>\n",
       "      <td>NaN</td>\n",
       "      <td>Josmo</td>\n",
       "      <td>Clothing,Shoes,Men's Shoes,All Men's Shoes</td>\n",
       "      <td>NaN</td>\n",
       "      <td>NaN</td>\n",
       "      <td>2016-11-07T00:45:12Z</td>\n",
       "      <td>2016-11-07T00:45:12Z</td>\n",
       "      <td>[{\"dateSeen\":[\"2016-11-07T00:45:12Z\"],\"sourceU...</td>\n",
       "      <td>NaN</td>\n",
       "      <td>...</td>\n",
       "      <td>NaN</td>\n",
       "      <td>NaN</td>\n",
       "      <td>NaN</td>\n",
       "      <td>NaN</td>\n",
       "      <td>NaN</td>\n",
       "      <td>https://www.walmart.com/ip/Josmo-8190-Plain-In...</td>\n",
       "      <td>699302044036</td>\n",
       "      <td>NaN</td>\n",
       "      <td>NaN</td>\n",
       "      <td>NaN</td>\n",
       "    </tr>\n",
       "    <tr>\n",
       "      <th>2</th>\n",
       "      <td>AVpfHsWP1cnluZ0-eVZ7</td>\n",
       "      <td>NaN</td>\n",
       "      <td>SERVUS BY HONEYWELL</td>\n",
       "      <td>All Men's Shoes,Shoes,Men's Shoes,Clothing</td>\n",
       "      <td>NaN</td>\n",
       "      <td>NaN</td>\n",
       "      <td>2016-06-14T04:29:57Z</td>\n",
       "      <td>2016-07-09T20:26:48Z</td>\n",
       "      <td>[{\"dateSeen\":[\"2016-07-09T20:26:48Z\"],\"sourceU...</td>\n",
       "      <td>NaN</td>\n",
       "      <td>...</td>\n",
       "      <td>NaN</td>\n",
       "      <td>NaN</td>\n",
       "      <td>NaN</td>\n",
       "      <td>NaN</td>\n",
       "      <td>NaN</td>\n",
       "      <td>http://www.walmart.com/ip/Studs-Shoe-Large-Pr-...</td>\n",
       "      <td>NaN</td>\n",
       "      <td>NaN</td>\n",
       "      <td>NaN</td>\n",
       "      <td>NaN</td>\n",
       "    </tr>\n",
       "    <tr>\n",
       "      <th>3</th>\n",
       "      <td>AVpfHsWP1cnluZ0-eVZ7</td>\n",
       "      <td>NaN</td>\n",
       "      <td>SERVUS BY HONEYWELL</td>\n",
       "      <td>All Men's Shoes,Shoes,Men's Shoes,Clothing</td>\n",
       "      <td>NaN</td>\n",
       "      <td>NaN</td>\n",
       "      <td>2016-06-14T04:29:57Z</td>\n",
       "      <td>2016-07-09T20:26:48Z</td>\n",
       "      <td>[{\"dateSeen\":[\"2016-07-09T20:26:48Z\"],\"sourceU...</td>\n",
       "      <td>NaN</td>\n",
       "      <td>...</td>\n",
       "      <td>NaN</td>\n",
       "      <td>NaN</td>\n",
       "      <td>NaN</td>\n",
       "      <td>NaN</td>\n",
       "      <td>NaN</td>\n",
       "      <td>http://www.walmart.com/ip/Studs-Shoe-Large-Pr-...</td>\n",
       "      <td>NaN</td>\n",
       "      <td>NaN</td>\n",
       "      <td>NaN</td>\n",
       "      <td>NaN</td>\n",
       "    </tr>\n",
       "    <tr>\n",
       "      <th>4</th>\n",
       "      <td>AVpfHsWP1cnluZ0-eVZ7</td>\n",
       "      <td>NaN</td>\n",
       "      <td>SERVUS BY HONEYWELL</td>\n",
       "      <td>All Men's Shoes,Shoes,Men's Shoes,Clothing</td>\n",
       "      <td>NaN</td>\n",
       "      <td>NaN</td>\n",
       "      <td>2016-06-14T04:29:57Z</td>\n",
       "      <td>2016-07-09T20:26:48Z</td>\n",
       "      <td>[{\"dateSeen\":[\"2016-07-09T20:26:48Z\"],\"sourceU...</td>\n",
       "      <td>NaN</td>\n",
       "      <td>...</td>\n",
       "      <td>NaN</td>\n",
       "      <td>NaN</td>\n",
       "      <td>NaN</td>\n",
       "      <td>NaN</td>\n",
       "      <td>NaN</td>\n",
       "      <td>http://www.walmart.com/ip/Studs-Shoe-Large-Pr-...</td>\n",
       "      <td>NaN</td>\n",
       "      <td>NaN</td>\n",
       "      <td>NaN</td>\n",
       "      <td>NaN</td>\n",
       "    </tr>\n",
       "  </tbody>\n",
       "</table>\n",
       "<p>5 rows × 48 columns</p>\n",
       "</div>"
      ],
      "text/plain": [
       "                     id asins                brand  \\\n",
       "0  AVpfHrJ6ilAPnD_xVXOI   NaN                Josmo   \n",
       "1  AVpfHrJ6ilAPnD_xVXOI   NaN                Josmo   \n",
       "2  AVpfHsWP1cnluZ0-eVZ7   NaN  SERVUS BY HONEYWELL   \n",
       "3  AVpfHsWP1cnluZ0-eVZ7   NaN  SERVUS BY HONEYWELL   \n",
       "4  AVpfHsWP1cnluZ0-eVZ7   NaN  SERVUS BY HONEYWELL   \n",
       "\n",
       "                                   categories colors  count  \\\n",
       "0  Clothing,Shoes,Men's Shoes,All Men's Shoes    NaN    NaN   \n",
       "1  Clothing,Shoes,Men's Shoes,All Men's Shoes    NaN    NaN   \n",
       "2  All Men's Shoes,Shoes,Men's Shoes,Clothing    NaN    NaN   \n",
       "3  All Men's Shoes,Shoes,Men's Shoes,Clothing    NaN    NaN   \n",
       "4  All Men's Shoes,Shoes,Men's Shoes,Clothing    NaN    NaN   \n",
       "\n",
       "              dateAdded           dateUpdated  \\\n",
       "0  2016-11-07T00:45:12Z  2016-11-07T00:45:12Z   \n",
       "1  2016-11-07T00:45:12Z  2016-11-07T00:45:12Z   \n",
       "2  2016-06-14T04:29:57Z  2016-07-09T20:26:48Z   \n",
       "3  2016-06-14T04:29:57Z  2016-07-09T20:26:48Z   \n",
       "4  2016-06-14T04:29:57Z  2016-07-09T20:26:48Z   \n",
       "\n",
       "                                        descriptions dimension  ...    \\\n",
       "0  [{\"dateSeen\":[\"2016-11-07T00:45:12Z\"],\"sourceU...       NaN  ...     \n",
       "1  [{\"dateSeen\":[\"2016-11-07T00:45:12Z\"],\"sourceU...       NaN  ...     \n",
       "2  [{\"dateSeen\":[\"2016-07-09T20:26:48Z\"],\"sourceU...       NaN  ...     \n",
       "3  [{\"dateSeen\":[\"2016-07-09T20:26:48Z\"],\"sourceU...       NaN  ...     \n",
       "4  [{\"dateSeen\":[\"2016-07-09T20:26:48Z\"],\"sourceU...       NaN  ...     \n",
       "\n",
       "  prices.warranty quantities  reviews sizes  skus  \\\n",
       "0             NaN        NaN      NaN   NaN   NaN   \n",
       "1             NaN        NaN      NaN   NaN   NaN   \n",
       "2             NaN        NaN      NaN   NaN   NaN   \n",
       "3             NaN        NaN      NaN   NaN   NaN   \n",
       "4             NaN        NaN      NaN   NaN   NaN   \n",
       "\n",
       "                                          sourceURLs           upc vin  \\\n",
       "0  https://www.walmart.com/ip/Josmo-8190-Plain-In...  699302044036 NaN   \n",
       "1  https://www.walmart.com/ip/Josmo-8190-Plain-In...  699302044036 NaN   \n",
       "2  http://www.walmart.com/ip/Studs-Shoe-Large-Pr-...           NaN NaN   \n",
       "3  http://www.walmart.com/ip/Studs-Shoe-Large-Pr-...           NaN NaN   \n",
       "4  http://www.walmart.com/ip/Studs-Shoe-Large-Pr-...           NaN NaN   \n",
       "\n",
       "  websiteIDs weight  \n",
       "0        NaN    NaN  \n",
       "1        NaN    NaN  \n",
       "2        NaN    NaN  \n",
       "3        NaN    NaN  \n",
       "4        NaN    NaN  \n",
       "\n",
       "[5 rows x 48 columns]"
      ]
     },
     "execution_count": 3,
     "metadata": {},
     "output_type": "execute_result"
    }
   ],
   "source": [
    "# limits # of rows to read (None to read entire dataset)\n",
    "nRowsRead = None\n",
    "\n",
    "data = pd.read_csv('product_data_schema.csv', nrows = nRowsRead, low_memory = False, \n",
    "                   error_bad_lines = False)\n",
    "print('Dataset dimensions:', data.shape)\n",
    "data.head()"
   ]
  },
  {
   "cell_type": "markdown",
   "metadata": {},
   "source": [
    "# 2. Data Cleaning"
   ]
  },
  {
   "cell_type": "markdown",
   "metadata": {},
   "source": [
    "### Data Type and Missing Data Cleaning"
   ]
  },
  {
   "cell_type": "code",
   "execution_count": 4,
   "metadata": {},
   "outputs": [
    {
     "data": {
      "text/plain": [
       "id                      object\n",
       "asins                   object\n",
       "brand                   object\n",
       "categories              object\n",
       "colors                  object\n",
       "count                  float64\n",
       "dateAdded               object\n",
       "dateUpdated             object\n",
       "descriptions            object\n",
       "dimension               object\n",
       "ean                     object\n",
       "features                object\n",
       "flavors                float64\n",
       "imageURLs               object\n",
       "isbn                   float64\n",
       "keys                    object\n",
       "manufacturer            object\n",
       "manufacturerNumber      object\n",
       "merchants               object\n",
       "name                    object\n",
       "prices.amountMin       float64\n",
       "prices.amountMax       float64\n",
       "prices.availability     object\n",
       "prices.color            object\n",
       "prices.condition        object\n",
       "prices.count            object\n",
       "prices.currency         object\n",
       "prices.dateAdded        object\n",
       "prices.dateSeen         object\n",
       "prices.flavor           object\n",
       "prices.isSale           object\n",
       "prices.merchant         object\n",
       "prices.offer            object\n",
       "prices.returnPolicy     object\n",
       "prices.shipping         object\n",
       "prices.size             object\n",
       "prices.source          float64\n",
       "prices.sourceURLs       object\n",
       "prices.warranty        float64\n",
       "quantities             float64\n",
       "reviews                 object\n",
       "sizes                   object\n",
       "skus                    object\n",
       "sourceURLs              object\n",
       "upc                     object\n",
       "vin                    float64\n",
       "websiteIDs             float64\n",
       "weight                  object\n",
       "dtype: object"
      ]
     },
     "execution_count": 4,
     "metadata": {},
     "output_type": "execute_result"
    }
   ],
   "source": [
    "data.dtypes"
   ]
  },
  {
   "cell_type": "markdown",
   "metadata": {},
   "source": [
    "First, start by verifying if there are any duplicated rows in the data and remove them:"
   ]
  },
  {
   "cell_type": "code",
   "execution_count": 5,
   "metadata": {},
   "outputs": [
    {
     "name": "stdout",
     "output_type": "stream",
     "text": [
      "(19383, 48)\n"
     ]
    }
   ],
   "source": [
    "f'duplicate rows: {data.duplicated().sum()}'\n",
    "data.drop_duplicates(inplace=True)\n",
    "print(data.shape)"
   ]
  },
  {
   "cell_type": "markdown",
   "metadata": {},
   "source": [
    "Remove non-ASCII char entries from dataset:"
   ]
  },
  {
   "cell_type": "code",
   "execution_count": 6,
   "metadata": {},
   "outputs": [],
   "source": [
    "objects_columns = data.select_dtypes(object)\n",
    "objects_columns = objects_columns.drop(['prices.availability','prices.count',\n",
    "                                        'prices.flavor','prices.isSale'],axis=1)\n",
    "data[objects_columns.columns] = objects_columns.apply(lambda x: x.str.encode('ascii', 'ignore')\n",
    "                                                      .str.decode('ascii'))"
   ]
  },
  {
   "cell_type": "markdown",
   "metadata": {},
   "source": [
    "Find columns with no data (i.e. number of missing values == number of rows of dataset) and remove them:"
   ]
  },
  {
   "cell_type": "code",
   "execution_count": 7,
   "metadata": {},
   "outputs": [
    {
     "name": "stdout",
     "output_type": "stream",
     "text": [
      "['count', 'flavors', 'isbn', 'prices.source', 'prices.warranty', 'quantities', 'vin', 'websiteIDs']\n"
     ]
    }
   ],
   "source": [
    "# find columns with entirely missing data\n",
    "null_sums_per_col = data.isna().sum()\n",
    "null_columns = list(null_sums_per_col[null_sums_per_col == data.shape[0]].index)\n",
    "print(null_columns)"
   ]
  },
  {
   "cell_type": "code",
   "execution_count": 8,
   "metadata": {},
   "outputs": [
    {
     "name": "stdout",
     "output_type": "stream",
     "text": [
      "(19383, 40)\n"
     ]
    }
   ],
   "source": [
    "# remove these null columns from the dataset\n",
    "data1 = data.drop(null_columns, 'columns')\n",
    "print(data1.shape)"
   ]
  },
  {
   "cell_type": "markdown",
   "metadata": {},
   "source": [
    "Determine how much data (quantity and proportion) is missing per column:"
   ]
  },
  {
   "cell_type": "code",
   "execution_count": 9,
   "metadata": {},
   "outputs": [
    {
     "name": "stdout",
     "output_type": "stream",
     "text": [
      "                     missing_quantity  missing_ratio\n",
      "prices.count                    19371      99.938090\n",
      "prices.flavor                   19356      99.860703\n",
      "prices.availability             19314      99.644018\n",
      "prices.size                     18730      96.631068\n",
      "prices.color                    18610      96.011969\n",
      "weight                          18526      95.578600\n",
      "prices.returnPolicy             18358      94.711861\n",
      "reviews                         17709      91.363566\n",
      "asins                           16815      86.751277\n",
      "dimension                       16369      84.450291\n",
      "prices.shipping                 13682      70.587628\n",
      "sizes                           13391      69.086313\n",
      "prices.offer                    13329      68.766445\n",
      "manufacturer                    12684      65.438787\n",
      "skus                            10637      54.877986\n",
      "descriptions                     9493      48.975907\n",
      "ean                              9381      48.398081\n",
      "upc                              8605      44.394573\n",
      "colors                           8366      43.161533\n",
      "prices.condition                 6735      34.746943\n",
      "prices.merchant                  5542      28.592065\n",
      "features                         5415      27.936852\n",
      "merchants                        5346      27.580870\n",
      "manufacturerNumber               4213      21.735541\n",
      "imageURLs                        1072       5.530620\n",
      "brand                             258       1.331063\n",
      "prices.amountMax                   52       0.268276\n",
      "prices.dateSeen                    52       0.268276\n",
      "prices.isSale                      52       0.268276\n",
      "prices.sourceURLs                  46       0.237321\n",
      "sourceURLs                         32       0.165093\n",
      "keys                               27       0.139297\n",
      "dateUpdated                        27       0.139297\n",
      "prices.amountMin                   25       0.128979\n",
      "prices.dateAdded                   25       0.128979\n",
      "prices.currency                    11       0.056751\n",
      "categories                          0       0.000000\n",
      "dateAdded                           0       0.000000\n",
      "name                                0       0.000000\n",
      "id                                  0       0.000000\n"
     ]
    }
   ],
   "source": [
    "# print quantity/ratio of missing values\n",
    "missing_data_metrics = {'missing_quantity': data1.isnull().sum(),\n",
    "    'missing_ratio': data1.isnull().sum() * 100 / len(data1)}\n",
    "\n",
    "missing_data_metrics_df = pd.DataFrame(data = missing_data_metrics)\n",
    "print(missing_data_metrics_df.sort_values(by = ['missing_ratio'], ascending = False))"
   ]
  },
  {
   "cell_type": "code",
   "execution_count": 10,
   "metadata": {},
   "outputs": [
    {
     "data": {
      "text/plain": [
       "'There are 17 of 40 features missing 45% or more of their data.'"
      ]
     },
     "execution_count": 10,
     "metadata": {},
     "output_type": "execute_result"
    }
   ],
   "source": [
    "f'There are {len(missing_data_metrics_df[missing_data_metrics_df.missing_ratio >= 45])} of {len(missing_data_metrics_df)} features missing 45% or more of their data.'"
   ]
  },
  {
   "cell_type": "markdown",
   "metadata": {},
   "source": [
    "Many of these columns (including some of the ones with less missing data) will likely end up being dropped from the analysis in the interest of time. *See 'Future Improvements' for further analysis that could be done to some of said columns given additional time.*"
   ]
  },
  {
   "cell_type": "code",
   "execution_count": 11,
   "metadata": {},
   "outputs": [
    {
     "data": {
      "text/plain": [
       "8366"
      ]
     },
     "execution_count": 11,
     "metadata": {},
     "output_type": "execute_result"
    }
   ],
   "source": [
    "data1['colors'].value_counts()\n",
    "data1['colors'].isna().sum()"
   ]
  },
  {
   "cell_type": "markdown",
   "metadata": {},
   "source": [
    "### Gender\n",
    "Filter out any Female Gender products erroneously in the data (given we want only Men's Shoe Prices).\n",
    "- By assumption, we will keep the Unisex products."
   ]
  },
  {
   "cell_type": "code",
   "execution_count": 12,
   "metadata": {},
   "outputs": [
    {
     "data": {
      "text/plain": [
       "Men                     7520\n",
       "Unisex                  1144\n",
       "Boys                     144\n",
       "Male                     142\n",
       "Women                    105\n",
       "Mens                     102\n",
       "Girls                     71\n",
       "Women , Men               15\n",
       "Male,Men                  11\n",
       "Men,Unisex                11\n",
       "Unisex Adults             10\n",
       "Men,Women                  9\n",
       "Men,Mens                   8\n",
       "Men,Boys                   7\n",
       "Adult Unisex               7\n",
       "Unisex, Mens, Womens       6\n",
       "Women,Men                  6\n",
       "Men / Women                5\n",
       "Female                     4\n",
       "Mens, Womens, Unisex       4\n",
       "Boys,Men                   3\n",
       "Men,Adult Unisex           3\n",
       "Male,Mens                  3\n",
       "Men,mens                   2\n",
       "Unisex Adult               2\n",
       "Womens                     2\n",
       "Women,Unisex               1\n",
       "Mens Womens                1\n",
       "Does not apply             1\n",
       "Name: gender, dtype: int64"
      ]
     },
     "execution_count": 12,
     "metadata": {},
     "output_type": "execute_result"
    }
   ],
   "source": [
    "data1['gender'] = data1.features.str.split(pat='\"key\":\"Gender\",\"value\":\\[\"',expand=True)[1].str.split(pat='\"\\]}',expand=True)[0]\n",
    "data1['gender'] = data1['gender'].str.replace(\"'\",\"\")\n",
    "data1['gender'] = data1['gender'].str.replace('\"','')\n",
    "data1['gender'] = data1['gender'].str.strip()\n",
    "data1['gender'].value_counts()"
   ]
  },
  {
   "cell_type": "code",
   "execution_count": 13,
   "metadata": {},
   "outputs": [
    {
     "name": "stdout",
     "output_type": "stream",
     "text": [
      "(19201, 41)\n"
     ]
    }
   ],
   "source": [
    "# remove rows that are not Mens, Boys or Unisex\n",
    "data1 = data1.loc[(data1.gender!='Womens') & (data1.gender!='Girls') & (data1.gender!='Women') & (data1.gender!='Female')]\n",
    "print(data1.shape)"
   ]
  },
  {
   "cell_type": "code",
   "execution_count": 14,
   "metadata": {},
   "outputs": [],
   "source": [
    "# map to fewer encodings based on description\n",
    "gender_map = {\n",
    "    'Male':'Men',\n",
    "    'Mens':'Men',\n",
    "    'Women , Men':'Unisex',\n",
    "    'Men,Unisex':'Unisex',\n",
    "    'Male,Men':'Men',\n",
    "    'Unisex Adults':'Unisex',\n",
    "    'Men,Women':'Unisex',\n",
    "    'Men,Mens':'Men',\n",
    "    'Men,Boys':'Men',\n",
    "    'Adult Unisex':'Unisex',\n",
    "    'Unisex, Mens, Womens':'Unisex',\n",
    "    'Women,Men':'Unisex',\n",
    "    'Men / Women':'Unisex',\n",
    "    'Mens, Womens, Unisex':'Unisex',\n",
    "    'Men,Adult Unisex':'Unisex',\n",
    "    'Male,Mens':'Men',\n",
    "    'Boys,Men':'Men',\n",
    "    'Men,mens':'Men',\n",
    "    'Unisex Adult':'Unisex',\n",
    "    'Mens Womens':'Unisex',\n",
    "    'Women,Unisex':'Unisex'\n",
    "}\n",
    "data1['gender'] = data1['gender'].replace(gender_map)\n",
    "\n",
    "# upon inspection, remove since *not* men's shoes\n",
    "index = data1['gender'] == 'Does not apply'\n",
    "data1 = data1[-index]"
   ]
  },
  {
   "cell_type": "markdown",
   "metadata": {},
   "source": [
    "### Categories\n",
    "Sanity-check that the data contains 'Shoes' in Categories (and not other Category products)."
   ]
  },
  {
   "cell_type": "code",
   "execution_count": 15,
   "metadata": {},
   "outputs": [
    {
     "data": {
      "text/plain": [
       "True     19173\n",
       "False       27\n",
       "Name: categories, dtype: int64"
      ]
     },
     "execution_count": 15,
     "metadata": {},
     "output_type": "execute_result"
    }
   ],
   "source": [
    "data1['categories'] = data1['categories'].str.lower()\n",
    "index = data1['categories'].str.contains('shoe')\n",
    "index.value_counts()"
   ]
  },
  {
   "cell_type": "code",
   "execution_count": 16,
   "metadata": {},
   "outputs": [
    {
     "name": "stdout",
     "output_type": "stream",
     "text": [
      "(19173, 41)\n"
     ]
    }
   ],
   "source": [
    "data1 = data1[index == True]\n",
    "print(data1.shape)"
   ]
  },
  {
   "cell_type": "markdown",
   "metadata": {},
   "source": [
    "### isSale Flag\n",
    "Upon close inspection, this flag does accurately show whether a particular line price has been discounted or not. We will simply encode the binary feature. Since the percentage of missing values for prices.isSale col is small, we will impute the missing values with the categorical mode (notably, isSale = False)."
   ]
  },
  {
   "cell_type": "code",
   "execution_count": 17,
   "metadata": {},
   "outputs": [
    {
     "data": {
      "text/plain": [
       "0    13564\n",
       "1     5609\n",
       "Name: isSale, dtype: int64"
      ]
     },
     "execution_count": 17,
     "metadata": {},
     "output_type": "execute_result"
    }
   ],
   "source": [
    "# fill missing values with mode (False) and convert to int\n",
    "data1['prices.isSale'] = data1['prices.isSale'].fillna(False)\n",
    "data1['isSale'] = data1['prices.isSale'].astype(int)\n",
    "data1['isSale'].value_counts()"
   ]
  },
  {
   "cell_type": "code",
   "execution_count": 18,
   "metadata": {},
   "outputs": [
    {
     "data": {
      "text/plain": [
       "Index(['id', 'asins', 'brand', 'categories', 'colors', 'dateAdded',\n",
       "       'dateUpdated', 'descriptions', 'dimension', 'ean', 'features',\n",
       "       'imageURLs', 'keys', 'manufacturer', 'manufacturerNumber', 'merchants',\n",
       "       'name', 'prices.amountMin', 'prices.amountMax', 'prices.availability',\n",
       "       'prices.color', 'prices.condition', 'prices.count', 'prices.currency',\n",
       "       'prices.dateAdded', 'prices.dateSeen', 'prices.flavor',\n",
       "       'prices.merchant', 'prices.offer', 'prices.returnPolicy',\n",
       "       'prices.shipping', 'prices.size', 'prices.sourceURLs', 'reviews',\n",
       "       'sizes', 'skus', 'sourceURLs', 'upc', 'weight', 'gender', 'isSale'],\n",
       "      dtype='object')"
      ]
     },
     "execution_count": 18,
     "metadata": {},
     "output_type": "execute_result"
    }
   ],
   "source": [
    "# drop the redundant isSale column\n",
    "data1 = data1.drop('prices.isSale','columns')\n",
    "data1.columns"
   ]
  },
  {
   "cell_type": "markdown",
   "metadata": {},
   "source": [
    "### Date Features\n",
    "- Convert any date-time columns to appropriate date-time type.\n",
    "- Extract Month and Year from Date variables of interest; in particular, prices.dateSeen. Remove rows with missing dates - considered using an average date between min and max, but formatting errors exist in other rows for these data points (i.e. safer to remove them)."
   ]
  },
  {
   "cell_type": "code",
   "execution_count": 19,
   "metadata": {},
   "outputs": [
    {
     "data": {
      "text/plain": [
       "Index(['id', 'asins', 'brand', 'categories', 'colors', 'descriptions',\n",
       "       'dimension', 'ean', 'features', 'imageURLs', 'keys', 'manufacturer',\n",
       "       'manufacturerNumber', 'merchants', 'name', 'prices.amountMin',\n",
       "       'prices.amountMax', 'prices.availability', 'prices.color',\n",
       "       'prices.condition', 'prices.count', 'prices.currency', 'prices.flavor',\n",
       "       'prices.merchant', 'prices.offer', 'prices.returnPolicy',\n",
       "       'prices.shipping', 'prices.size', 'prices.sourceURLs', 'reviews',\n",
       "       'sizes', 'skus', 'sourceURLs', 'upc', 'weight', 'gender', 'isSale',\n",
       "       'dateSeen'],\n",
       "      dtype='object')"
      ]
     },
     "execution_count": 19,
     "metadata": {},
     "output_type": "execute_result"
    }
   ],
   "source": [
    "# remove NA prices.dateSeen rows and rename 'dateSeen' col with it\n",
    "index = data1['prices.dateSeen'].isna()\n",
    "data1 = data1[-index]\n",
    "data1 = data1.drop(['dateAdded','dateUpdated','prices.dateAdded'],'columns')\n",
    "data1['dateSeen'] = data1['prices.dateSeen']\n",
    "data1 = data1.drop(['prices.dateSeen'],'columns')\n",
    "\n",
    "data1.columns"
   ]
  },
  {
   "cell_type": "code",
   "execution_count": 20,
   "metadata": {},
   "outputs": [
    {
     "name": "stdout",
     "output_type": "stream",
     "text": [
      "(19148, 38)\n"
     ]
    }
   ],
   "source": [
    "# convert dateSeen to date-time format\n",
    "data1 = data1.assign(\n",
    "    dateSeen = pd.to_datetime(pd.to_datetime(data1.dateSeen).dt.date)\n",
    ")\n",
    "print(data1.shape)"
   ]
  },
  {
   "cell_type": "markdown",
   "metadata": {},
   "source": [
    "### Currency (cleaning)\n",
    "Filter out erroneous currencies (it's imperative to have correct currencies for prices - desired target variable - to make sense)."
   ]
  },
  {
   "cell_type": "code",
   "execution_count": 21,
   "metadata": {},
   "outputs": [
    {
     "data": {
      "text/plain": [
       "USD    18379\n",
       "AUD      337\n",
       "CAD      303\n",
       "EUR      107\n",
       "GBP       22\n",
       "Name: prices.currency, dtype: int64"
      ]
     },
     "execution_count": 21,
     "metadata": {},
     "output_type": "execute_result"
    }
   ],
   "source": [
    "data1['prices.currency'].value_counts()"
   ]
  },
  {
   "cell_type": "code",
   "execution_count": 22,
   "metadata": {},
   "outputs": [
    {
     "name": "stdout",
     "output_type": "stream",
     "text": [
      "(19148, 38)\n"
     ]
    },
    {
     "data": {
      "text/plain": [
       "USD    18379\n",
       "AUD      337\n",
       "CAD      303\n",
       "EUR      107\n",
       "GBP       22\n",
       "Name: prices.currency, dtype: int64"
      ]
     },
     "execution_count": 22,
     "metadata": {},
     "output_type": "execute_result"
    }
   ],
   "source": [
    "curr = list(['USD','AUD','CAD','GBP','EUR'])\n",
    "data1 = data1[data1['prices.currency'].isin(curr)]\n",
    "print(data1.shape)\n",
    "data1['prices.currency'].value_counts()"
   ]
  },
  {
   "cell_type": "markdown",
   "metadata": {},
   "source": [
    "### Brands\n",
    "- This could potentially be made more intelligent using techniques like fuzzy string matching, but in the interest of time, I made a map for the cases I could detect visually."
   ]
  },
  {
   "cell_type": "code",
   "execution_count": 23,
   "metadata": {},
   "outputs": [
    {
     "data": {
      "text/plain": [
       "nike                           1763\n",
       "ralph lauren                    700\n",
       "puma                            651\n",
       "vans                            386\n",
       "new balance                     364\n",
       "reebok                          271\n",
       "adidas                          255\n",
       "jordan                          193\n",
       "superior glove works            187\n",
       "fuse lenses                     174\n",
       "fossa apparel                   174\n",
       "skechers                        164\n",
       "converse                        144\n",
       "dickies                         144\n",
       "unique bargains                 142\n",
       "unbranded                       140\n",
       "berne apparel                   126\n",
       "asics                           122\n",
       "crocs                           120\n",
       "kinco                           110\n",
       "toms                            108\n",
       "national safety apparel inc     107\n",
       "under armour                    105\n",
       "gameday boots                   103\n",
       "carhartt                         99\n",
       "stacy adams                      98\n",
       "scully                           96\n",
       "georgia boot                     94\n",
       "carrera                          93\n",
       "polo ralph lauren                92\n",
       "                               ... \n",
       "concepts sports                   1\n",
       "ridge footwear                    1\n",
       "greatlookz fashion                1\n",
       "hulkamania                        1\n",
       "tailian                           1\n",
       "jbw                               1\n",
       "under armour outerwear            1\n",
       "deroyal                           1\n",
       "wood n stream                     1\n",
       "silver lilly                      1\n",
       "gitzo                             1\n",
       "onitsuka tiger by asics           1\n",
       "e2 sport balance                  1\n",
       "emu                               1\n",
       "miko lotti                        1\n",
       "jed north                         1\n",
       "msa                               1\n",
       "soda                              1\n",
       "calcutta                          1\n",
       "carrera sole                      1\n",
       "adidas crazy1 kobe bb shoes       1\n",
       "elastogel                         1\n",
       "navali                            1\n",
       "eros                              1\n",
       "wilsons leather                   1\n",
       "akadema                           1\n",
       "us toy                            1\n",
       "basics                            1\n",
       "shock doctor                      1\n",
       "earrings-midwestjewellery         1\n",
       "Name: brand, Length: 1805, dtype: int64"
      ]
     },
     "execution_count": 23,
     "metadata": {},
     "output_type": "execute_result"
    }
   ],
   "source": [
    "data1['brand'] = data1['brand'].str.strip().str.lower()\n",
    "data1['brand'].value_counts().sort_values(ascending=False)"
   ]
  },
  {
   "cell_type": "code",
   "execution_count": 24,
   "metadata": {},
   "outputs": [
    {
     "data": {
      "text/plain": [
       "nike                        1767\n",
       "ralph lauren                 712\n",
       "puma                         651\n",
       "vans                         394\n",
       "new balance                  371\n",
       "reebok                       273\n",
       "adidas                       259\n",
       "jordan                       193\n",
       "superior glove works         187\n",
       "unbranded                    184\n",
       "fuse lenses                  174\n",
       "fossa apparel                174\n",
       "skechers                     164\n",
       "dickies                      154\n",
       "converse                     144\n",
       "unique bargains              142\n",
       "justin                       141\n",
       "berne                        137\n",
       "asics                        122\n",
       "crocs                        120\n",
       "national safety apparel      119\n",
       "kinco                        110\n",
       "toms                         110\n",
       "under armor                  107\n",
       "onguard                      103\n",
       "gameday boots                103\n",
       "kenneth cole                 100\n",
       "carhartt                      99\n",
       "georgia                       98\n",
       "stacy adams                   98\n",
       "                            ... \n",
       "sga                            1\n",
       "zlyc                           1\n",
       "rcs                            1\n",
       "ballcap buddy                  1\n",
       "whose lemon                    1\n",
       "alleson athletic               1\n",
       "cubavera                       1\n",
       "deadman wonderland             1\n",
       "tempur-pedic                   1\n",
       "seven color cotton             1\n",
       "walk over                      1\n",
       "randolph                       1\n",
       "c1rca                          1\n",
       "mitchell & ness                1\n",
       "pentair                        1\n",
       "otz shoes                      1\n",
       "dc comics                      1\n",
       "aristocrat homewares           1\n",
       "lyceem                         1\n",
       "iceblink                       1\n",
       "loro piana                     1\n",
       "croft & barrow (kohl's)        1\n",
       "j'colour                       1\n",
       "rlx ralph lauren               1\n",
       "acne studios                   1\n",
       "mountain gear                  1\n",
       "d555                           1\n",
       "party favors plus              1\n",
       "montblanc                      1\n",
       "snickers next generation       1\n",
       "Name: brand_clean, Length: 1633, dtype: int64"
      ]
     },
     "execution_count": 24,
     "metadata": {},
     "output_type": "execute_result"
    }
   ],
   "source": [
    "# brand names to change (note: must be certain of brand mapping fixes)\n",
    "brand_map = {\n",
    "    '3drose llc':'3drose',\n",
    "    '3n2':'3n2 sports',\n",
    "    '3m (formerly aearo)':'3m',\n",
    "    'academie gear':'academie',\n",
    "    'adidas outdoors':'adidas',\n",
    "    'adidas performance':'adidas',\n",
    "    'adidas crazy1 kobe bb shoes':'adidas',\n",
    "    'adidas crazy 8 ny knicks':'adidas',\n",
    "    'aearo':'3m',\n",
    "    'alexander mcqueen by puma':'alexander mcqueen',\n",
    "    'alexanders costumes':'alexanders',\n",
    "    'american eagle outfitters':'american eagle',\n",
    "    'and 1':'and1',\n",
    "    'augusta sportswear':'augusta',\n",
    "    'baffin inc':'baffin',\n",
    "    'berne apparel':'berne',\n",
    "    'blackhawk!':'blackhawk',\n",
    "    'boss hugo boss':'hugo boss',\n",
    "    'california costume':'california costumes',\n",
    "    'calvin klein jeans':'calvin klein',\n",
    "    'champ':'champion',\n",
    "    'cufflink aficionado':'cufflinks',\n",
    "    'cufflink inc':'cufflinks',\n",
    "    'dan post boots':'dan post',\n",
    "    'dc shoes':'dc',\n",
    "    'diamondback fitness':'diamondback',\n",
    "    'diesel black gold':'diesel',\n",
    "    'dije california':'dije',\n",
    "    'dolce e gabbana':'dolce gabbana',\n",
    "    'dolce & gabbana':'dolce gabbana',\n",
    "    'dr. martens air wair':'dr. martens',\n",
    "    'dr. martens work':'dr. martens',\n",
    "    'ellie shoes':'ellie',\n",
    "    'fitflop.':'fitflop',\n",
    "    'forever collectibles':'forever collectible',\n",
    "    'fox outdoor products':'fox outdoor',\n",
    "    'franco american novelties':'franco',\n",
    "    'ganesha handicrafts':'ganesha handicraft',\n",
    "    'ganeshahandicraft':'ganesha handicraft',\n",
    "    \"Ganesha Handicraft \\\",\\\"Clothing, Shoes & Accessories,Men's Accessories,Backpacks, Bags & Briefcases\":'ganesha handicraft',\n",
    "    'gearonic tm':'gearonic',\n",
    "    'generic':'unbranded',\n",
    "    'generic / unbranded':'unbranded',\n",
    "    'generic surplus':'surplus',\n",
    "    'genuine dickies':'dickies',\n",
    "    'georgia boot':'georgia',\n",
    "    'gifts infinity':'gifts',\n",
    "    'gola classics':'gola',\n",
    "    'handmadecart':'handmadecraft',\n",
    "    'hao_bo':'hao-bo',\n",
    "    'holloway sportswear':'holloway',\n",
    "    \"hot chilly's\":'hot chillys',\n",
    "    'hugo by hugo boss':'hugo boss',\n",
    "    'incharacter costumes':'incharacter',\n",
    "    'j`s awake':\"j's awake\",\n",
    "    'jewelrywe':'jewelryweb',\n",
    "    \"joe's\":'joes',\n",
    "    'justin boots':'justin',\n",
    "    'justin original work boots':'justin',\n",
    "    'justin original workboots':'justin',\n",
    "    'k- swiss':'k-swiss',\n",
    "    'kenneth cole new yor':'kenneth cole',\n",
    "    'kenneth cole new york':'kenneth cole',\n",
    "    'kenneth cole ny':'kenneth cole',\n",
    "    'key apparel':'key',\n",
    "    'lacrosse footwear':'lacrosse',\n",
    "    'lauren ralph lauren':'ralph lauren',\n",
    "    'levi strauss & co.':'levis',\n",
    "    'levi strauss':'levis',\n",
    "    \"levi's\":'levis',\n",
    "    \"levy's\":'levis',\n",
    "    'magid glove and safety (industrial)':'magid glove and safety',\n",
    "    'majestic glove':'majestic',\n",
    "    'mancini leather goods':'mancini leather',\n",
    "    'marc new york by andrew marc':'marc new york',\n",
    "    'marc ny':'marc new york',\n",
    "    'maui jim 142-10':'maui jim',\n",
    "    'mg:dakota':'mg',\n",
    "    'mg:gn':'mg',\n",
    "    'michael michael kors':'michael kors',\n",
    "    'micro flex':'microflex',\n",
    "    'milkoloti':'miko lotti',\n",
    "    'milwaukee electric tool':'milwaukee',\n",
    "    'minnetonka men':'minnetonka',\n",
    "    'minnetonka moccasin company, inc.':\"minnetonka\",\n",
    "    'minx nyamp44 inc':'minx ny',\n",
    "    'mln':'mlb',\n",
    "    'muck boot team j':'muck boot',\n",
    "    'muck boots':'muck boot',\n",
    "    'muckboot':'muck boot',\n",
    "    'national safety apparel inc':'national safety apparel',\n",
    "    'new balance numeric':'new balance',\n",
    "    'newbalance':'new balance',\n",
    "    'nike - kobe':'nike',\n",
    "    'nike air jordan i':'nike air jordan',\n",
    "    'nike jordan future low':'nike air jordan',\n",
    "    'nike lunarglide 7':'nike',\n",
    "    'nike sb':'nike',\n",
    "    'norcross safety':'norcross',\n",
    "    'norcross safety prod':'norcross',\n",
    "    'norcross safety products':'norcross',\n",
    "    'north safety / honeywell':'honeywell',\n",
    "    \"o'neill\":\"o'neal\",\n",
    "    'onguard industries':'onguard',\n",
    "    'original s.w.a.t.':'original swat',\n",
    "    'otto:dakota':'otto',\n",
    "    'otto:gn':'otto',\n",
    "    'palmbeach jewelry':'palm beach jewelry',\n",
    "    'pearl izumi - run':'pearl izumi',\n",
    "    'perry ellis portfolio':'perry ellis',\n",
    "    'pf-flyers':'pf flyers',\n",
    "    'polaroid sunglasses':'polaroid',\n",
    "    'polo ralph lauren golf':'polo ralph lauren',\n",
    "    'polo sport ralph lauren':'polo ralph lauren',\n",
    "    'prada sport':'prada',\n",
    "    'principle plastics inc':'principle plastics',\n",
    "    'propet':'proper',\n",
    "    'ralph lauren black label':'ralph lauren',\n",
    "    'ralph lauren polo':'ralph lauren',\n",
    "    'ralph lauren purple label':'ralph lauren',\n",
    "    'ralph lauren rlx':'ralph lauren',\n",
    "    'ralph lauren rrl':'ralph lauren',\n",
    "    'ralph lauren yacht':'ralph lauren',\n",
    "    'ranger by honeywell':'ranger',\n",
    "    'ray-ban':'rayban',\n",
    "    'ray ban':'rayban',\n",
    "    'reaction kenneth cole':'kenneth cole reaction',\n",
    "    'red wing heritage':'red wing',\n",
    "    'red wing shoes':'red wing',\n",
    "    'reebok nfl equipment':'reebok',\n",
    "    'reef footwear':'reef',\n",
    "    'ridge footwear':'ridge',\n",
    "    'ridge outdoors':'ridge',\n",
    "    'river city clocks':'river city',\n",
    "    'river city garments':'river city',\n",
    "    'rockport works':'rockport',\n",
    "    'rockport xcs':'rockport',\n",
    "    'salomon, salomon':'salomon',\n",
    "    'serengeti eyewear':'serengeti',\n",
    "    'signature by levi strauss & co.':'levis',\n",
    "    'signature by levi strauss &amp; co':'levis',\n",
    "    'slipperooz by deer stags':'slipperooz',\n",
    "    \"smiffy's\":'smiffys',\n",
    "    'solo, solo':'solo',\n",
    "    'sondooongmart':'sondoongmart',\n",
    "    'sperry top sider':'sperry',\n",
    "    'sperry top-sider':'sperry',\n",
    "    'team beans, l.l.c':'team beans',\n",
    "    'the original muck boot co.':'the original muck boot company',\n",
    "    'the original swat footwear co':'the original swat footwear',\n",
    "    'timberland boot company':'timberland',\n",
    "    'tingley rubber corp.':'tingley rubber',\n",
    "    'toms footwear':'toms',\n",
    "    'tony lama boot co.':'tony lama',\n",
    "    'totes isotoner':'totes',\n",
    "    'u.s polo assn.':'u.s. polo assn.',\n",
    "    'u.s. polo assn. classic':'u.s. polo assn.',\n",
    "    'u.s. polo association':'u.s. polo assn.',\n",
    "    'ugg australia':'ugg',\n",
    "    'ugg mens':'ugg',\n",
    "    'unbrand':'unbranded',\n",
    "    'unbranded/generic':'unbranded',\n",
    "    'under armour':'under armor',\n",
    "    'under armour outerwear':'under armor',\n",
    "    'us polo':'u.s. polo assn.',\n",
    "    'us polo assn':'u.s. polo assn.',\n",
    "    'vans av78':'vans',\n",
    "    'vans footwear':'vans',\n",
    "    'vasque footwear':'vasque',\n",
    "    'venum':'venom',\n",
    "    'vionic by orthaheel':'vionic',\n",
    "    'vionic with orthaheel technology':'vionic',\n",
    "    'vogue code':'vogue',\n",
    "    'vonzipper':'von zipper',\n",
    "    'walleva (not an oakley product)':'walleva',\n",
    "    'westchester':'west chester',\n",
    "    'wings & horns':'wings + horns',\n",
    "    \"wood n' stream\":'wood n stream',\n",
    "    'wrangler riggs':'wrangler',\n",
    "    'zoot sports':'zoot'\n",
    "}\n",
    "\n",
    "data1['brand_clean'] = data1.brand.replace(brand_map)\n",
    "\n",
    "data1['brand_clean'].value_counts()"
   ]
  },
  {
   "cell_type": "code",
   "execution_count": 25,
   "metadata": {},
   "outputs": [
    {
     "data": {
      "text/plain": [
       "(18890, 39)"
      ]
     },
     "execution_count": 25,
     "metadata": {},
     "output_type": "execute_result"
    }
   ],
   "source": [
    "index = data1['brand'].isna()\n",
    "data1 = data1[-index]\n",
    "data1.shape"
   ]
  },
  {
   "cell_type": "markdown",
   "metadata": {},
   "source": [
    "# 3. Feature Engineering"
   ]
  },
  {
   "cell_type": "markdown",
   "metadata": {},
   "source": [
    "For feature engineering, I'll attempt to create additional features from the existing data that I believe will assist in my model's performance. Some additional cleaning and/or imputing may be required along the way."
   ]
  },
  {
   "cell_type": "markdown",
   "metadata": {},
   "source": [
    "### freeShipping Flag\n",
    "- 1 for offers free shipping and/or returns, 0 for doesn't; 2 for 'missing' flag"
   ]
  },
  {
   "cell_type": "markdown",
   "metadata": {},
   "source": [
    "_Note: I've lumped free Shipping and free Returns together, could be improved on in 'Future Improvements'._"
   ]
  },
  {
   "cell_type": "code",
   "execution_count": 26,
   "metadata": {},
   "outputs": [
    {
     "data": {
      "text/plain": [
       "2    13468\n",
       "1     3799\n",
       "0     1623\n",
       "Name: freeShipping, dtype: int64"
      ]
     },
     "execution_count": 26,
     "metadata": {},
     "output_type": "execute_result"
    }
   ],
   "source": [
    "# create categorical variable for free shipping or not; include a missing flag\n",
    "data1['prices.shipping'] = data1['prices.shipping'].str.strip().str.lower()\n",
    "\n",
    "data1['prices.shipping'] = data1['prices.shipping'].fillna('missing')\n",
    "\n",
    "conditions = [\n",
    "    data1['prices.shipping'] == 'missing',\n",
    "    data1['prices.shipping'].str.contains('free')]\n",
    "choices = [2,1]\n",
    "data1['freeShipping'] = np.select(conditions, choices, default=0)\n",
    "\n",
    "data1['freeShipping'].value_counts()"
   ]
  },
  {
   "cell_type": "markdown",
   "metadata": {},
   "source": [
    "### isBid Flag\n",
    "- 1 for whether the purchase was a winning bid, 0 for wasn't; 2 for 'missing' flag"
   ]
  },
  {
   "cell_type": "code",
   "execution_count": 27,
   "metadata": {},
   "outputs": [
    {
     "data": {
      "text/plain": [
       "2    13026\n",
       "0     4618\n",
       "1     1246\n",
       "Name: isBid, dtype: int64"
      ]
     },
     "execution_count": 27,
     "metadata": {},
     "output_type": "execute_result"
    }
   ],
   "source": [
    "# create categorical variable for winning bid or not; include a missing flag\n",
    "data1['prices.offer'] = data1['prices.offer'].str.strip().str.lower()\n",
    "\n",
    "data1['prices.offer'] = data1['prices.offer'].fillna('missing')\n",
    "\n",
    "conditions = [\n",
    "    data1['prices.offer'] == 'missing',\n",
    "    data1['prices.offer'].str.contains('winning bid')]\n",
    "choices = [2,1]\n",
    "data1['isBid'] = np.select(conditions, choices, default=0)\n",
    "\n",
    "data1['isBid'].value_counts()"
   ]
  },
  {
   "cell_type": "markdown",
   "metadata": {},
   "source": [
    "### isNew Flag\n",
    "- 1 for whether the purchase was new, 0 for wasn't; 2 for 'missing' flag"
   ]
  },
  {
   "cell_type": "code",
   "execution_count": 28,
   "metadata": {},
   "outputs": [
    {
     "data": {
      "text/plain": [
       "new                 12013\n",
       "missing              6664\n",
       "used                  164\n",
       "new with defects       49\n",
       "Name: isNew, dtype: int64"
      ]
     },
     "execution_count": 28,
     "metadata": {},
     "output_type": "execute_result"
    }
   ],
   "source": [
    "# create categorical variable for isNew or not; include a missing flag\n",
    "data1['prices.condition'] = data1['prices.condition'].str.strip().str.lower()\n",
    "\n",
    "index = data1['prices.condition'] == 'amazon.com'\n",
    "data1 = data1[-index]\n",
    "\n",
    "data1['isNew'] = data1['prices.condition'].fillna('missing')\n",
    "\n",
    "condition_map = {\n",
    "    'brand new':'new',\n",
    "    'new with box':'new',\n",
    "    'new with tags':'new',\n",
    "    'new without box':'new',\n",
    "    'new without tags':'new',\n",
    "    'pre-owned':'used'\n",
    "}\n",
    "\n",
    "data1['isNew'] = data1['isNew'].replace(condition_map)\n",
    "\n",
    "data1['isNew'].value_counts()"
   ]
  },
  {
   "cell_type": "markdown",
   "metadata": {},
   "source": [
    "### withBox Flag\n",
    "- 1 for whether the purchase had a box, 0 for didn't; 2 for 'missing' flag"
   ]
  },
  {
   "cell_type": "code",
   "execution_count": 29,
   "metadata": {},
   "outputs": [
    {
     "data": {
      "text/plain": [
       "missing        17468\n",
       "with_box        1063\n",
       "without_box      359\n",
       "Name: withBox, dtype: int64"
      ]
     },
     "execution_count": 29,
     "metadata": {},
     "output_type": "execute_result"
    }
   ],
   "source": [
    "data1['withBox'] = data1['prices.condition'].fillna('missing')\n",
    "\n",
    "conditions = [\n",
    "    data1['withBox'] == 'missing',\n",
    "    data1['withBox'].str.contains('with box'),\n",
    "    data1['withBox'].str.contains('without box')\n",
    "]\n",
    "choices = ['missing','with_box','without_box']\n",
    "data1['withBox'] = np.select(conditions, choices, default='missing')\n",
    "\n",
    "data1['withBox'].value_counts()"
   ]
  },
  {
   "cell_type": "markdown",
   "metadata": {},
   "source": [
    "### withTags Flag\n",
    "- 1 for whether the purchase had tags, 0 for didn't; 2 for 'missing' flag"
   ]
  },
  {
   "cell_type": "code",
   "execution_count": 30,
   "metadata": {},
   "outputs": [
    {
     "data": {
      "text/plain": [
       "missing         17064\n",
       "with_tags        1683\n",
       "without_tags      143\n",
       "Name: withTags, dtype: int64"
      ]
     },
     "execution_count": 30,
     "metadata": {},
     "output_type": "execute_result"
    }
   ],
   "source": [
    "data1['withTags'] = data1['prices.condition'].fillna('missing')\n",
    "\n",
    "conditions = [\n",
    "    data1['withTags'] == 'missing',\n",
    "    data1['withTags'].str.contains('with tags'),\n",
    "    data1['withTags'].str.contains('without tags')\n",
    "]\n",
    "choices = ['missing','with_tags','without_tags']\n",
    "data1['withTags'] = np.select(conditions, choices, default='missing')\n",
    "\n",
    "data1['withTags'].value_counts()"
   ]
  },
  {
   "cell_type": "markdown",
   "metadata": {},
   "source": [
    "### Datetime Features\n",
    "Create the following new features from the 'dateSeen' column (i.e. when a particular price was seen):\n",
    "- duration_since_dateSeen_month: _Duration in months since a particular price (row) was seen._\n",
    "- dateSeen_month: _Month when a particular price (row) was seen._\n",
    "- dateSeen_year: _Year when a particular price (row) was seen._"
   ]
  },
  {
   "cell_type": "code",
   "execution_count": 31,
   "metadata": {},
   "outputs": [
    {
     "data": {
      "text/html": [
       "<div>\n",
       "<style scoped>\n",
       "    .dataframe tbody tr th:only-of-type {\n",
       "        vertical-align: middle;\n",
       "    }\n",
       "\n",
       "    .dataframe tbody tr th {\n",
       "        vertical-align: top;\n",
       "    }\n",
       "\n",
       "    .dataframe thead th {\n",
       "        text-align: right;\n",
       "    }\n",
       "</style>\n",
       "<table border=\"1\" class=\"dataframe\">\n",
       "  <thead>\n",
       "    <tr style=\"text-align: right;\">\n",
       "      <th></th>\n",
       "      <th>id</th>\n",
       "      <th>asins</th>\n",
       "      <th>brand</th>\n",
       "      <th>categories</th>\n",
       "      <th>colors</th>\n",
       "      <th>descriptions</th>\n",
       "      <th>dimension</th>\n",
       "      <th>ean</th>\n",
       "      <th>features</th>\n",
       "      <th>imageURLs</th>\n",
       "      <th>...</th>\n",
       "      <th>dateSeen</th>\n",
       "      <th>brand_clean</th>\n",
       "      <th>freeShipping</th>\n",
       "      <th>isBid</th>\n",
       "      <th>isNew</th>\n",
       "      <th>withBox</th>\n",
       "      <th>withTags</th>\n",
       "      <th>duration_since_dateSeen_month</th>\n",
       "      <th>dateSeen_month</th>\n",
       "      <th>dateSeen_year</th>\n",
       "    </tr>\n",
       "  </thead>\n",
       "  <tbody>\n",
       "    <tr>\n",
       "      <th>0</th>\n",
       "      <td>AVpfHrJ6ilAPnD_xVXOI</td>\n",
       "      <td>NaN</td>\n",
       "      <td>josmo</td>\n",
       "      <td>clothing,shoes,men's shoes,all men's shoes</td>\n",
       "      <td>NaN</td>\n",
       "      <td>[{\"dateSeen\":[\"2016-11-07T00:45:12Z\"],\"sourceU...</td>\n",
       "      <td>NaN</td>\n",
       "      <td>0699302044036</td>\n",
       "      <td>[{\"key\":\"Gender\",\"value\":[\"Men\"]},{\"key\":\"Shoe...</td>\n",
       "      <td>https://i5.walmartimages.com/asr/13ac3d61-003c...</td>\n",
       "      <td>...</td>\n",
       "      <td>2016-11-05</td>\n",
       "      <td>josmo</td>\n",
       "      <td>2</td>\n",
       "      <td>0</td>\n",
       "      <td>missing</td>\n",
       "      <td>missing</td>\n",
       "      <td>missing</td>\n",
       "      <td>33.534298</td>\n",
       "      <td>11</td>\n",
       "      <td>2016</td>\n",
       "    </tr>\n",
       "    <tr>\n",
       "      <th>1</th>\n",
       "      <td>AVpfHrJ6ilAPnD_xVXOI</td>\n",
       "      <td>NaN</td>\n",
       "      <td>josmo</td>\n",
       "      <td>clothing,shoes,men's shoes,all men's shoes</td>\n",
       "      <td>NaN</td>\n",
       "      <td>[{\"dateSeen\":[\"2016-11-07T00:45:12Z\"],\"sourceU...</td>\n",
       "      <td>NaN</td>\n",
       "      <td>0699302044036</td>\n",
       "      <td>[{\"key\":\"Gender\",\"value\":[\"Men\"]},{\"key\":\"Shoe...</td>\n",
       "      <td>https://i5.walmartimages.com/asr/13ac3d61-003c...</td>\n",
       "      <td>...</td>\n",
       "      <td>2016-11-05</td>\n",
       "      <td>josmo</td>\n",
       "      <td>2</td>\n",
       "      <td>0</td>\n",
       "      <td>new</td>\n",
       "      <td>missing</td>\n",
       "      <td>missing</td>\n",
       "      <td>33.534298</td>\n",
       "      <td>11</td>\n",
       "      <td>2016</td>\n",
       "    </tr>\n",
       "    <tr>\n",
       "      <th>2</th>\n",
       "      <td>AVpfHsWP1cnluZ0-eVZ7</td>\n",
       "      <td>NaN</td>\n",
       "      <td>servus by honeywell</td>\n",
       "      <td>all men's shoes,shoes,men's shoes,clothing</td>\n",
       "      <td>NaN</td>\n",
       "      <td>[{\"dateSeen\":[\"2016-07-09T20:26:48Z\"],\"sourceU...</td>\n",
       "      <td>NaN</td>\n",
       "      <td>NaN</td>\n",
       "      <td>[{\"key\":\"Gender\",\"value\":[\"Men\"]},{\"key\":\"Colo...</td>\n",
       "      <td>http://i5.walmartimages.com/dfw/dce07b8c-5844/...</td>\n",
       "      <td>...</td>\n",
       "      <td>2016-03-08</td>\n",
       "      <td>servus by honeywell</td>\n",
       "      <td>2</td>\n",
       "      <td>2</td>\n",
       "      <td>new</td>\n",
       "      <td>missing</td>\n",
       "      <td>missing</td>\n",
       "      <td>41.485180</td>\n",
       "      <td>3</td>\n",
       "      <td>2016</td>\n",
       "    </tr>\n",
       "    <tr>\n",
       "      <th>3</th>\n",
       "      <td>AVpfHsWP1cnluZ0-eVZ7</td>\n",
       "      <td>NaN</td>\n",
       "      <td>servus by honeywell</td>\n",
       "      <td>all men's shoes,shoes,men's shoes,clothing</td>\n",
       "      <td>NaN</td>\n",
       "      <td>[{\"dateSeen\":[\"2016-07-09T20:26:48Z\"],\"sourceU...</td>\n",
       "      <td>NaN</td>\n",
       "      <td>NaN</td>\n",
       "      <td>[{\"key\":\"Gender\",\"value\":[\"Men\"]},{\"key\":\"Colo...</td>\n",
       "      <td>http://i5.walmartimages.com/dfw/dce07b8c-5844/...</td>\n",
       "      <td>...</td>\n",
       "      <td>2015-11-30</td>\n",
       "      <td>servus by honeywell</td>\n",
       "      <td>2</td>\n",
       "      <td>2</td>\n",
       "      <td>new</td>\n",
       "      <td>missing</td>\n",
       "      <td>missing</td>\n",
       "      <td>44.737814</td>\n",
       "      <td>11</td>\n",
       "      <td>2015</td>\n",
       "    </tr>\n",
       "    <tr>\n",
       "      <th>4</th>\n",
       "      <td>AVpfHsWP1cnluZ0-eVZ7</td>\n",
       "      <td>NaN</td>\n",
       "      <td>servus by honeywell</td>\n",
       "      <td>all men's shoes,shoes,men's shoes,clothing</td>\n",
       "      <td>NaN</td>\n",
       "      <td>[{\"dateSeen\":[\"2016-07-09T20:26:48Z\"],\"sourceU...</td>\n",
       "      <td>NaN</td>\n",
       "      <td>NaN</td>\n",
       "      <td>[{\"key\":\"Gender\",\"value\":[\"Men\"]},{\"key\":\"Colo...</td>\n",
       "      <td>http://i5.walmartimages.com/dfw/dce07b8c-5844/...</td>\n",
       "      <td>...</td>\n",
       "      <td>2016-04-29</td>\n",
       "      <td>servus by honeywell</td>\n",
       "      <td>2</td>\n",
       "      <td>2</td>\n",
       "      <td>new</td>\n",
       "      <td>missing</td>\n",
       "      <td>missing</td>\n",
       "      <td>39.776726</td>\n",
       "      <td>4</td>\n",
       "      <td>2016</td>\n",
       "    </tr>\n",
       "  </tbody>\n",
       "</table>\n",
       "<p>5 rows × 47 columns</p>\n",
       "</div>"
      ],
      "text/plain": [
       "                     id asins                brand  \\\n",
       "0  AVpfHrJ6ilAPnD_xVXOI   NaN                josmo   \n",
       "1  AVpfHrJ6ilAPnD_xVXOI   NaN                josmo   \n",
       "2  AVpfHsWP1cnluZ0-eVZ7   NaN  servus by honeywell   \n",
       "3  AVpfHsWP1cnluZ0-eVZ7   NaN  servus by honeywell   \n",
       "4  AVpfHsWP1cnluZ0-eVZ7   NaN  servus by honeywell   \n",
       "\n",
       "                                   categories colors  \\\n",
       "0  clothing,shoes,men's shoes,all men's shoes    NaN   \n",
       "1  clothing,shoes,men's shoes,all men's shoes    NaN   \n",
       "2  all men's shoes,shoes,men's shoes,clothing    NaN   \n",
       "3  all men's shoes,shoes,men's shoes,clothing    NaN   \n",
       "4  all men's shoes,shoes,men's shoes,clothing    NaN   \n",
       "\n",
       "                                        descriptions dimension            ean  \\\n",
       "0  [{\"dateSeen\":[\"2016-11-07T00:45:12Z\"],\"sourceU...       NaN  0699302044036   \n",
       "1  [{\"dateSeen\":[\"2016-11-07T00:45:12Z\"],\"sourceU...       NaN  0699302044036   \n",
       "2  [{\"dateSeen\":[\"2016-07-09T20:26:48Z\"],\"sourceU...       NaN            NaN   \n",
       "3  [{\"dateSeen\":[\"2016-07-09T20:26:48Z\"],\"sourceU...       NaN            NaN   \n",
       "4  [{\"dateSeen\":[\"2016-07-09T20:26:48Z\"],\"sourceU...       NaN            NaN   \n",
       "\n",
       "                                            features  \\\n",
       "0  [{\"key\":\"Gender\",\"value\":[\"Men\"]},{\"key\":\"Shoe...   \n",
       "1  [{\"key\":\"Gender\",\"value\":[\"Men\"]},{\"key\":\"Shoe...   \n",
       "2  [{\"key\":\"Gender\",\"value\":[\"Men\"]},{\"key\":\"Colo...   \n",
       "3  [{\"key\":\"Gender\",\"value\":[\"Men\"]},{\"key\":\"Colo...   \n",
       "4  [{\"key\":\"Gender\",\"value\":[\"Men\"]},{\"key\":\"Colo...   \n",
       "\n",
       "                                           imageURLs      ...        dateSeen  \\\n",
       "0  https://i5.walmartimages.com/asr/13ac3d61-003c...      ...      2016-11-05   \n",
       "1  https://i5.walmartimages.com/asr/13ac3d61-003c...      ...      2016-11-05   \n",
       "2  http://i5.walmartimages.com/dfw/dce07b8c-5844/...      ...      2016-03-08   \n",
       "3  http://i5.walmartimages.com/dfw/dce07b8c-5844/...      ...      2015-11-30   \n",
       "4  http://i5.walmartimages.com/dfw/dce07b8c-5844/...      ...      2016-04-29   \n",
       "\n",
       "           brand_clean freeShipping isBid    isNew  withBox  withTags  \\\n",
       "0                josmo            2     0  missing  missing   missing   \n",
       "1                josmo            2     0      new  missing   missing   \n",
       "2  servus by honeywell            2     2      new  missing   missing   \n",
       "3  servus by honeywell            2     2      new  missing   missing   \n",
       "4  servus by honeywell            2     2      new  missing   missing   \n",
       "\n",
       "  duration_since_dateSeen_month dateSeen_month dateSeen_year  \n",
       "0                     33.534298             11          2016  \n",
       "1                     33.534298             11          2016  \n",
       "2                     41.485180              3          2016  \n",
       "3                     44.737814             11          2015  \n",
       "4                     39.776726              4          2016  \n",
       "\n",
       "[5 rows x 47 columns]"
      ]
     },
     "execution_count": 31,
     "metadata": {},
     "output_type": "execute_result"
    }
   ],
   "source": [
    "# create new Date Features\n",
    "data1 = data1.assign(\n",
    "    duration_since_dateSeen_month = ((dt.datetime.now() - data1.dateSeen)/np.timedelta64(1, 'M')),\n",
    "    dateSeen_month = data1.dateSeen.dt.month,\n",
    "    dateSeen_year = data1.dateSeen.dt.year\n",
    ")\n",
    "data1.head()"
   ]
  },
  {
   "cell_type": "markdown",
   "metadata": {},
   "source": [
    "### URL Features"
   ]
  },
  {
   "cell_type": "markdown",
   "metadata": {},
   "source": [
    "Using basic string manipulations, I want to see whether I can extract some meaningful categorical labels for websites on which the stored prices were seen.\n",
    "- A discount store like Walmart or a bidding site like eBay (often used goods) might price products lower than a luxury fashion retailer like SSENSE.\n",
    "- I'm also curious to see just how many different sources (base URLs) are being scraped for prices."
   ]
  },
  {
   "cell_type": "code",
   "execution_count": 32,
   "metadata": {},
   "outputs": [
    {
     "data": {
      "text/plain": [
       "walmart                                                         8648\n",
       "ebay                                                            3578\n",
       "sears                                                           3471\n",
       "amazon                                                          1916\n",
       "ralphlauren                                                      674\n",
       "sportsauthority                                                  169\n",
       "nordstrom                                                        110\n",
       "newegg                                                            68\n",
       "macys                                                             58\n",
       "shoes                                                             48\n",
       "puma                                                              40\n",
       "gandermountain                                                    33\n",
       "kmart                                                             20\n",
       "overstock                                                         17\n",
       "sunglassesshop                                                    16\n",
       "lowes                                                             10\n",
       "homedepot                                                          7\n",
       "calvinklein                                                        4\n",
       "missing                                                            2\n",
       " Please use a view that flattens this field to see this data       1\n",
       "Name: URL_domain_clean, dtype: int64"
      ]
     },
     "execution_count": 32,
     "metadata": {},
     "output_type": "execute_result"
    }
   ],
   "source": [
    "data1['sourceURLs'] = data1['sourceURLs'].fillna('missing')\n",
    "data1['prices.sourceURLs'] = data1['prices.sourceURLs'].fillna('missing')\n",
    "\n",
    "conditions = [\n",
    "    data1['sourceURLs'] != 'missing',\n",
    "    data1['prices.sourceURLs'] != 'missing']\n",
    "choices = [data1['sourceURLs'],data1['prices.sourceURLs']]\n",
    "data1['URL_clean'] = np.select(conditions, choices, default='missing')\n",
    "\n",
    "data1['URL_domain_clean'] = data1['URL_clean'].apply(lambda url: tldextract.extract(url).domain)\n",
    "data1['URL_domain_clean'].value_counts()"
   ]
  },
  {
   "cell_type": "code",
   "execution_count": 33,
   "metadata": {},
   "outputs": [],
   "source": [
    "# upon close inspection, remove sunglasses anomalies\n",
    "index = data1['URL_domain_clean'] == 'sunglassesshop'\n",
    "data1 = data1[-index]"
   ]
  },
  {
   "cell_type": "code",
   "execution_count": 34,
   "metadata": {},
   "outputs": [
    {
     "data": {
      "text/html": [
       "<div>\n",
       "<style scoped>\n",
       "    .dataframe tbody tr th:only-of-type {\n",
       "        vertical-align: middle;\n",
       "    }\n",
       "\n",
       "    .dataframe tbody tr th {\n",
       "        vertical-align: top;\n",
       "    }\n",
       "\n",
       "    .dataframe thead th {\n",
       "        text-align: right;\n",
       "    }\n",
       "</style>\n",
       "<table border=\"1\" class=\"dataframe\">\n",
       "  <thead>\n",
       "    <tr style=\"text-align: right;\">\n",
       "      <th></th>\n",
       "      <th>id</th>\n",
       "      <th>asins</th>\n",
       "      <th>brand</th>\n",
       "      <th>categories</th>\n",
       "      <th>colors</th>\n",
       "      <th>descriptions</th>\n",
       "      <th>dimension</th>\n",
       "      <th>ean</th>\n",
       "      <th>features</th>\n",
       "      <th>imageURLs</th>\n",
       "      <th>...</th>\n",
       "      <th>freeShipping</th>\n",
       "      <th>isBid</th>\n",
       "      <th>isNew</th>\n",
       "      <th>withBox</th>\n",
       "      <th>withTags</th>\n",
       "      <th>duration_since_dateSeen_month</th>\n",
       "      <th>dateSeen_month</th>\n",
       "      <th>dateSeen_year</th>\n",
       "      <th>URL_clean</th>\n",
       "      <th>URL_domain_clean</th>\n",
       "    </tr>\n",
       "  </thead>\n",
       "  <tbody>\n",
       "    <tr>\n",
       "      <th>1390</th>\n",
       "      <td>AVpfCauiilAPnD_xTlFQ</td>\n",
       "      <td>B009E2JPBK,B009E2JK8S</td>\n",
       "      <td>burberry</td>\n",
       "      <td>accessories,sunglasses,men,shoes,clothing, sho...</td>\n",
       "      <td>NaN</td>\n",
       "      <td>NaN</td>\n",
       "      <td>NaN</td>\n",
       "      <td>NaN</td>\n",
       "      <td>NaN</td>\n",
       "      <td>http://ecx.images-amazon.com/images/I/31PBPB8N...</td>\n",
       "      <td>...</td>\n",
       "      <td>0</td>\n",
       "      <td>2</td>\n",
       "      <td>missing</td>\n",
       "      <td>missing</td>\n",
       "      <td>missing</td>\n",
       "      <td>41.419471</td>\n",
       "      <td>3</td>\n",
       "      <td>2016</td>\n",
       "      <td>missing</td>\n",
       "      <td>missing</td>\n",
       "    </tr>\n",
       "    <tr>\n",
       "      <th>1392</th>\n",
       "      <td>AVpfCauiilAPnD_xTlFQ</td>\n",
       "      <td>B009E2JPBK,B009E2JK8S</td>\n",
       "      <td>burberry</td>\n",
       "      <td>accessories,sunglasses,men,shoes,clothing, sho...</td>\n",
       "      <td>NaN</td>\n",
       "      <td>NaN</td>\n",
       "      <td>NaN</td>\n",
       "      <td>NaN</td>\n",
       "      <td>NaN</td>\n",
       "      <td>http://ecx.images-amazon.com/images/I/31PBPB8N...</td>\n",
       "      <td>...</td>\n",
       "      <td>0</td>\n",
       "      <td>2</td>\n",
       "      <td>missing</td>\n",
       "      <td>missing</td>\n",
       "      <td>missing</td>\n",
       "      <td>41.386616</td>\n",
       "      <td>3</td>\n",
       "      <td>2016</td>\n",
       "      <td>missing</td>\n",
       "      <td>missing</td>\n",
       "    </tr>\n",
       "  </tbody>\n",
       "</table>\n",
       "<p>2 rows × 49 columns</p>\n",
       "</div>"
      ],
      "text/plain": [
       "                        id                  asins     brand  \\\n",
       "1390  AVpfCauiilAPnD_xTlFQ  B009E2JPBK,B009E2JK8S  burberry   \n",
       "1392  AVpfCauiilAPnD_xTlFQ  B009E2JPBK,B009E2JK8S  burberry   \n",
       "\n",
       "                                             categories colors descriptions  \\\n",
       "1390  accessories,sunglasses,men,shoes,clothing, sho...    NaN          NaN   \n",
       "1392  accessories,sunglasses,men,shoes,clothing, sho...    NaN          NaN   \n",
       "\n",
       "     dimension  ean features  \\\n",
       "1390       NaN  NaN      NaN   \n",
       "1392       NaN  NaN      NaN   \n",
       "\n",
       "                                              imageURLs       ...         \\\n",
       "1390  http://ecx.images-amazon.com/images/I/31PBPB8N...       ...          \n",
       "1392  http://ecx.images-amazon.com/images/I/31PBPB8N...       ...          \n",
       "\n",
       "     freeShipping isBid    isNew  withBox withTags  \\\n",
       "1390            0     2  missing  missing  missing   \n",
       "1392            0     2  missing  missing  missing   \n",
       "\n",
       "      duration_since_dateSeen_month  dateSeen_month dateSeen_year URL_clean  \\\n",
       "1390                      41.419471               3          2016   missing   \n",
       "1392                      41.386616               3          2016   missing   \n",
       "\n",
       "     URL_domain_clean  \n",
       "1390          missing  \n",
       "1392          missing  \n",
       "\n",
       "[2 rows x 49 columns]"
      ]
     },
     "execution_count": 34,
     "metadata": {},
     "output_type": "execute_result"
    }
   ],
   "source": [
    "index = data1['URL_domain_clean'] == 'missing'\n",
    "data1[index]"
   ]
  },
  {
   "cell_type": "markdown",
   "metadata": {},
   "source": [
    "Since both missing URLs are Burberry brand products, let's see what domain sells the most Burberry brand (i.e. mode)."
   ]
  },
  {
   "cell_type": "code",
   "execution_count": 35,
   "metadata": {},
   "outputs": [
    {
     "data": {
      "text/plain": [
       "amazon     32\n",
       "missing     2\n",
       "ebay        1\n",
       "Name: URL_domain_clean, dtype: int64"
      ]
     },
     "execution_count": 35,
     "metadata": {},
     "output_type": "execute_result"
    }
   ],
   "source": [
    "index = data1['brand'] == 'burberry'\n",
    "data1[index]['URL_domain_clean'].value_counts()"
   ]
  },
  {
   "cell_type": "code",
   "execution_count": 36,
   "metadata": {},
   "outputs": [],
   "source": [
    "# replace the missing URL domain with the mode for brand 'Burberry'\n",
    "URL_map = {\n",
    "    'missing':'amazon'\n",
    "}\n",
    "data1['URL_domain_clean'] = data1['URL_domain_clean'].replace(URL_map)"
   ]
  },
  {
   "cell_type": "markdown",
   "metadata": {},
   "source": [
    "Out of curiosity, let's see what domains have 'winning bids' for prices."
   ]
  },
  {
   "cell_type": "code",
   "execution_count": 37,
   "metadata": {},
   "outputs": [
    {
     "data": {
      "text/plain": [
       "ebay       1215\n",
       "walmart      27\n",
       "sears         2\n",
       "amazon        2\n",
       "Name: URL_domain_clean, dtype: int64"
      ]
     },
     "execution_count": 37,
     "metadata": {},
     "output_type": "execute_result"
    }
   ],
   "source": [
    "# check what websites you can bid on\n",
    "cond_one = data1['isBid'] == 1\n",
    "data1[cond_one]['URL_domain_clean'].value_counts()"
   ]
  },
  {
   "cell_type": "markdown",
   "metadata": {},
   "source": [
    "As expected, most of the 'winning bid' prices were on eBay. Unsure of whether the rest are just anomalous, but will leave them in for the time being (another 'Future Improvement' to investigate)."
   ]
  },
  {
   "cell_type": "markdown",
   "metadata": {},
   "source": [
    "### Currency (conversion)"
   ]
  },
  {
   "cell_type": "markdown",
   "metadata": {},
   "source": [
    "For this analysis, we will convert all prices to USD - i.e. use USD price as target variable.\n",
    "- Alternative would be to predict prices in each currency, at which point the target variable would be imbalanced in the dataset since there is an overwhelming majority of USD price data points in the dataset. (Added to 'Future Improvements' section.)"
   ]
  },
  {
   "cell_type": "code",
   "execution_count": 38,
   "metadata": {},
   "outputs": [],
   "source": [
    "from currency_converter import CurrencyConverter\n",
    "EUR = CurrencyConverter().convert(1, currency= 'EUR', new_currency= 'USD');\n",
    "CAD = CurrencyConverter().convert(1, currency= 'CAD', new_currency= 'USD');\n",
    "AUD = CurrencyConverter().convert(1, currency= 'AUD', new_currency= 'USD');\n",
    "GBP = CurrencyConverter().convert(1, currency= 'GBP', new_currency= 'USD');\n",
    "\n",
    "# just to have a conversion column\n",
    "data1['conversion'] = pd.DataFrame(np.ones(data1.shape[1]))\n",
    "for index, row in data1.iterrows(): \n",
    "    if (data1['prices.currency'][index]=='EUR'): data1['conversion']= EUR\n",
    "    if (data1['prices.currency'][index]=='CAD'): data1['conversion']= CAD\n",
    "    if (data1['prices.currency'][index]=='AUD'): data1['conversion']= AUD\n",
    "    if (data1['prices.currency'][index]=='GBP'): data1['conversion']= GBP"
   ]
  },
  {
   "cell_type": "code",
   "execution_count": 39,
   "metadata": {},
   "outputs": [
    {
     "data": {
      "text/plain": [
       "'1.1209,0.7434009815625414,0.7039944730561486,1.2951643653590617'"
      ]
     },
     "execution_count": 39,
     "metadata": {},
     "output_type": "execute_result"
    }
   ],
   "source": [
    "f\"{EUR},{CAD},{AUD},{GBP}\""
   ]
  },
  {
   "cell_type": "code",
   "execution_count": 40,
   "metadata": {},
   "outputs": [],
   "source": [
    "data1['prices.amountMin_converted'] = data1['prices.amountMin'].copy()\n",
    "data1['prices.amountMax_converted'] = data1['prices.amountMax'].copy()\n",
    "\n",
    "\n",
    "data1.loc[data1['prices.currency']=='EUR', 'prices.amountMin_converted'] = data1['prices.amountMin']*EUR\n",
    "data1.loc[data1['prices.currency']=='EUR', 'prices.amountMax_converted'] = data1['prices.amountMax']*EUR\n",
    "data1.loc[data1['prices.currency']=='CAD', 'prices.amountMin_converted'] = data1['prices.amountMin']*CAD\n",
    "data1.loc[data1['prices.currency']=='CAD', 'prices.amountMax_converted'] = data1['prices.amountMax']*CAD\n",
    "data1.loc[data1['prices.currency']=='AUD', 'prices.amountMin_converted'] = data1['prices.amountMin']*AUD\n",
    "data1.loc[data1['prices.currency']=='AUD', 'prices.amountMax_converted'] = data1['prices.amountMax']*AUD\n",
    "data1.loc[data1['prices.currency']=='GBP', 'prices.amountMin_converted'] = data1['prices.amountMin']*GBP\n",
    "data1.loc[data1['prices.currency']=='GBP', 'prices.amountMax_converted'] = data1['prices.amountMax']*GBP"
   ]
  },
  {
   "cell_type": "markdown",
   "metadata": {},
   "source": [
    "# 4. Exploratory Data Analysis"
   ]
  },
  {
   "cell_type": "markdown",
   "metadata": {},
   "source": [
    "Note that the EDA for this Notebook was performed before (as well as in tandem with) the previous Feature Engineering step. I found myself cycling between steps 2, 3 and 4, which is fairly common place."
   ]
  },
  {
   "cell_type": "markdown",
   "metadata": {},
   "source": [
    "### Temporal Exploration"
   ]
  },
  {
   "cell_type": "code",
   "execution_count": 41,
   "metadata": {},
   "outputs": [
    {
     "name": "stdout",
     "output_type": "stream",
     "text": [
      "These are the following counts by year:\n",
      "   year  count\n",
      "3  2014     27\n",
      "2  2015   2505\n",
      "0  2016  13049\n",
      "1  2017   3293\n"
     ]
    },
    {
     "data": {
      "text/plain": [
       "<BarContainer object of 4 artists>"
      ]
     },
     "execution_count": 41,
     "metadata": {},
     "output_type": "execute_result"
    },
    {
     "data": {
      "image/png": "[encoded data removed]",
      "text/plain": [
       "<Figure size 432x288 with 1 Axes>"
      ]
     },
     "metadata": {
      "needs_background": "light"
     },
     "output_type": "display_data"
    }
   ],
   "source": [
    "year_counts = (data1['dateSeen_year'].value_counts()\n",
    "                    .reset_index()\n",
    "                    .sort_values(by=['index'], ascending=True)\n",
    "                    .rename(columns={'index': 'year', 'dateSeen_year': 'count'})\n",
    "                )\n",
    "print('These are the following counts by year:')\n",
    "print(year_counts)\n",
    "plt.bar(year_counts['year'], year_counts['count'])"
   ]
  },
  {
   "cell_type": "markdown",
   "metadata": {},
   "source": [
    "The majority of prices were collected during the year of 2016. For 'Further Investigation', it might be worth looking (at least high level) at whether any macroeconomic trends (e.g. recession) may have affected prices (per region) during that year with respect to the others, notably 2014, 2015 and 2017."
   ]
  },
  {
   "cell_type": "code",
   "execution_count": 42,
   "metadata": {},
   "outputs": [
    {
     "name": "stdout",
     "output_type": "stream",
     "text": [
      "These are the following counts by month:\n",
      "    month  count\n",
      "1       1   4113\n",
      "5       2   1153\n",
      "0       3   4215\n",
      "4       4   1187\n",
      "8       5    648\n",
      "7       6    776\n",
      "9       7    445\n",
      "6       8   1033\n",
      "11      9    318\n",
      "3      10   2125\n",
      "2      11   2486\n",
      "10     12    375\n"
     ]
    },
    {
     "data": {
      "text/plain": [
       "<BarContainer object of 12 artists>"
      ]
     },
     "execution_count": 42,
     "metadata": {},
     "output_type": "execute_result"
    },
    {
     "data": {
      "image/png": "[encoded data removed]",
      "text/plain": [
       "<Figure size 432x288 with 1 Axes>"
      ]
     },
     "metadata": {
      "needs_background": "light"
     },
     "output_type": "display_data"
    }
   ],
   "source": [
    "month_counts = (data1['dateSeen_month'].value_counts()\n",
    "                    .reset_index()\n",
    "                    .sort_values(by=['index'], ascending=True)\n",
    "                    .rename(columns={'index': 'month', 'dateSeen_month': 'count'})\n",
    "                )\n",
    "print('These are the following counts by month:')\n",
    "print(month_counts)\n",
    "plt.bar(month_counts['month'], month_counts['count'])"
   ]
  },
  {
   "cell_type": "markdown",
   "metadata": {},
   "source": [
    "The distribution of months during which prices were collected is highly non-uniform, with peaks in January and March, as well as growth in October and November (possibly coinciding with festive/sales events such as Christmas/New Years, Black Friday, etc). That being said, following that train of thought, one might expect more price-tracking in July and December, so it's best not to assume anything other than a non-uniform collection of data points temporally."
   ]
  },
  {
   "cell_type": "code",
   "execution_count": 43,
   "metadata": {},
   "outputs": [
    {
     "data": {
      "text/plain": [
       "<matplotlib.axes._subplots.AxesSubplot at 0x1a166b2550>"
      ]
     },
     "execution_count": 43,
     "metadata": {},
     "output_type": "execute_result"
    },
    {
     "data": {
      "image/png": "[encoded data removed]",
      "text/plain": [
       "<Figure size 432x288 with 1 Axes>"
      ]
     },
     "metadata": {
      "needs_background": "light"
     },
     "output_type": "display_data"
    }
   ],
   "source": [
    "data1['duration_since_dateSeen_month'].hist()"
   ]
  },
  {
   "cell_type": "markdown",
   "metadata": {},
   "source": [
    "### Currency Exploration"
   ]
  },
  {
   "cell_type": "code",
   "execution_count": 44,
   "metadata": {},
   "outputs": [
    {
     "name": "stdout",
     "output_type": "stream",
     "text": [
      "There are 5 different currencies in this dataset.\n",
      "USD    18348\n",
      "AUD      335\n",
      "CAD      103\n",
      "EUR       66\n",
      "GBP       22\n",
      "Name: prices.currency, dtype: int64\n"
     ]
    },
    {
     "data": {
      "text/plain": [
       "<matplotlib.axes._subplots.AxesSubplot at 0x1a173e1240>"
      ]
     },
     "execution_count": 44,
     "metadata": {},
     "output_type": "execute_result"
    },
    {
     "data": {
      "image/png": "[encoded data removed]",
      "text/plain": [
       "<Figure size 432x288 with 1 Axes>"
      ]
     },
     "metadata": {
      "needs_background": "light"
     },
     "output_type": "display_data"
    }
   ],
   "source": [
    "print('There are', data1['prices.currency'].nunique(), 'different currencies in this dataset.')\n",
    "print(data1['prices.currency'].value_counts())\n",
    "data1['prices.currency'].value_counts().plot(kind=\"bar\")"
   ]
  },
  {
   "cell_type": "markdown",
   "metadata": {},
   "source": [
    "The prices in the dataset are clearly dominated by USD pricing. It would probably make sense to convert all prices to USD (as done in 'Feature Engineering' section), since there just wouldn't be a lot of data points for the model to learn to predict in different currencies (+ possible bias in the target variable).\n",
    "\n",
    "Even if prices are converted, it might still be worth encoding currencies as a categorical variable in case pricing differs per country/currency, even after converting the prices to USD. Time permitted (see 'Further Improvements'), I would try building out *both* models - 1) for predicting prices converted to USD, and 2) for predicting prices based on the currency of interest."
   ]
  },
  {
   "cell_type": "markdown",
   "metadata": {},
   "source": [
    "### Price Exploration\n",
    "This section deep-dives into the disparity between prices.amountMin and prices.amount Max, as well as possible outliers therein.\n",
    "- As outlined in the introduction, each row represents a product-price tuple: each product can occur in multiple rows if it is listed at multiple different prices on different website listings (sourceURLs).\n",
    "- Furthermore, the prices on those listings can change over time (temporal element), so:\n",
    "1. prices.amountMin = MINIMUM price listed for the product on those same sourceURLs\n",
    "2. prices.amountMax = MAXIMUM price listed for the product on those same sourceURLs"
   ]
  },
  {
   "cell_type": "code",
   "execution_count": 45,
   "metadata": {},
   "outputs": [
    {
     "data": {
      "text/plain": [
       "0"
      ]
     },
     "execution_count": 45,
     "metadata": {},
     "output_type": "execute_result"
    }
   ],
   "source": [
    "# number of rows where prices.amountMin > prices.amountMax\n",
    "len(data1[data1['prices.amountMin'] > data1['prices.amountMax']])"
   ]
  },
  {
   "cell_type": "markdown",
   "metadata": {},
   "source": [
    "*Note: all values of prices.amountMin are indeed < prices.amountMax.*"
   ]
  },
  {
   "cell_type": "code",
   "execution_count": 46,
   "metadata": {},
   "outputs": [
    {
     "name": "stdout",
     "output_type": "stream",
     "text": [
      "There are 640 rows with amountMin < amountMax\n",
      "These rows represent 0.03390908127582918 of the data.\n"
     ]
    }
   ],
   "source": [
    "# number of rows where prices.amountMin < prices.amountMax\n",
    "print('There are',len(data1[data1['prices.amountMin'] < data1['prices.amountMax']]), 'rows with amountMin < amountMax')\n",
    "print('These rows represent',len(data1[data1['prices.amountMin'] < data1['prices.amountMax']]) / len(data1),'of the data.')"
   ]
  },
  {
   "cell_type": "markdown",
   "metadata": {},
   "source": [
    "Create a new column to investigate the percentage difference between amountMin and amountMax when they differ."
   ]
  },
  {
   "cell_type": "code",
   "execution_count": 47,
   "metadata": {},
   "outputs": [],
   "source": [
    "data1['percent_difference'] = (data1['prices.amountMax'] - data1['prices.amountMin']) / data1['prices.amountMax']"
   ]
  },
  {
   "cell_type": "code",
   "execution_count": 48,
   "metadata": {},
   "outputs": [
    {
     "data": {
      "text/html": [
       "<div>\n",
       "<style scoped>\n",
       "    .dataframe tbody tr th:only-of-type {\n",
       "        vertical-align: middle;\n",
       "    }\n",
       "\n",
       "    .dataframe tbody tr th {\n",
       "        vertical-align: top;\n",
       "    }\n",
       "\n",
       "    .dataframe thead th {\n",
       "        text-align: right;\n",
       "    }\n",
       "</style>\n",
       "<table border=\"1\" class=\"dataframe\">\n",
       "  <thead>\n",
       "    <tr style=\"text-align: right;\">\n",
       "      <th></th>\n",
       "      <th>id</th>\n",
       "      <th>isSale</th>\n",
       "      <th>prices.offer</th>\n",
       "      <th>prices.amountMin</th>\n",
       "      <th>prices.amountMax</th>\n",
       "    </tr>\n",
       "  </thead>\n",
       "  <tbody>\n",
       "    <tr>\n",
       "      <th>109</th>\n",
       "      <td>AVpfEdjqLJeJML431trL</td>\n",
       "      <td>0</td>\n",
       "      <td>missing</td>\n",
       "      <td>84.85</td>\n",
       "      <td>179.99</td>\n",
       "    </tr>\n",
       "    <tr>\n",
       "      <th>189</th>\n",
       "      <td>AVpfG4VH1cnluZ0-eEOn</td>\n",
       "      <td>0</td>\n",
       "      <td>missing</td>\n",
       "      <td>96.44</td>\n",
       "      <td>165.00</td>\n",
       "    </tr>\n",
       "    <tr>\n",
       "      <th>190</th>\n",
       "      <td>AVpfG4VH1cnluZ0-eEOn</td>\n",
       "      <td>0</td>\n",
       "      <td>missing</td>\n",
       "      <td>109.00</td>\n",
       "      <td>179.99</td>\n",
       "    </tr>\n",
       "    <tr>\n",
       "      <th>191</th>\n",
       "      <td>AVpfG4VH1cnluZ0-eEOn</td>\n",
       "      <td>0</td>\n",
       "      <td>missing</td>\n",
       "      <td>103.01</td>\n",
       "      <td>165.00</td>\n",
       "    </tr>\n",
       "    <tr>\n",
       "      <th>192</th>\n",
       "      <td>AVpfG4VH1cnluZ0-eEOn</td>\n",
       "      <td>0</td>\n",
       "      <td>missing</td>\n",
       "      <td>110.00</td>\n",
       "      <td>179.99</td>\n",
       "    </tr>\n",
       "    <tr>\n",
       "      <th>236</th>\n",
       "      <td>AVpfCDi91cnluZ0-cabr</td>\n",
       "      <td>0</td>\n",
       "      <td>missing</td>\n",
       "      <td>34.99</td>\n",
       "      <td>42.00</td>\n",
       "    </tr>\n",
       "    <tr>\n",
       "      <th>417</th>\n",
       "      <td>AVpe-HGdilAPnD_xSDuY</td>\n",
       "      <td>0</td>\n",
       "      <td>missing</td>\n",
       "      <td>28.95</td>\n",
       "      <td>37.95</td>\n",
       "    </tr>\n",
       "    <tr>\n",
       "      <th>465</th>\n",
       "      <td>AVpfDlggLJeJML431aAm</td>\n",
       "      <td>0</td>\n",
       "      <td>missing</td>\n",
       "      <td>114.99</td>\n",
       "      <td>175.00</td>\n",
       "    </tr>\n",
       "    <tr>\n",
       "      <th>466</th>\n",
       "      <td>AVpfDlggLJeJML431aAm</td>\n",
       "      <td>0</td>\n",
       "      <td>missing</td>\n",
       "      <td>114.99</td>\n",
       "      <td>174.95</td>\n",
       "    </tr>\n",
       "    <tr>\n",
       "      <th>471</th>\n",
       "      <td>AVpfDYmVLJeJML431VWs</td>\n",
       "      <td>0</td>\n",
       "      <td>missing</td>\n",
       "      <td>29.50</td>\n",
       "      <td>45.00</td>\n",
       "    </tr>\n",
       "  </tbody>\n",
       "</table>\n",
       "</div>"
      ],
      "text/plain": [
       "                       id  isSale prices.offer  prices.amountMin  \\\n",
       "109  AVpfEdjqLJeJML431trL       0      missing             84.85   \n",
       "189  AVpfG4VH1cnluZ0-eEOn       0      missing             96.44   \n",
       "190  AVpfG4VH1cnluZ0-eEOn       0      missing            109.00   \n",
       "191  AVpfG4VH1cnluZ0-eEOn       0      missing            103.01   \n",
       "192  AVpfG4VH1cnluZ0-eEOn       0      missing            110.00   \n",
       "236  AVpfCDi91cnluZ0-cabr       0      missing             34.99   \n",
       "417  AVpe-HGdilAPnD_xSDuY       0      missing             28.95   \n",
       "465  AVpfDlggLJeJML431aAm       0      missing            114.99   \n",
       "466  AVpfDlggLJeJML431aAm       0      missing            114.99   \n",
       "471  AVpfDYmVLJeJML431VWs       0      missing             29.50   \n",
       "\n",
       "     prices.amountMax  \n",
       "109            179.99  \n",
       "189            165.00  \n",
       "190            179.99  \n",
       "191            165.00  \n",
       "192            179.99  \n",
       "236             42.00  \n",
       "417             37.95  \n",
       "465            175.00  \n",
       "466            174.95  \n",
       "471             45.00  "
      ]
     },
     "execution_count": 48,
     "metadata": {},
     "output_type": "execute_result"
    }
   ],
   "source": [
    "amountMin_less_than_amountMax = data1[data1['prices.amountMin'] < data1['prices.amountMax']]\n",
    "amountMin_less_than_amountMax[['id','isSale','prices.offer','prices.amountMin','prices.amountMax']].head(10)"
   ]
  },
  {
   "cell_type": "code",
   "execution_count": 49,
   "metadata": {},
   "outputs": [
    {
     "data": {
      "text/plain": [
       "<matplotlib.axes._subplots.AxesSubplot at 0x1a1d7fd9b0>"
      ]
     },
     "execution_count": 49,
     "metadata": {},
     "output_type": "execute_result"
    },
    {
     "data": {
      "image/png": "[encoded data removed]",
      "text/plain": [
       "<Figure size 432x288 with 1 Axes>"
      ]
     },
     "metadata": {
      "needs_background": "light"
     },
     "output_type": "display_data"
    }
   ],
   "source": [
    "amountMin_less_than_amountMax['percent_difference'].hist(bins=20)"
   ]
  },
  {
   "cell_type": "markdown",
   "metadata": {},
   "source": [
    "The distribution of the percent difference between amountMin and amountMax (for the products where they're not equal) is actually \"somewhat\" normal, albeit a bit right skewed. We will proceed nevertheless with using the mean of USD prices as the target variable in our model (since the potentially biased data points represent less than 1% of the data points in the dataset)."
   ]
  },
  {
   "cell_type": "code",
   "execution_count": 50,
   "metadata": {},
   "outputs": [
    {
     "data": {
      "text/html": [
       "<div>\n",
       "<style scoped>\n",
       "    .dataframe tbody tr th:only-of-type {\n",
       "        vertical-align: middle;\n",
       "    }\n",
       "\n",
       "    .dataframe tbody tr th {\n",
       "        vertical-align: top;\n",
       "    }\n",
       "\n",
       "    .dataframe thead th {\n",
       "        text-align: right;\n",
       "    }\n",
       "</style>\n",
       "<table border=\"1\" class=\"dataframe\">\n",
       "  <thead>\n",
       "    <tr style=\"text-align: right;\">\n",
       "      <th></th>\n",
       "      <th>id</th>\n",
       "      <th>asins</th>\n",
       "      <th>brand</th>\n",
       "      <th>categories</th>\n",
       "      <th>colors</th>\n",
       "      <th>descriptions</th>\n",
       "      <th>dimension</th>\n",
       "      <th>ean</th>\n",
       "      <th>features</th>\n",
       "      <th>imageURLs</th>\n",
       "      <th>...</th>\n",
       "      <th>duration_since_dateSeen_month</th>\n",
       "      <th>dateSeen_month</th>\n",
       "      <th>dateSeen_year</th>\n",
       "      <th>URL_clean</th>\n",
       "      <th>URL_domain_clean</th>\n",
       "      <th>conversion</th>\n",
       "      <th>prices.amountMin_converted</th>\n",
       "      <th>prices.amountMax_converted</th>\n",
       "      <th>percent_difference</th>\n",
       "      <th>mean_price_usd</th>\n",
       "    </tr>\n",
       "  </thead>\n",
       "  <tbody>\n",
       "    <tr>\n",
       "      <th>109</th>\n",
       "      <td>AVpfEdjqLJeJML431trL</td>\n",
       "      <td>B00242PMIC</td>\n",
       "      <td>jordan</td>\n",
       "      <td>shoes,clothing, shoes &amp; jewelry,men,athletic,t...</td>\n",
       "      <td>NaN</td>\n",
       "      <td>NaN</td>\n",
       "      <td>NaN</td>\n",
       "      <td>NaN</td>\n",
       "      <td>NaN</td>\n",
       "      <td>http://ecx.images-amazon.com/images/I/41dfRe0b...</td>\n",
       "      <td>...</td>\n",
       "      <td>45.559186</td>\n",
       "      <td>11</td>\n",
       "      <td>2015</td>\n",
       "      <td>http://www.amazon.com/Jordan-Rising-White-Infr...</td>\n",
       "      <td>amazon</td>\n",
       "      <td>0.743401</td>\n",
       "      <td>84.85</td>\n",
       "      <td>179.99</td>\n",
       "      <td>0.528585</td>\n",
       "      <td>132.420</td>\n",
       "    </tr>\n",
       "    <tr>\n",
       "      <th>189</th>\n",
       "      <td>AVpfG4VH1cnluZ0-eEOn</td>\n",
       "      <td>B005DXAS2E,B005DXB0LM</td>\n",
       "      <td>geox</td>\n",
       "      <td>loafers &amp; slip-ons,men,shoes,clothing, shoes &amp;...</td>\n",
       "      <td>NaN</td>\n",
       "      <td>NaN</td>\n",
       "      <td>NaN</td>\n",
       "      <td>NaN</td>\n",
       "      <td>NaN</td>\n",
       "      <td>NaN</td>\n",
       "      <td>...</td>\n",
       "      <td>45.756315</td>\n",
       "      <td>10</td>\n",
       "      <td>2015</td>\n",
       "      <td>http://www.amazon.com/Geox-Monet-Plain-Vamp-Le...</td>\n",
       "      <td>amazon</td>\n",
       "      <td>0.743401</td>\n",
       "      <td>96.44</td>\n",
       "      <td>165.00</td>\n",
       "      <td>0.415515</td>\n",
       "      <td>130.720</td>\n",
       "    </tr>\n",
       "    <tr>\n",
       "      <th>190</th>\n",
       "      <td>AVpfG4VH1cnluZ0-eEOn</td>\n",
       "      <td>B005DXAS2E,B005DXB0LM</td>\n",
       "      <td>geox</td>\n",
       "      <td>loafers &amp; slip-ons,men,shoes,clothing, shoes &amp;...</td>\n",
       "      <td>NaN</td>\n",
       "      <td>NaN</td>\n",
       "      <td>NaN</td>\n",
       "      <td>NaN</td>\n",
       "      <td>NaN</td>\n",
       "      <td>NaN</td>\n",
       "      <td>...</td>\n",
       "      <td>50.027450</td>\n",
       "      <td>6</td>\n",
       "      <td>2015</td>\n",
       "      <td>http://www.amazon.com/Geox-Monet-Plain-Vamp-Le...</td>\n",
       "      <td>amazon</td>\n",
       "      <td>0.743401</td>\n",
       "      <td>109.00</td>\n",
       "      <td>179.99</td>\n",
       "      <td>0.394411</td>\n",
       "      <td>144.495</td>\n",
       "    </tr>\n",
       "    <tr>\n",
       "      <th>191</th>\n",
       "      <td>AVpfG4VH1cnluZ0-eEOn</td>\n",
       "      <td>B005DXAS2E,B005DXB0LM</td>\n",
       "      <td>geox</td>\n",
       "      <td>loafers &amp; slip-ons,men,shoes,clothing, shoes &amp;...</td>\n",
       "      <td>NaN</td>\n",
       "      <td>NaN</td>\n",
       "      <td>NaN</td>\n",
       "      <td>NaN</td>\n",
       "      <td>NaN</td>\n",
       "      <td>NaN</td>\n",
       "      <td>...</td>\n",
       "      <td>45.822025</td>\n",
       "      <td>10</td>\n",
       "      <td>2015</td>\n",
       "      <td>http://www.amazon.com/Geox-Monet-Plain-Vamp-Le...</td>\n",
       "      <td>amazon</td>\n",
       "      <td>0.743401</td>\n",
       "      <td>103.01</td>\n",
       "      <td>165.00</td>\n",
       "      <td>0.375697</td>\n",
       "      <td>134.005</td>\n",
       "    </tr>\n",
       "    <tr>\n",
       "      <th>192</th>\n",
       "      <td>AVpfG4VH1cnluZ0-eEOn</td>\n",
       "      <td>B005DXAS2E,B005DXB0LM</td>\n",
       "      <td>geox</td>\n",
       "      <td>loafers &amp; slip-ons,men,shoes,clothing, shoes &amp;...</td>\n",
       "      <td>NaN</td>\n",
       "      <td>NaN</td>\n",
       "      <td>NaN</td>\n",
       "      <td>NaN</td>\n",
       "      <td>NaN</td>\n",
       "      <td>NaN</td>\n",
       "      <td>...</td>\n",
       "      <td>47.629044</td>\n",
       "      <td>9</td>\n",
       "      <td>2015</td>\n",
       "      <td>http://www.amazon.com/Geox-Monet-Plain-Vamp-Le...</td>\n",
       "      <td>amazon</td>\n",
       "      <td>0.743401</td>\n",
       "      <td>110.00</td>\n",
       "      <td>179.99</td>\n",
       "      <td>0.388855</td>\n",
       "      <td>144.995</td>\n",
       "    </tr>\n",
       "  </tbody>\n",
       "</table>\n",
       "<p>5 rows × 54 columns</p>\n",
       "</div>"
      ],
      "text/plain": [
       "                       id                  asins   brand  \\\n",
       "109  AVpfEdjqLJeJML431trL             B00242PMIC  jordan   \n",
       "189  AVpfG4VH1cnluZ0-eEOn  B005DXAS2E,B005DXB0LM    geox   \n",
       "190  AVpfG4VH1cnluZ0-eEOn  B005DXAS2E,B005DXB0LM    geox   \n",
       "191  AVpfG4VH1cnluZ0-eEOn  B005DXAS2E,B005DXB0LM    geox   \n",
       "192  AVpfG4VH1cnluZ0-eEOn  B005DXAS2E,B005DXB0LM    geox   \n",
       "\n",
       "                                            categories colors descriptions  \\\n",
       "109  shoes,clothing, shoes & jewelry,men,athletic,t...    NaN          NaN   \n",
       "189  loafers & slip-ons,men,shoes,clothing, shoes &...    NaN          NaN   \n",
       "190  loafers & slip-ons,men,shoes,clothing, shoes &...    NaN          NaN   \n",
       "191  loafers & slip-ons,men,shoes,clothing, shoes &...    NaN          NaN   \n",
       "192  loafers & slip-ons,men,shoes,clothing, shoes &...    NaN          NaN   \n",
       "\n",
       "    dimension  ean features  \\\n",
       "109       NaN  NaN      NaN   \n",
       "189       NaN  NaN      NaN   \n",
       "190       NaN  NaN      NaN   \n",
       "191       NaN  NaN      NaN   \n",
       "192       NaN  NaN      NaN   \n",
       "\n",
       "                                             imageURLs      ...        \\\n",
       "109  http://ecx.images-amazon.com/images/I/41dfRe0b...      ...         \n",
       "189                                                NaN      ...         \n",
       "190                                                NaN      ...         \n",
       "191                                                NaN      ...         \n",
       "192                                                NaN      ...         \n",
       "\n",
       "    duration_since_dateSeen_month dateSeen_month dateSeen_year  \\\n",
       "109                     45.559186             11          2015   \n",
       "189                     45.756315             10          2015   \n",
       "190                     50.027450              6          2015   \n",
       "191                     45.822025             10          2015   \n",
       "192                     47.629044              9          2015   \n",
       "\n",
       "                                             URL_clean URL_domain_clean  \\\n",
       "109  http://www.amazon.com/Jordan-Rising-White-Infr...           amazon   \n",
       "189  http://www.amazon.com/Geox-Monet-Plain-Vamp-Le...           amazon   \n",
       "190  http://www.amazon.com/Geox-Monet-Plain-Vamp-Le...           amazon   \n",
       "191  http://www.amazon.com/Geox-Monet-Plain-Vamp-Le...           amazon   \n",
       "192  http://www.amazon.com/Geox-Monet-Plain-Vamp-Le...           amazon   \n",
       "\n",
       "     conversion  prices.amountMin_converted prices.amountMax_converted  \\\n",
       "109    0.743401                       84.85                     179.99   \n",
       "189    0.743401                       96.44                     165.00   \n",
       "190    0.743401                      109.00                     179.99   \n",
       "191    0.743401                      103.01                     165.00   \n",
       "192    0.743401                      110.00                     179.99   \n",
       "\n",
       "    percent_difference mean_price_usd  \n",
       "109           0.528585        132.420  \n",
       "189           0.415515        130.720  \n",
       "190           0.394411        144.495  \n",
       "191           0.375697        134.005  \n",
       "192           0.388855        144.995  \n",
       "\n",
       "[5 rows x 54 columns]"
      ]
     },
     "execution_count": 50,
     "metadata": {},
     "output_type": "execute_result"
    }
   ],
   "source": [
    "# define a column for mean of min and max price converted to USD, and get snapshot of values in dataframe\n",
    "data1['mean_price_usd'] = data1[['prices.amountMin_converted', 'prices.amountMax_converted']].mean(axis=1)\n",
    "data1[data1['prices.amountMin'] < data1['prices.amountMax']].head()"
   ]
  },
  {
   "cell_type": "markdown",
   "metadata": {},
   "source": [
    "### Names and Categories"
   ]
  },
  {
   "cell_type": "markdown",
   "metadata": {},
   "source": [
    "Do some preliminary string cleaning on names and categories (i.e. basic string manipulations - ideally should be lemmatizing and stemming)."
   ]
  },
  {
   "cell_type": "code",
   "execution_count": 51,
   "metadata": {},
   "outputs": [],
   "source": [
    "data1['name'] = data1['name'].str.lower().str.strip()\n",
    "data1['categories'] = data1['categories'].str.lower().str.strip()\n",
    "\n",
    "data1['name'] = data1['name'].str.replace(\"shoes\",\"shoe\")\n",
    "data1['name'] = data1['name'].str.replace(\"boots\",\"boot\")\n",
    "data1['name'] = data1['name'].str.replace(\"sandals\",\"sandal\")\n",
    "data1['name'] = data1['name'].str.replace(\"sneakers\",\"sneaker\")\n",
    "data1['name'] = data1['name'].str.replace(\"loafers\",\"loafer\")\n",
    "data1['name'] = data1['name'].str.replace(\"slippers\",\"slipper\")\n",
    "\n",
    "data1['categories'] = data1['categories'].str.replace(\"shoes\",\"shoe\")\n",
    "data1['categories'] = data1['categories'].str.replace(\"boots\",\"boot\")\n",
    "data1['categories'] = data1['categories'].str.replace(\"sandals\",\"sandal\")\n",
    "data1['categories'] = data1['categories'].str.replace(\"sneakers\",\"sneaker\")\n",
    "data1['categories'] = data1['categories'].str.replace(\"loafers\",\"loafer\")\n",
    "data1['categories'] = data1['categories'].str.replace(\"slippers\",\"slipper\")"
   ]
  },
  {
   "cell_type": "markdown",
   "metadata": {},
   "source": [
    "Use TF-iDF to try extracting a score for relevant category in the product name. <br> *Note: 'Future Improvement', compare the performance when using CountVectorizer for name as well.*"
   ]
  },
  {
   "cell_type": "code",
   "execution_count": 52,
   "metadata": {},
   "outputs": [],
   "source": [
    "from sklearn.feature_extraction.text import TfidfVectorizer\n",
    "\n",
    "tfidf_vectorizer = TfidfVectorizer()\n",
    "values = tfidf_vectorizer.fit_transform(data1['name'])\n",
    "\n",
    "# Show the Model as a pandas DataFrame\n",
    "feature_names = tfidf_vectorizer.get_feature_names()\n",
    "nlp_name = pd.DataFrame(values.toarray(), columns = feature_names)\n",
    "nlp_name = nlp_name[['boot','shoe','footwear','sandal','running',\n",
    "                     'sneaker','loafer','slipper','moccasin']]\n",
    "\n",
    "nlp_name.columns = ['nlp_name_' + str(col) for col in nlp_name.columns]"
   ]
  },
  {
   "cell_type": "markdown",
   "metadata": {},
   "source": [
    "Use Count Vectorization to try extracting a score for relevant category in the product name."
   ]
  },
  {
   "cell_type": "code",
   "execution_count": 53,
   "metadata": {},
   "outputs": [],
   "source": [
    "from sklearn.feature_extraction.text import CountVectorizer\n",
    "\n",
    "count_vectorizer = CountVectorizer()\n",
    "values = count_vectorizer.fit_transform(data1['categories'])\n",
    "\n",
    "# Show the Model as a pandas DataFrame\n",
    "feature_names = count_vectorizer.get_feature_names()\n",
    "nlp_categories = pd.DataFrame(values.toarray(), columns = feature_names)\n",
    "nlp_categories = nlp_categories[['boot','shoe','footwear','sandal',\n",
    "                     'sneaker','loafer','slipper','moccasin','running']]\n",
    "\n",
    "nlp_categories.columns = ['nlp_cat_' + str(col) for col in nlp_categories.columns]"
   ]
  },
  {
   "cell_type": "code",
   "execution_count": 54,
   "metadata": {},
   "outputs": [
    {
     "data": {
      "text/plain": [
       "(18874, 9)"
      ]
     },
     "execution_count": 54,
     "metadata": {},
     "output_type": "execute_result"
    }
   ],
   "source": [
    "data1.shape\n",
    "nlp_name.shape\n",
    "#nlp_categories.shape"
   ]
  },
  {
   "cell_type": "code",
   "execution_count": 55,
   "metadata": {},
   "outputs": [],
   "source": [
    "data1.reset_index(drop=True,inplace=True)\n",
    "nlp_name.reset_index(drop=True,inplace=True)\n",
    "nlp_categories.reset_index(drop=True,inplace=True)\n",
    "\n",
    "data1 = pd.concat([data1, nlp_name, nlp_categories],axis=1)"
   ]
  },
  {
   "cell_type": "code",
   "execution_count": 56,
   "metadata": {},
   "outputs": [
    {
     "data": {
      "text/plain": [
       "(18874, 72)"
      ]
     },
     "execution_count": 56,
     "metadata": {},
     "output_type": "execute_result"
    }
   ],
   "source": [
    "data1.shape"
   ]
  },
  {
   "cell_type": "markdown",
   "metadata": {},
   "source": [
    "Define the shoe_name_score to be the NLP-generated column that most closely (max score) matches the name in the data."
   ]
  },
  {
   "cell_type": "code",
   "execution_count": 57,
   "metadata": {},
   "outputs": [
    {
     "data": {
      "text/html": [
       "<div>\n",
       "<style scoped>\n",
       "    .dataframe tbody tr th:only-of-type {\n",
       "        vertical-align: middle;\n",
       "    }\n",
       "\n",
       "    .dataframe tbody tr th {\n",
       "        vertical-align: top;\n",
       "    }\n",
       "\n",
       "    .dataframe thead th {\n",
       "        text-align: right;\n",
       "    }\n",
       "</style>\n",
       "<table border=\"1\" class=\"dataframe\">\n",
       "  <thead>\n",
       "    <tr style=\"text-align: right;\">\n",
       "      <th></th>\n",
       "      <th>id</th>\n",
       "      <th>asins</th>\n",
       "      <th>brand</th>\n",
       "      <th>categories</th>\n",
       "      <th>colors</th>\n",
       "      <th>descriptions</th>\n",
       "      <th>dimension</th>\n",
       "      <th>ean</th>\n",
       "      <th>features</th>\n",
       "      <th>imageURLs</th>\n",
       "      <th>...</th>\n",
       "      <th>nlp_cat_boot</th>\n",
       "      <th>nlp_cat_shoe</th>\n",
       "      <th>nlp_cat_footwear</th>\n",
       "      <th>nlp_cat_sandal</th>\n",
       "      <th>nlp_cat_sneaker</th>\n",
       "      <th>nlp_cat_loafer</th>\n",
       "      <th>nlp_cat_slipper</th>\n",
       "      <th>nlp_cat_moccasin</th>\n",
       "      <th>nlp_cat_running</th>\n",
       "      <th>shoe_name_score</th>\n",
       "    </tr>\n",
       "  </thead>\n",
       "  <tbody>\n",
       "    <tr>\n",
       "      <th>0</th>\n",
       "      <td>AVpfHrJ6ilAPnD_xVXOI</td>\n",
       "      <td>NaN</td>\n",
       "      <td>josmo</td>\n",
       "      <td>clothing,shoe,men's shoe,all men's shoe</td>\n",
       "      <td>NaN</td>\n",
       "      <td>[{\"dateSeen\":[\"2016-11-07T00:45:12Z\"],\"sourceU...</td>\n",
       "      <td>NaN</td>\n",
       "      <td>0699302044036</td>\n",
       "      <td>[{\"key\":\"Gender\",\"value\":[\"Men\"]},{\"key\":\"Shoe...</td>\n",
       "      <td>https://i5.walmartimages.com/asr/13ac3d61-003c...</td>\n",
       "      <td>...</td>\n",
       "      <td>0</td>\n",
       "      <td>3</td>\n",
       "      <td>0</td>\n",
       "      <td>0</td>\n",
       "      <td>0</td>\n",
       "      <td>0</td>\n",
       "      <td>0</td>\n",
       "      <td>0</td>\n",
       "      <td>0</td>\n",
       "      <td>0.14022</td>\n",
       "    </tr>\n",
       "    <tr>\n",
       "      <th>1</th>\n",
       "      <td>AVpfHrJ6ilAPnD_xVXOI</td>\n",
       "      <td>NaN</td>\n",
       "      <td>josmo</td>\n",
       "      <td>clothing,shoe,men's shoe,all men's shoe</td>\n",
       "      <td>NaN</td>\n",
       "      <td>[{\"dateSeen\":[\"2016-11-07T00:45:12Z\"],\"sourceU...</td>\n",
       "      <td>NaN</td>\n",
       "      <td>0699302044036</td>\n",
       "      <td>[{\"key\":\"Gender\",\"value\":[\"Men\"]},{\"key\":\"Shoe...</td>\n",
       "      <td>https://i5.walmartimages.com/asr/13ac3d61-003c...</td>\n",
       "      <td>...</td>\n",
       "      <td>0</td>\n",
       "      <td>3</td>\n",
       "      <td>0</td>\n",
       "      <td>0</td>\n",
       "      <td>0</td>\n",
       "      <td>0</td>\n",
       "      <td>0</td>\n",
       "      <td>0</td>\n",
       "      <td>0</td>\n",
       "      <td>0.14022</td>\n",
       "    </tr>\n",
       "  </tbody>\n",
       "</table>\n",
       "<p>2 rows × 73 columns</p>\n",
       "</div>"
      ],
      "text/plain": [
       "                     id asins  brand                               categories  \\\n",
       "0  AVpfHrJ6ilAPnD_xVXOI   NaN  josmo  clothing,shoe,men's shoe,all men's shoe   \n",
       "1  AVpfHrJ6ilAPnD_xVXOI   NaN  josmo  clothing,shoe,men's shoe,all men's shoe   \n",
       "\n",
       "  colors                                       descriptions dimension  \\\n",
       "0    NaN  [{\"dateSeen\":[\"2016-11-07T00:45:12Z\"],\"sourceU...       NaN   \n",
       "1    NaN  [{\"dateSeen\":[\"2016-11-07T00:45:12Z\"],\"sourceU...       NaN   \n",
       "\n",
       "             ean                                           features  \\\n",
       "0  0699302044036  [{\"key\":\"Gender\",\"value\":[\"Men\"]},{\"key\":\"Shoe...   \n",
       "1  0699302044036  [{\"key\":\"Gender\",\"value\":[\"Men\"]},{\"key\":\"Shoe...   \n",
       "\n",
       "                                           imageURLs       ...        \\\n",
       "0  https://i5.walmartimages.com/asr/13ac3d61-003c...       ...         \n",
       "1  https://i5.walmartimages.com/asr/13ac3d61-003c...       ...         \n",
       "\n",
       "  nlp_cat_boot nlp_cat_shoe nlp_cat_footwear nlp_cat_sandal nlp_cat_sneaker  \\\n",
       "0            0            3                0              0               0   \n",
       "1            0            3                0              0               0   \n",
       "\n",
       "   nlp_cat_loafer  nlp_cat_slipper nlp_cat_moccasin nlp_cat_running  \\\n",
       "0               0                0                0               0   \n",
       "1               0                0                0               0   \n",
       "\n",
       "  shoe_name_score  \n",
       "0         0.14022  \n",
       "1         0.14022  \n",
       "\n",
       "[2 rows x 73 columns]"
      ]
     },
     "execution_count": 57,
     "metadata": {},
     "output_type": "execute_result"
    }
   ],
   "source": [
    "data1['shoe_name_score'] = data1[nlp_name.columns].max(axis=1)\n",
    "data1['shoe_name_score'] = data1['shoe_name_score'].fillna(0)\n",
    "data1.head(2)"
   ]
  },
  {
   "cell_type": "markdown",
   "metadata": {},
   "source": [
    "Define the shoe_cat_score to be the NLP-generated column that most closely (max score) matches the category in the data."
   ]
  },
  {
   "cell_type": "code",
   "execution_count": 58,
   "metadata": {},
   "outputs": [
    {
     "data": {
      "text/html": [
       "<div>\n",
       "<style scoped>\n",
       "    .dataframe tbody tr th:only-of-type {\n",
       "        vertical-align: middle;\n",
       "    }\n",
       "\n",
       "    .dataframe tbody tr th {\n",
       "        vertical-align: top;\n",
       "    }\n",
       "\n",
       "    .dataframe thead th {\n",
       "        text-align: right;\n",
       "    }\n",
       "</style>\n",
       "<table border=\"1\" class=\"dataframe\">\n",
       "  <thead>\n",
       "    <tr style=\"text-align: right;\">\n",
       "      <th></th>\n",
       "      <th>id</th>\n",
       "      <th>asins</th>\n",
       "      <th>brand</th>\n",
       "      <th>categories</th>\n",
       "      <th>colors</th>\n",
       "      <th>descriptions</th>\n",
       "      <th>dimension</th>\n",
       "      <th>ean</th>\n",
       "      <th>features</th>\n",
       "      <th>imageURLs</th>\n",
       "      <th>...</th>\n",
       "      <th>nlp_cat_shoe</th>\n",
       "      <th>nlp_cat_footwear</th>\n",
       "      <th>nlp_cat_sandal</th>\n",
       "      <th>nlp_cat_sneaker</th>\n",
       "      <th>nlp_cat_loafer</th>\n",
       "      <th>nlp_cat_slipper</th>\n",
       "      <th>nlp_cat_moccasin</th>\n",
       "      <th>nlp_cat_running</th>\n",
       "      <th>shoe_name_score</th>\n",
       "      <th>shoe_cat_score</th>\n",
       "    </tr>\n",
       "  </thead>\n",
       "  <tbody>\n",
       "    <tr>\n",
       "      <th>0</th>\n",
       "      <td>AVpfHrJ6ilAPnD_xVXOI</td>\n",
       "      <td>NaN</td>\n",
       "      <td>josmo</td>\n",
       "      <td>clothing,shoe,men's shoe,all men's shoe</td>\n",
       "      <td>NaN</td>\n",
       "      <td>[{\"dateSeen\":[\"2016-11-07T00:45:12Z\"],\"sourceU...</td>\n",
       "      <td>NaN</td>\n",
       "      <td>0699302044036</td>\n",
       "      <td>[{\"key\":\"Gender\",\"value\":[\"Men\"]},{\"key\":\"Shoe...</td>\n",
       "      <td>https://i5.walmartimages.com/asr/13ac3d61-003c...</td>\n",
       "      <td>...</td>\n",
       "      <td>3</td>\n",
       "      <td>0</td>\n",
       "      <td>0</td>\n",
       "      <td>0</td>\n",
       "      <td>0</td>\n",
       "      <td>0</td>\n",
       "      <td>0</td>\n",
       "      <td>0</td>\n",
       "      <td>0.14022</td>\n",
       "      <td>3</td>\n",
       "    </tr>\n",
       "    <tr>\n",
       "      <th>1</th>\n",
       "      <td>AVpfHrJ6ilAPnD_xVXOI</td>\n",
       "      <td>NaN</td>\n",
       "      <td>josmo</td>\n",
       "      <td>clothing,shoe,men's shoe,all men's shoe</td>\n",
       "      <td>NaN</td>\n",
       "      <td>[{\"dateSeen\":[\"2016-11-07T00:45:12Z\"],\"sourceU...</td>\n",
       "      <td>NaN</td>\n",
       "      <td>0699302044036</td>\n",
       "      <td>[{\"key\":\"Gender\",\"value\":[\"Men\"]},{\"key\":\"Shoe...</td>\n",
       "      <td>https://i5.walmartimages.com/asr/13ac3d61-003c...</td>\n",
       "      <td>...</td>\n",
       "      <td>3</td>\n",
       "      <td>0</td>\n",
       "      <td>0</td>\n",
       "      <td>0</td>\n",
       "      <td>0</td>\n",
       "      <td>0</td>\n",
       "      <td>0</td>\n",
       "      <td>0</td>\n",
       "      <td>0.14022</td>\n",
       "      <td>3</td>\n",
       "    </tr>\n",
       "  </tbody>\n",
       "</table>\n",
       "<p>2 rows × 74 columns</p>\n",
       "</div>"
      ],
      "text/plain": [
       "                     id asins  brand                               categories  \\\n",
       "0  AVpfHrJ6ilAPnD_xVXOI   NaN  josmo  clothing,shoe,men's shoe,all men's shoe   \n",
       "1  AVpfHrJ6ilAPnD_xVXOI   NaN  josmo  clothing,shoe,men's shoe,all men's shoe   \n",
       "\n",
       "  colors                                       descriptions dimension  \\\n",
       "0    NaN  [{\"dateSeen\":[\"2016-11-07T00:45:12Z\"],\"sourceU...       NaN   \n",
       "1    NaN  [{\"dateSeen\":[\"2016-11-07T00:45:12Z\"],\"sourceU...       NaN   \n",
       "\n",
       "             ean                                           features  \\\n",
       "0  0699302044036  [{\"key\":\"Gender\",\"value\":[\"Men\"]},{\"key\":\"Shoe...   \n",
       "1  0699302044036  [{\"key\":\"Gender\",\"value\":[\"Men\"]},{\"key\":\"Shoe...   \n",
       "\n",
       "                                           imageURLs      ...        \\\n",
       "0  https://i5.walmartimages.com/asr/13ac3d61-003c...      ...         \n",
       "1  https://i5.walmartimages.com/asr/13ac3d61-003c...      ...         \n",
       "\n",
       "  nlp_cat_shoe nlp_cat_footwear nlp_cat_sandal nlp_cat_sneaker nlp_cat_loafer  \\\n",
       "0            3                0              0               0              0   \n",
       "1            3                0              0               0              0   \n",
       "\n",
       "   nlp_cat_slipper  nlp_cat_moccasin nlp_cat_running shoe_name_score  \\\n",
       "0                0                 0               0         0.14022   \n",
       "1                0                 0               0         0.14022   \n",
       "\n",
       "  shoe_cat_score  \n",
       "0              3  \n",
       "1              3  \n",
       "\n",
       "[2 rows x 74 columns]"
      ]
     },
     "execution_count": 58,
     "metadata": {},
     "output_type": "execute_result"
    }
   ],
   "source": [
    "data1['shoe_cat_score'] = data1[nlp_categories.columns].max(axis=1)\n",
    "data1['shoe_cat_score'] = data1['shoe_cat_score'].fillna(0)\n",
    "data1.head(2)"
   ]
  },
  {
   "cell_type": "code",
   "execution_count": 59,
   "metadata": {},
   "outputs": [
    {
     "data": {
      "text/html": [
       "<div>\n",
       "<style scoped>\n",
       "    .dataframe tbody tr th:only-of-type {\n",
       "        vertical-align: middle;\n",
       "    }\n",
       "\n",
       "    .dataframe tbody tr th {\n",
       "        vertical-align: top;\n",
       "    }\n",
       "\n",
       "    .dataframe thead th {\n",
       "        text-align: right;\n",
       "    }\n",
       "</style>\n",
       "<table border=\"1\" class=\"dataframe\">\n",
       "  <thead>\n",
       "    <tr style=\"text-align: right;\">\n",
       "      <th></th>\n",
       "      <th>categories</th>\n",
       "      <th>name</th>\n",
       "      <th>shoe_name_score</th>\n",
       "      <th>shoe_cat_score</th>\n",
       "    </tr>\n",
       "  </thead>\n",
       "  <tbody>\n",
       "    <tr>\n",
       "      <th>18</th>\n",
       "      <td>clothing, shoe, accessories,bags, briefcases,m...</td>\n",
       "      <td>men's faux leather business handbag messenger ...</td>\n",
       "      <td>0.0</td>\n",
       "      <td>1</td>\n",
       "    </tr>\n",
       "    <tr>\n",
       "      <th>22</th>\n",
       "      <td>men's halloween costumes,adult halloween costu...</td>\n",
       "      <td>rubies costume adult mens regency plush santa ...</td>\n",
       "      <td>0.0</td>\n",
       "      <td>1</td>\n",
       "    </tr>\n",
       "    <tr>\n",
       "      <th>23</th>\n",
       "      <td>men's halloween costumes,adult halloween costu...</td>\n",
       "      <td>rubies costume adult mens regency plush santa ...</td>\n",
       "      <td>0.0</td>\n",
       "      <td>1</td>\n",
       "    </tr>\n",
       "    <tr>\n",
       "      <th>24</th>\n",
       "      <td>men's halloween costumes,adult halloween costu...</td>\n",
       "      <td>rubies costume adult mens regency plush santa ...</td>\n",
       "      <td>0.0</td>\n",
       "      <td>1</td>\n",
       "    </tr>\n",
       "    <tr>\n",
       "      <th>25</th>\n",
       "      <td>clothing, shoe &amp; accessories,men's clothing,un...</td>\n",
       "      <td>men boxer underwear shorts modal male underpan...</td>\n",
       "      <td>0.0</td>\n",
       "      <td>1</td>\n",
       "    </tr>\n",
       "    <tr>\n",
       "      <th>32</th>\n",
       "      <td>clothing, shoe &amp; accessories,men's clothing,sh...</td>\n",
       "      <td>american fighter by affliction north creek boa...</td>\n",
       "      <td>0.0</td>\n",
       "      <td>1</td>\n",
       "    </tr>\n",
       "    <tr>\n",
       "      <th>35</th>\n",
       "      <td>clothing, shoe, accessories,men's sunglasses</td>\n",
       "      <td>polarized sunglasses maui jim bamboo forest 41...</td>\n",
       "      <td>0.0</td>\n",
       "      <td>1</td>\n",
       "    </tr>\n",
       "    <tr>\n",
       "      <th>36</th>\n",
       "      <td>clothing, shoe &amp; accessories,men's clothing,sh...</td>\n",
       "      <td>venum men's koi compression pants spats mma bl...</td>\n",
       "      <td>0.0</td>\n",
       "      <td>1</td>\n",
       "    </tr>\n",
       "    <tr>\n",
       "      <th>37</th>\n",
       "      <td>all men's clothing,men's clothing,men's outerw...</td>\n",
       "      <td>azzuro cozy fit notched lapel long sleeve blaz...</td>\n",
       "      <td>0.0</td>\n",
       "      <td>1</td>\n",
       "    </tr>\n",
       "    <tr>\n",
       "      <th>38</th>\n",
       "      <td>all men's clothing,men's clothing,men's outerw...</td>\n",
       "      <td>azzuro cozy fit notched lapel long sleeve blaz...</td>\n",
       "      <td>0.0</td>\n",
       "      <td>1</td>\n",
       "    </tr>\n",
       "  </tbody>\n",
       "</table>\n",
       "</div>"
      ],
      "text/plain": [
       "                                           categories  \\\n",
       "18  clothing, shoe, accessories,bags, briefcases,m...   \n",
       "22  men's halloween costumes,adult halloween costu...   \n",
       "23  men's halloween costumes,adult halloween costu...   \n",
       "24  men's halloween costumes,adult halloween costu...   \n",
       "25  clothing, shoe & accessories,men's clothing,un...   \n",
       "32  clothing, shoe & accessories,men's clothing,sh...   \n",
       "35       clothing, shoe, accessories,men's sunglasses   \n",
       "36  clothing, shoe & accessories,men's clothing,sh...   \n",
       "37  all men's clothing,men's clothing,men's outerw...   \n",
       "38  all men's clothing,men's clothing,men's outerw...   \n",
       "\n",
       "                                                 name  shoe_name_score  \\\n",
       "18  men's faux leather business handbag messenger ...              0.0   \n",
       "22  rubies costume adult mens regency plush santa ...              0.0   \n",
       "23  rubies costume adult mens regency plush santa ...              0.0   \n",
       "24  rubies costume adult mens regency plush santa ...              0.0   \n",
       "25  men boxer underwear shorts modal male underpan...              0.0   \n",
       "32  american fighter by affliction north creek boa...              0.0   \n",
       "35  polarized sunglasses maui jim bamboo forest 41...              0.0   \n",
       "36  venum men's koi compression pants spats mma bl...              0.0   \n",
       "37  azzuro cozy fit notched lapel long sleeve blaz...              0.0   \n",
       "38  azzuro cozy fit notched lapel long sleeve blaz...              0.0   \n",
       "\n",
       "    shoe_cat_score  \n",
       "18               1  \n",
       "22               1  \n",
       "23               1  \n",
       "24               1  \n",
       "25               1  \n",
       "32               1  \n",
       "35               1  \n",
       "36               1  \n",
       "37               1  \n",
       "38               1  "
      ]
     },
     "execution_count": 59,
     "metadata": {},
     "output_type": "execute_result"
    }
   ],
   "source": [
    "cond_1 = data1['shoe_name_score'] < 0.20\n",
    "cond_2 = data1['shoe_cat_score'] <= 1\n",
    "data1[['categories','name','shoe_name_score','shoe_cat_score']][cond_1 & cond_2].head(10)"
   ]
  },
  {
   "cell_type": "code",
   "execution_count": 60,
   "metadata": {},
   "outputs": [
    {
     "data": {
      "text/plain": [
       "0"
      ]
     },
     "execution_count": 60,
     "metadata": {},
     "output_type": "execute_result"
    }
   ],
   "source": [
    "data1['shoe_name_score'].isna().sum()"
   ]
  },
  {
   "cell_type": "markdown",
   "metadata": {},
   "source": [
    "At first glance, some of these NLP scores are problematic because some data points which are clearly shoes (i.e. contain the words that we're defining to be part of the 'shoe' bag of words). I will utilize the scores as features derived from the 'categories' and 'name' columns, and input them into the model as is, but they clearly need more tweaking (see 'Future Improvements')."
   ]
  },
  {
   "cell_type": "markdown",
   "metadata": {},
   "source": [
    "### Correlation of Features"
   ]
  },
  {
   "cell_type": "code",
   "execution_count": 61,
   "metadata": {},
   "outputs": [
    {
     "data": {
      "image/png": "[encoded data removed]",
      "text/plain": [
       "<Figure size 720x720 with 2 Axes>"
      ]
     },
     "metadata": {
      "needs_background": "light"
     },
     "output_type": "display_data"
    }
   ],
   "source": [
    "def correlation_heatmap(train):\n",
    "    correlations = train.corr()\n",
    "\n",
    "    fig, ax = plt.subplots(figsize=(10,10))\n",
    "    sns.heatmap(correlations, vmax=1.0, center=0, fmt='.2f',\n",
    "                square=True, linewidths=.5, annot=True, cbar_kws={\"shrink\": .70})\n",
    "    plt.show();\n",
    "    \n",
    "correlation_columns = ['brand_clean', 'gender', 'prices.currency', 'isSale', 'freeShipping', 'isBid',\n",
    "            'duration_since_dateSeen_month','URL_domain_clean','dateSeen_month','dateSeen_year',\n",
    "            'isNew','withTags','withBox','shoe_cat_score','shoe_name_score']\n",
    "correlation_columns = correlation_columns + nlp_categories.columns.tolist() + nlp_name.columns.tolist()\n",
    "    \n",
    "correlation_heatmap(data1[correlation_columns])"
   ]
  },
  {
   "cell_type": "markdown",
   "metadata": {},
   "source": [
    "The most problematic columns with respect to correlation are 'dateSeen_year' and 'nlp_cat_shoe'. We will consider removing these features to avoid colinearity in the model (will test to see difference in model's performance with and without them present)."
   ]
  },
  {
   "cell_type": "markdown",
   "metadata": {},
   "source": [
    "# 5. Benchmarking\n",
    "I will use both a *measure of central tendency comparison* and *linear regression model* as benchmarks to compare my final model to. A linear regression model is arguably the most basic/displaying of the least competitive accuracy in comparison to other more complex supervised machine learning regression algorithms, so it is a worthy option as a benchmark. It will be contrasted to the worse-case benchmark of using mean and/or median of the target variable as predictions.\n",
    "\n",
    "#### Preprocessing Data for Linear Model\n",
    "I will select specific features from the existing + engineered ones in the dataset, and scale them using MinMaxScaler for the linear model. The model will be split into train and test sets respectively. I will use cross validation (GridSearchcv) on the train set to pick the best K fold. Then, I will run predictions on the test set using the model, and compare the predictions to the true values in the test set to get the benchmarking metrics.\n",
    "\n",
    "#### Model Performance\n",
    "MSE, RMSE and R2 will be used to evaluate model performance."
   ]
  },
  {
   "cell_type": "markdown",
   "metadata": {},
   "source": [
    "## Pre-processing"
   ]
  },
  {
   "cell_type": "markdown",
   "metadata": {},
   "source": [
    "### Feature Selection\n",
    "The following features were used as inputs for the linear model:"
   ]
  },
  {
   "cell_type": "code",
   "execution_count": 62,
   "metadata": {},
   "outputs": [
    {
     "data": {
      "text/plain": [
       "Index(['id', 'asins', 'brand', 'categories', 'colors', 'descriptions',\n",
       "       'dimension', 'ean', 'features', 'imageURLs', 'keys', 'manufacturer',\n",
       "       'manufacturerNumber', 'merchants', 'name', 'prices.amountMin',\n",
       "       'prices.amountMax', 'prices.availability', 'prices.color',\n",
       "       'prices.condition', 'prices.count', 'prices.currency', 'prices.flavor',\n",
       "       'prices.merchant', 'prices.offer', 'prices.returnPolicy',\n",
       "       'prices.shipping', 'prices.size', 'prices.sourceURLs', 'reviews',\n",
       "       'sizes', 'skus', 'sourceURLs', 'upc', 'weight', 'gender', 'isSale',\n",
       "       'dateSeen', 'brand_clean', 'freeShipping', 'isBid', 'isNew', 'withBox',\n",
       "       'withTags', 'duration_since_dateSeen_month', 'dateSeen_month',\n",
       "       'dateSeen_year', 'URL_clean', 'URL_domain_clean', 'conversion',\n",
       "       'prices.amountMin_converted', 'prices.amountMax_converted',\n",
       "       'percent_difference', 'mean_price_usd', 'nlp_name_boot',\n",
       "       'nlp_name_shoe', 'nlp_name_footwear', 'nlp_name_sandal',\n",
       "       'nlp_name_running', 'nlp_name_sneaker', 'nlp_name_loafer',\n",
       "       'nlp_name_slipper', 'nlp_name_moccasin', 'nlp_cat_boot', 'nlp_cat_shoe',\n",
       "       'nlp_cat_footwear', 'nlp_cat_sandal', 'nlp_cat_sneaker',\n",
       "       'nlp_cat_loafer', 'nlp_cat_slipper', 'nlp_cat_moccasin',\n",
       "       'nlp_cat_running', 'shoe_name_score', 'shoe_cat_score'],\n",
       "      dtype='object')"
      ]
     },
     "execution_count": 62,
     "metadata": {},
     "output_type": "execute_result"
    }
   ],
   "source": [
    "data1.columns"
   ]
  },
  {
   "cell_type": "code",
   "execution_count": 63,
   "metadata": {},
   "outputs": [
    {
     "data": {
      "text/html": [
       "<div>\n",
       "<style scoped>\n",
       "    .dataframe tbody tr th:only-of-type {\n",
       "        vertical-align: middle;\n",
       "    }\n",
       "\n",
       "    .dataframe tbody tr th {\n",
       "        vertical-align: top;\n",
       "    }\n",
       "\n",
       "    .dataframe thead th {\n",
       "        text-align: right;\n",
       "    }\n",
       "</style>\n",
       "<table border=\"1\" class=\"dataframe\">\n",
       "  <thead>\n",
       "    <tr style=\"text-align: right;\">\n",
       "      <th></th>\n",
       "      <th>brand_clean</th>\n",
       "      <th>gender</th>\n",
       "      <th>prices.currency</th>\n",
       "      <th>isSale</th>\n",
       "      <th>freeShipping</th>\n",
       "      <th>isBid</th>\n",
       "      <th>duration_since_dateSeen_month</th>\n",
       "      <th>URL_domain_clean</th>\n",
       "      <th>dateSeen_month</th>\n",
       "      <th>isNew</th>\n",
       "      <th>withTags</th>\n",
       "      <th>withBox</th>\n",
       "      <th>shoe_cat_score</th>\n",
       "      <th>shoe_name_score</th>\n",
       "    </tr>\n",
       "  </thead>\n",
       "  <tbody>\n",
       "    <tr>\n",
       "      <th>0</th>\n",
       "      <td>josmo</td>\n",
       "      <td>Men</td>\n",
       "      <td>USD</td>\n",
       "      <td>1</td>\n",
       "      <td>2</td>\n",
       "      <td>0</td>\n",
       "      <td>33.534298</td>\n",
       "      <td>walmart</td>\n",
       "      <td>11</td>\n",
       "      <td>missing</td>\n",
       "      <td>missing</td>\n",
       "      <td>missing</td>\n",
       "      <td>3</td>\n",
       "      <td>0.14022</td>\n",
       "    </tr>\n",
       "    <tr>\n",
       "      <th>1</th>\n",
       "      <td>josmo</td>\n",
       "      <td>Men</td>\n",
       "      <td>USD</td>\n",
       "      <td>0</td>\n",
       "      <td>2</td>\n",
       "      <td>0</td>\n",
       "      <td>33.534298</td>\n",
       "      <td>walmart</td>\n",
       "      <td>11</td>\n",
       "      <td>new</td>\n",
       "      <td>missing</td>\n",
       "      <td>missing</td>\n",
       "      <td>3</td>\n",
       "      <td>0.14022</td>\n",
       "    </tr>\n",
       "  </tbody>\n",
       "</table>\n",
       "</div>"
      ],
      "text/plain": [
       "  brand_clean gender prices.currency  isSale  freeShipping  isBid  \\\n",
       "0       josmo    Men             USD       1             2      0   \n",
       "1       josmo    Men             USD       0             2      0   \n",
       "\n",
       "   duration_since_dateSeen_month URL_domain_clean  dateSeen_month    isNew  \\\n",
       "0                      33.534298          walmart              11  missing   \n",
       "1                      33.534298          walmart              11      new   \n",
       "\n",
       "  withTags  withBox  shoe_cat_score  shoe_name_score  \n",
       "0  missing  missing               3          0.14022  \n",
       "1  missing  missing               3          0.14022  "
      ]
     },
     "execution_count": 63,
     "metadata": {},
     "output_type": "execute_result"
    }
   ],
   "source": [
    "input_features = ['brand_clean', 'gender', 'prices.currency', 'isSale', 'freeShipping', 'isBid',\n",
    "            'duration_since_dateSeen_month','URL_domain_clean','dateSeen_month',\n",
    "            'isNew','withTags','withBox','shoe_cat_score','shoe_name_score']\n",
    "\n",
    "target_feature = ['mean_price_usd']\n",
    "\n",
    "X = data1[input_features]\n",
    "y = data1[target_feature]\n",
    "\n",
    "X.head(2)"
   ]
  },
  {
   "cell_type": "markdown",
   "metadata": {},
   "source": [
    "**Note:** I've explicitly removed 'dateSeen_year' column due to high correlation with columns 'dateSeen_month' and 'duration_since_dateSeen_month'. Further, I've omitted most of the NLP columns safe for the MAX scores due to significant negative impact on the linear model performance; 'nlp_cat_shoe' column in particular due to its perfect correlation with the 'shoe_cat_score' column (to be expected giving the cleaning I did in sections 2. and 3.)."
   ]
  },
  {
   "cell_type": "markdown",
   "metadata": {},
   "source": [
    "### Preprocessing Features\n",
    "- one hot encode object features EXCEPT 'brand_clean' (high cardinality categorical feature)\n",
    "- for 'brand_clean', we will use hash encoding since its a nominal feature with high cardinality"
   ]
  },
  {
   "cell_type": "code",
   "execution_count": 64,
   "metadata": {},
   "outputs": [
    {
     "data": {
      "text/html": [
       "<div>\n",
       "<style scoped>\n",
       "    .dataframe tbody tr th:only-of-type {\n",
       "        vertical-align: middle;\n",
       "    }\n",
       "\n",
       "    .dataframe tbody tr th {\n",
       "        vertical-align: top;\n",
       "    }\n",
       "\n",
       "    .dataframe thead th {\n",
       "        text-align: right;\n",
       "    }\n",
       "</style>\n",
       "<table border=\"1\" class=\"dataframe\">\n",
       "  <thead>\n",
       "    <tr style=\"text-align: right;\">\n",
       "      <th></th>\n",
       "      <th>dateSeen_month</th>\n",
       "      <th>duration_since_dateSeen_month</th>\n",
       "      <th>freeShipping</th>\n",
       "      <th>isBid</th>\n",
       "      <th>isSale</th>\n",
       "      <th>shoe_cat_score</th>\n",
       "      <th>shoe_name_score</th>\n",
       "      <th>URL_domain_clean_amazon</th>\n",
       "      <th>URL_domain_clean_calvinklein</th>\n",
       "      <th>URL_domain_clean_ebay</th>\n",
       "      <th>...</th>\n",
       "      <th>prices.currency_CAD</th>\n",
       "      <th>prices.currency_EUR</th>\n",
       "      <th>prices.currency_GBP</th>\n",
       "      <th>prices.currency_USD</th>\n",
       "      <th>withBox_missing</th>\n",
       "      <th>withBox_with_box</th>\n",
       "      <th>withBox_without_box</th>\n",
       "      <th>withTags_missing</th>\n",
       "      <th>withTags_with_tags</th>\n",
       "      <th>withTags_without_tags</th>\n",
       "    </tr>\n",
       "  </thead>\n",
       "  <tbody>\n",
       "    <tr>\n",
       "      <th>0</th>\n",
       "      <td>11</td>\n",
       "      <td>33.534298</td>\n",
       "      <td>2</td>\n",
       "      <td>0</td>\n",
       "      <td>1</td>\n",
       "      <td>3</td>\n",
       "      <td>0.14022</td>\n",
       "      <td>0</td>\n",
       "      <td>0</td>\n",
       "      <td>0</td>\n",
       "      <td>...</td>\n",
       "      <td>0</td>\n",
       "      <td>0</td>\n",
       "      <td>0</td>\n",
       "      <td>1</td>\n",
       "      <td>1</td>\n",
       "      <td>0</td>\n",
       "      <td>0</td>\n",
       "      <td>1</td>\n",
       "      <td>0</td>\n",
       "      <td>0</td>\n",
       "    </tr>\n",
       "    <tr>\n",
       "      <th>1</th>\n",
       "      <td>11</td>\n",
       "      <td>33.534298</td>\n",
       "      <td>2</td>\n",
       "      <td>0</td>\n",
       "      <td>0</td>\n",
       "      <td>3</td>\n",
       "      <td>0.14022</td>\n",
       "      <td>0</td>\n",
       "      <td>0</td>\n",
       "      <td>0</td>\n",
       "      <td>...</td>\n",
       "      <td>0</td>\n",
       "      <td>0</td>\n",
       "      <td>0</td>\n",
       "      <td>1</td>\n",
       "      <td>1</td>\n",
       "      <td>0</td>\n",
       "      <td>0</td>\n",
       "      <td>1</td>\n",
       "      <td>0</td>\n",
       "      <td>0</td>\n",
       "    </tr>\n",
       "  </tbody>\n",
       "</table>\n",
       "<p>2 rows × 42 columns</p>\n",
       "</div>"
      ],
      "text/plain": [
       "   dateSeen_month  duration_since_dateSeen_month  freeShipping  isBid  isSale  \\\n",
       "0              11                      33.534298             2      0       1   \n",
       "1              11                      33.534298             2      0       0   \n",
       "\n",
       "   shoe_cat_score  shoe_name_score  URL_domain_clean_amazon  \\\n",
       "0               3          0.14022                        0   \n",
       "1               3          0.14022                        0   \n",
       "\n",
       "   URL_domain_clean_calvinklein  URL_domain_clean_ebay          ...            \\\n",
       "0                             0                      0          ...             \n",
       "1                             0                      0          ...             \n",
       "\n",
       "   prices.currency_CAD  prices.currency_EUR  prices.currency_GBP  \\\n",
       "0                    0                    0                    0   \n",
       "1                    0                    0                    0   \n",
       "\n",
       "   prices.currency_USD  withBox_missing  withBox_with_box  \\\n",
       "0                    1                1                 0   \n",
       "1                    1                1                 0   \n",
       "\n",
       "   withBox_without_box  withTags_missing  withTags_with_tags  \\\n",
       "0                    0                 1                   0   \n",
       "1                    0                 1                   0   \n",
       "\n",
       "   withTags_without_tags  \n",
       "0                      0  \n",
       "1                      0  \n",
       "\n",
       "[2 rows x 42 columns]"
      ]
     },
     "execution_count": 64,
     "metadata": {},
     "output_type": "execute_result"
    }
   ],
   "source": [
    "X_dummies = pd.get_dummies(X[X.columns.difference(['brand_clean'])])\n",
    "X_dummies = X_dummies.drop('URL_domain_clean_ Please use a view that flattens this field to see this data','columns')\n",
    "X_dummies.head(2)"
   ]
  },
  {
   "cell_type": "code",
   "execution_count": 65,
   "metadata": {},
   "outputs": [
    {
     "data": {
      "text/html": [
       "<div>\n",
       "<style scoped>\n",
       "    .dataframe tbody tr th:only-of-type {\n",
       "        vertical-align: middle;\n",
       "    }\n",
       "\n",
       "    .dataframe tbody tr th {\n",
       "        vertical-align: top;\n",
       "    }\n",
       "\n",
       "    .dataframe thead th {\n",
       "        text-align: right;\n",
       "    }\n",
       "</style>\n",
       "<table border=\"1\" class=\"dataframe\">\n",
       "  <thead>\n",
       "    <tr style=\"text-align: right;\">\n",
       "      <th></th>\n",
       "      <th>brand_clean_col_0</th>\n",
       "      <th>brand_clean_col_1</th>\n",
       "      <th>brand_clean_col_2</th>\n",
       "      <th>brand_clean_col_3</th>\n",
       "      <th>brand_clean_col_4</th>\n",
       "      <th>brand_clean_col_5</th>\n",
       "      <th>brand_clean_col_6</th>\n",
       "      <th>brand_clean_col_7</th>\n",
       "    </tr>\n",
       "  </thead>\n",
       "  <tbody>\n",
       "    <tr>\n",
       "      <th>0</th>\n",
       "      <td>1</td>\n",
       "      <td>0</td>\n",
       "      <td>0</td>\n",
       "      <td>0</td>\n",
       "      <td>0</td>\n",
       "      <td>0</td>\n",
       "      <td>0</td>\n",
       "      <td>0</td>\n",
       "    </tr>\n",
       "    <tr>\n",
       "      <th>1</th>\n",
       "      <td>1</td>\n",
       "      <td>0</td>\n",
       "      <td>0</td>\n",
       "      <td>0</td>\n",
       "      <td>0</td>\n",
       "      <td>0</td>\n",
       "      <td>0</td>\n",
       "      <td>0</td>\n",
       "    </tr>\n",
       "  </tbody>\n",
       "</table>\n",
       "</div>"
      ],
      "text/plain": [
       "   brand_clean_col_0  brand_clean_col_1  brand_clean_col_2  brand_clean_col_3  \\\n",
       "0                  1                  0                  0                  0   \n",
       "1                  1                  0                  0                  0   \n",
       "\n",
       "   brand_clean_col_4  brand_clean_col_5  brand_clean_col_6  brand_clean_col_7  \n",
       "0                  0                  0                  0                  0  \n",
       "1                  0                  0                  0                  0  "
      ]
     },
     "execution_count": 65,
     "metadata": {},
     "output_type": "execute_result"
    }
   ],
   "source": [
    "brand_clean_hash = ce.HashingEncoder(cols = ['brand_clean'])\n",
    "brand_clean_encoded = brand_clean_hash.fit_transform(X['brand_clean'], y)\n",
    "brand_clean_encoded.columns = ['brand_clean_' + str(col) for col in brand_clean_encoded.columns]\n",
    "\n",
    "brand_clean_encoded.head(2)"
   ]
  },
  {
   "cell_type": "code",
   "execution_count": 66,
   "metadata": {},
   "outputs": [
    {
     "data": {
      "text/html": [
       "<div>\n",
       "<style scoped>\n",
       "    .dataframe tbody tr th:only-of-type {\n",
       "        vertical-align: middle;\n",
       "    }\n",
       "\n",
       "    .dataframe tbody tr th {\n",
       "        vertical-align: top;\n",
       "    }\n",
       "\n",
       "    .dataframe thead th {\n",
       "        text-align: right;\n",
       "    }\n",
       "</style>\n",
       "<table border=\"1\" class=\"dataframe\">\n",
       "  <thead>\n",
       "    <tr style=\"text-align: right;\">\n",
       "      <th></th>\n",
       "      <th>dateSeen_month</th>\n",
       "      <th>duration_since_dateSeen_month</th>\n",
       "      <th>freeShipping</th>\n",
       "      <th>isBid</th>\n",
       "      <th>isSale</th>\n",
       "      <th>shoe_cat_score</th>\n",
       "      <th>shoe_name_score</th>\n",
       "      <th>URL_domain_clean_amazon</th>\n",
       "      <th>URL_domain_clean_calvinklein</th>\n",
       "      <th>URL_domain_clean_ebay</th>\n",
       "      <th>...</th>\n",
       "      <th>withTags_with_tags</th>\n",
       "      <th>withTags_without_tags</th>\n",
       "      <th>brand_clean_col_0</th>\n",
       "      <th>brand_clean_col_1</th>\n",
       "      <th>brand_clean_col_2</th>\n",
       "      <th>brand_clean_col_3</th>\n",
       "      <th>brand_clean_col_4</th>\n",
       "      <th>brand_clean_col_5</th>\n",
       "      <th>brand_clean_col_6</th>\n",
       "      <th>brand_clean_col_7</th>\n",
       "    </tr>\n",
       "  </thead>\n",
       "  <tbody>\n",
       "    <tr>\n",
       "      <th>0</th>\n",
       "      <td>11</td>\n",
       "      <td>33.534298</td>\n",
       "      <td>2</td>\n",
       "      <td>0</td>\n",
       "      <td>1</td>\n",
       "      <td>3</td>\n",
       "      <td>0.14022</td>\n",
       "      <td>0</td>\n",
       "      <td>0</td>\n",
       "      <td>0</td>\n",
       "      <td>...</td>\n",
       "      <td>0</td>\n",
       "      <td>0</td>\n",
       "      <td>1</td>\n",
       "      <td>0</td>\n",
       "      <td>0</td>\n",
       "      <td>0</td>\n",
       "      <td>0</td>\n",
       "      <td>0</td>\n",
       "      <td>0</td>\n",
       "      <td>0</td>\n",
       "    </tr>\n",
       "    <tr>\n",
       "      <th>1</th>\n",
       "      <td>11</td>\n",
       "      <td>33.534298</td>\n",
       "      <td>2</td>\n",
       "      <td>0</td>\n",
       "      <td>0</td>\n",
       "      <td>3</td>\n",
       "      <td>0.14022</td>\n",
       "      <td>0</td>\n",
       "      <td>0</td>\n",
       "      <td>0</td>\n",
       "      <td>...</td>\n",
       "      <td>0</td>\n",
       "      <td>0</td>\n",
       "      <td>1</td>\n",
       "      <td>0</td>\n",
       "      <td>0</td>\n",
       "      <td>0</td>\n",
       "      <td>0</td>\n",
       "      <td>0</td>\n",
       "      <td>0</td>\n",
       "      <td>0</td>\n",
       "    </tr>\n",
       "  </tbody>\n",
       "</table>\n",
       "<p>2 rows × 50 columns</p>\n",
       "</div>"
      ],
      "text/plain": [
       "   dateSeen_month  duration_since_dateSeen_month  freeShipping  isBid  isSale  \\\n",
       "0              11                      33.534298             2      0       1   \n",
       "1              11                      33.534298             2      0       0   \n",
       "\n",
       "   shoe_cat_score  shoe_name_score  URL_domain_clean_amazon  \\\n",
       "0               3          0.14022                        0   \n",
       "1               3          0.14022                        0   \n",
       "\n",
       "   URL_domain_clean_calvinklein  URL_domain_clean_ebay        ...          \\\n",
       "0                             0                      0        ...           \n",
       "1                             0                      0        ...           \n",
       "\n",
       "   withTags_with_tags  withTags_without_tags  brand_clean_col_0  \\\n",
       "0                   0                      0                  1   \n",
       "1                   0                      0                  1   \n",
       "\n",
       "   brand_clean_col_1  brand_clean_col_2  brand_clean_col_3  brand_clean_col_4  \\\n",
       "0                  0                  0                  0                  0   \n",
       "1                  0                  0                  0                  0   \n",
       "\n",
       "   brand_clean_col_5  brand_clean_col_6  brand_clean_col_7  \n",
       "0                  0                  0                  0  \n",
       "1                  0                  0                  0  \n",
       "\n",
       "[2 rows x 50 columns]"
      ]
     },
     "execution_count": 66,
     "metadata": {},
     "output_type": "execute_result"
    }
   ],
   "source": [
    "X_dummies = pd.concat([X_dummies,brand_clean_encoded],axis=1)\n",
    "X_dummies.head(2)"
   ]
  },
  {
   "cell_type": "markdown",
   "metadata": {},
   "source": [
    "Use MinMaxScaler on the feature set to standardize the input data."
   ]
  },
  {
   "cell_type": "code",
   "execution_count": 67,
   "metadata": {},
   "outputs": [
    {
     "data": {
      "text/html": [
       "<div>\n",
       "<style scoped>\n",
       "    .dataframe tbody tr th:only-of-type {\n",
       "        vertical-align: middle;\n",
       "    }\n",
       "\n",
       "    .dataframe tbody tr th {\n",
       "        vertical-align: top;\n",
       "    }\n",
       "\n",
       "    .dataframe thead th {\n",
       "        text-align: right;\n",
       "    }\n",
       "</style>\n",
       "<table border=\"1\" class=\"dataframe\">\n",
       "  <thead>\n",
       "    <tr style=\"text-align: right;\">\n",
       "      <th></th>\n",
       "      <th>dateSeen_month</th>\n",
       "      <th>duration_since_dateSeen_month</th>\n",
       "      <th>freeShipping</th>\n",
       "      <th>isBid</th>\n",
       "      <th>isSale</th>\n",
       "      <th>shoe_cat_score</th>\n",
       "      <th>shoe_name_score</th>\n",
       "      <th>URL_domain_clean_amazon</th>\n",
       "      <th>URL_domain_clean_calvinklein</th>\n",
       "      <th>URL_domain_clean_ebay</th>\n",
       "      <th>...</th>\n",
       "      <th>withTags_with_tags</th>\n",
       "      <th>withTags_without_tags</th>\n",
       "      <th>brand_clean_col_0</th>\n",
       "      <th>brand_clean_col_1</th>\n",
       "      <th>brand_clean_col_2</th>\n",
       "      <th>brand_clean_col_3</th>\n",
       "      <th>brand_clean_col_4</th>\n",
       "      <th>brand_clean_col_5</th>\n",
       "      <th>brand_clean_col_6</th>\n",
       "      <th>brand_clean_col_7</th>\n",
       "    </tr>\n",
       "  </thead>\n",
       "  <tbody>\n",
       "    <tr>\n",
       "      <th>0</th>\n",
       "      <td>0.909091</td>\n",
       "      <td>0.098324</td>\n",
       "      <td>1.0</td>\n",
       "      <td>0.0</td>\n",
       "      <td>1.0</td>\n",
       "      <td>0.333333</td>\n",
       "      <td>0.192687</td>\n",
       "      <td>0.0</td>\n",
       "      <td>0.0</td>\n",
       "      <td>0.0</td>\n",
       "      <td>...</td>\n",
       "      <td>0.0</td>\n",
       "      <td>0.0</td>\n",
       "      <td>1.0</td>\n",
       "      <td>0.0</td>\n",
       "      <td>0.0</td>\n",
       "      <td>0.0</td>\n",
       "      <td>0.0</td>\n",
       "      <td>0.0</td>\n",
       "      <td>0.0</td>\n",
       "      <td>0.0</td>\n",
       "    </tr>\n",
       "    <tr>\n",
       "      <th>1</th>\n",
       "      <td>0.909091</td>\n",
       "      <td>0.098324</td>\n",
       "      <td>1.0</td>\n",
       "      <td>0.0</td>\n",
       "      <td>0.0</td>\n",
       "      <td>0.333333</td>\n",
       "      <td>0.192687</td>\n",
       "      <td>0.0</td>\n",
       "      <td>0.0</td>\n",
       "      <td>0.0</td>\n",
       "      <td>...</td>\n",
       "      <td>0.0</td>\n",
       "      <td>0.0</td>\n",
       "      <td>1.0</td>\n",
       "      <td>0.0</td>\n",
       "      <td>0.0</td>\n",
       "      <td>0.0</td>\n",
       "      <td>0.0</td>\n",
       "      <td>0.0</td>\n",
       "      <td>0.0</td>\n",
       "      <td>0.0</td>\n",
       "    </tr>\n",
       "  </tbody>\n",
       "</table>\n",
       "<p>2 rows × 50 columns</p>\n",
       "</div>"
      ],
      "text/plain": [
       "   dateSeen_month  duration_since_dateSeen_month  freeShipping  isBid  isSale  \\\n",
       "0        0.909091                       0.098324           1.0    0.0     1.0   \n",
       "1        0.909091                       0.098324           1.0    0.0     0.0   \n",
       "\n",
       "   shoe_cat_score  shoe_name_score  URL_domain_clean_amazon  \\\n",
       "0        0.333333         0.192687                      0.0   \n",
       "1        0.333333         0.192687                      0.0   \n",
       "\n",
       "   URL_domain_clean_calvinklein  URL_domain_clean_ebay        ...          \\\n",
       "0                           0.0                    0.0        ...           \n",
       "1                           0.0                    0.0        ...           \n",
       "\n",
       "   withTags_with_tags  withTags_without_tags  brand_clean_col_0  \\\n",
       "0                 0.0                    0.0                1.0   \n",
       "1                 0.0                    0.0                1.0   \n",
       "\n",
       "   brand_clean_col_1  brand_clean_col_2  brand_clean_col_3  brand_clean_col_4  \\\n",
       "0                0.0                0.0                0.0                0.0   \n",
       "1                0.0                0.0                0.0                0.0   \n",
       "\n",
       "   brand_clean_col_5  brand_clean_col_6  brand_clean_col_7  \n",
       "0                0.0                0.0                0.0  \n",
       "1                0.0                0.0                0.0  \n",
       "\n",
       "[2 rows x 50 columns]"
      ]
     },
     "execution_count": 67,
     "metadata": {},
     "output_type": "execute_result"
    }
   ],
   "source": [
    "scaler = MinMaxScaler()\n",
    "\n",
    "X_scaled = pd.DataFrame(scaler.fit_transform(X_dummies), columns=X_dummies.columns)\n",
    "X_scaled.head(2)"
   ]
  },
  {
   "cell_type": "code",
   "execution_count": 68,
   "metadata": {},
   "outputs": [
    {
     "data": {
      "text/plain": [
       "(18874,)"
      ]
     },
     "execution_count": 68,
     "metadata": {},
     "output_type": "execute_result"
    }
   ],
   "source": [
    "y = np.array(y).ravel()\n",
    "y.shape"
   ]
  },
  {
   "cell_type": "code",
   "execution_count": 69,
   "metadata": {},
   "outputs": [
    {
     "name": "stdout",
     "output_type": "stream",
     "text": [
      "Shape of training set is: (15099, 50)\n",
      "Shape of testing set is: (3775, 50)\n"
     ]
    }
   ],
   "source": [
    "X_train, X_test, y_train, y_test = train_test_split(X_scaled, y, test_size=0.20, random_state=42)\n",
    "print('Shape of training set is:', X_train.shape)\n",
    "print('Shape of testing set is:', X_test.shape)"
   ]
  },
  {
   "cell_type": "markdown",
   "metadata": {},
   "source": [
    "### Train Linear Regression model\n",
    "- Use gridsearchcv to try out different ranges of k on the training set.\n",
    "- **NOTE: There was ultimately no real reason to use GridSearchCV since there were no LinearRegression parameters that I felt needed iterating through. I could've instead used a more basic cross-validation method/function to see how splitting the data affected the mean score (GridSearchCV is a bit overkill in this scenario), but if it was another type of problem - say classification - it may still have come in hand.**"
   ]
  },
  {
   "cell_type": "code",
   "execution_count": 70,
   "metadata": {},
   "outputs": [],
   "source": [
    "linear_model = LinearRegression()\n",
    "linear_model_params = {}"
   ]
  },
  {
   "cell_type": "code",
   "execution_count": 71,
   "metadata": {},
   "outputs": [
    {
     "name": "stdout",
     "output_type": "stream",
     "text": [
      "Fitting 4 folds for each of 1 candidates, totalling 4 fits\n",
      "[CV]  ................................................................\n",
      "[CV] .................................... , score=0.205, total=   0.0s\n",
      "[CV]  ................................................................\n",
      "[CV] .................................... , score=0.071, total=   0.0s\n",
      "[CV]  ................................................................\n",
      "[CV] .................................... , score=0.271, total=   0.0s\n",
      "[CV]  ................................................................\n",
      "[CV] .................................... , score=0.077, total=   0.0s\n",
      "CPU times: user 179 ms, sys: 93.9 ms, total: 273 ms\n",
      "Wall time: 84.7 ms\n"
     ]
    },
    {
     "name": "stderr",
     "output_type": "stream",
     "text": [
      "[Parallel(n_jobs=1)]: Using backend SequentialBackend with 1 concurrent workers.\n",
      "[Parallel(n_jobs=1)]: Done   1 out of   1 | elapsed:    0.0s remaining:    0.0s\n",
      "[Parallel(n_jobs=1)]: Done   2 out of   2 | elapsed:    0.0s remaining:    0.0s\n",
      "[Parallel(n_jobs=1)]: Done   4 out of   4 | elapsed:    0.1s finished\n"
     ]
    }
   ],
   "source": [
    "%%time\n",
    "linear_model_cv = GridSearchCV(linear_model, param_grid = linear_model_params, cv=4, verbose=3)\n",
    "linear_model_cv.fit(X_train,y_train)"
   ]
  },
  {
   "cell_type": "code",
   "execution_count": 72,
   "metadata": {},
   "outputs": [
    {
     "name": "stdout",
     "output_type": "stream",
     "text": [
      "The best R2 / variance score is: 0.1560419756604791\n",
      "The best k value is: {}\n"
     ]
    }
   ],
   "source": [
    "print('The best R2 / variance score is:', linear_model_cv.best_score_)\n",
    "print('The best k value is:', linear_model_cv.best_params_)  # overkill for linear regression, few parameters to tweak"
   ]
  },
  {
   "cell_type": "code",
   "execution_count": 73,
   "metadata": {},
   "outputs": [
    {
     "name": "stdout",
     "output_type": "stream",
     "text": [
      "Mean squared error:  104964.15278670496\n",
      "Root mean squared error:  323.9817167475735\n",
      "R2 score:  -1.404270285831899e-06\n"
     ]
    }
   ],
   "source": [
    "# compare model performance to simply using the average of y_train\n",
    "y_mean = y_train.mean()\n",
    "y_median = np.median(y_train)\n",
    "y_mean_predicted = pd.Series(np.tile(y_mean, len(y_test)))\n",
    "\n",
    "# compute RMSE and R2\n",
    "mse = metrics.mean_squared_error(y_test, y_mean_predicted)\n",
    "r2 = metrics.r2_score(y_test, y_mean_predicted)\n",
    "\n",
    "# printing values\n",
    "print('Mean squared error: ', mse)\n",
    "print('Root mean squared error: ', math.sqrt(mse))\n",
    "print('R2 score: ', r2)"
   ]
  },
  {
   "cell_type": "code",
   "execution_count": 74,
   "metadata": {},
   "outputs": [
    {
     "data": {
      "text/html": [
       "<div>\n",
       "<style scoped>\n",
       "    .dataframe tbody tr th:only-of-type {\n",
       "        vertical-align: middle;\n",
       "    }\n",
       "\n",
       "    .dataframe tbody tr th {\n",
       "        vertical-align: top;\n",
       "    }\n",
       "\n",
       "    .dataframe thead th {\n",
       "        text-align: right;\n",
       "    }\n",
       "</style>\n",
       "<table border=\"1\" class=\"dataframe\">\n",
       "  <thead>\n",
       "    <tr style=\"text-align: right;\">\n",
       "      <th></th>\n",
       "      <th>y_test_true</th>\n",
       "      <th>y_mean_predicted</th>\n",
       "    </tr>\n",
       "  </thead>\n",
       "  <tbody>\n",
       "    <tr>\n",
       "      <th>0</th>\n",
       "      <td>160.000000</td>\n",
       "      <td>113.032981</td>\n",
       "    </tr>\n",
       "    <tr>\n",
       "      <th>1</th>\n",
       "      <td>59.220000</td>\n",
       "      <td>113.032981</td>\n",
       "    </tr>\n",
       "    <tr>\n",
       "      <th>2</th>\n",
       "      <td>110.000000</td>\n",
       "      <td>113.032981</td>\n",
       "    </tr>\n",
       "    <tr>\n",
       "      <th>3</th>\n",
       "      <td>110.730000</td>\n",
       "      <td>113.032981</td>\n",
       "    </tr>\n",
       "    <tr>\n",
       "      <th>4</th>\n",
       "      <td>49.272573</td>\n",
       "      <td>113.032981</td>\n",
       "    </tr>\n",
       "    <tr>\n",
       "      <th>5</th>\n",
       "      <td>74.690000</td>\n",
       "      <td>113.032981</td>\n",
       "    </tr>\n",
       "    <tr>\n",
       "      <th>6</th>\n",
       "      <td>17.990000</td>\n",
       "      <td>113.032981</td>\n",
       "    </tr>\n",
       "    <tr>\n",
       "      <th>7</th>\n",
       "      <td>17.650000</td>\n",
       "      <td>113.032981</td>\n",
       "    </tr>\n",
       "    <tr>\n",
       "      <th>8</th>\n",
       "      <td>74.990000</td>\n",
       "      <td>113.032981</td>\n",
       "    </tr>\n",
       "    <tr>\n",
       "      <th>9</th>\n",
       "      <td>82.990000</td>\n",
       "      <td>113.032981</td>\n",
       "    </tr>\n",
       "  </tbody>\n",
       "</table>\n",
       "</div>"
      ],
      "text/plain": [
       "   y_test_true  y_mean_predicted\n",
       "0   160.000000        113.032981\n",
       "1    59.220000        113.032981\n",
       "2   110.000000        113.032981\n",
       "3   110.730000        113.032981\n",
       "4    49.272573        113.032981\n",
       "5    74.690000        113.032981\n",
       "6    17.990000        113.032981\n",
       "7    17.650000        113.032981\n",
       "8    74.990000        113.032981\n",
       "9    82.990000        113.032981"
      ]
     },
     "execution_count": 74,
     "metadata": {},
     "output_type": "execute_result"
    }
   ],
   "source": [
    "# have a quick peek at y_mean_pred vs y_test side-by-side\n",
    "pd.DataFrame({'y_test_true':y_test,'y_mean_predicted':y_mean_predicted}).head(10)"
   ]
  },
  {
   "cell_type": "markdown",
   "metadata": {},
   "source": [
    "As expected, using metrics of central tendency as y-value baseline predictions (mean and median alike) gives an **R2 score near 0**, i.e. your regression is no better than taking the mean value and you are **not using any information from the other variables**.\n",
    "\n",
    "Furthermore, the mean squared error score (metric used for scoring our linear regression model) is on the order of 10^5, RMSE on the order of 10^2. Since RMSE is measured in the units of the target variables (USD), it represents a dollar amount by which our baseline predictions are off.\n",
    "\n",
    "*At least we can rest easy knowing that the basic linear model, however poor its performance, is still performing better than using just a measure of central tendency! Granted, all signs point to the fact that more work likely needs to be done on the feature engineering front.*"
   ]
  },
  {
   "cell_type": "markdown",
   "metadata": {},
   "source": [
    "### Testing Linear model\n",
    "- Apply the linear model on full test set and evaluate the model performance using evaluation metrics MSE, RMSE and R2."
   ]
  },
  {
   "cell_type": "code",
   "execution_count": 75,
   "metadata": {},
   "outputs": [
    {
     "name": "stdout",
     "output_type": "stream",
     "text": [
      "CPU times: user 37.5 ms, sys: 16 ms, total: 53.5 ms\n",
      "Wall time: 14.6 ms\n"
     ]
    }
   ],
   "source": [
    "%%time\n",
    "linear_test = LinearRegression()\n",
    "linear_test.fit(X_train,y_train)\n",
    "linear_test_predictions = linear_test.predict(X_test)"
   ]
  },
  {
   "cell_type": "code",
   "execution_count": 76,
   "metadata": {},
   "outputs": [
    {
     "name": "stdout",
     "output_type": "stream",
     "text": [
      "MSE:  95770.81557033962\n",
      "RMSE:  309.46860191356996\n",
      "R2 : 0.08758421312594278\n"
     ]
    }
   ],
   "source": [
    "print(\"MSE: \",metrics.mean_squared_error(y_test, linear_test_predictions))\n",
    "print(\"RMSE: \",math.sqrt(metrics.mean_squared_error(y_test, linear_test_predictions)))\n",
    "print(\"R2 :\",metrics.r2_score(y_test, linear_test_predictions))"
   ]
  },
  {
   "cell_type": "markdown",
   "metadata": {},
   "source": [
    "### Results Summary"
   ]
  },
  {
   "cell_type": "markdown",
   "metadata": {},
   "source": [
    "Unfortunately, it appears the basic linear model **doesn't perform much better than our worse-case measure of central tendency comparison**; notably, R2 is still very low (close to 0, although a bit greater than without the features' information) and the RMSE score is of the same order of magnitued (10^2 in USD).\n",
    "\n",
    "Though I won't due to time constraints, it's also worth **checking adjusted R2** to make sure the small improvements we're seeing in evaluation metrics (R2 in particular) are simply due to adding new features.\n",
    "\n",
    "Although I will proceed with trying a more complex supervised regression model, this is **usually a sign we need to re-evaluate our input features + try deriving more valuable features from the data that we have**; or alternatively, **try reframing the task/problem itself** given the data that we have."
   ]
  },
  {
   "cell_type": "markdown",
   "metadata": {},
   "source": [
    "# 6.0 Model Implementation (LightGBM)"
   ]
  },
  {
   "cell_type": "markdown",
   "metadata": {},
   "source": [
    "I will try using a boosting (LightGBM) model for the following reasons:\n",
    "- Efficient on a large datasets (note on this in 'Future Improvements')\n",
    "- Handles categorical variables without the need to encode\n",
    "- Better performance from an evaluation perspective compared to Random Forest and SVM; also less computation intensive than neural networks\n",
    "- There are many parameters that can be tuned to improve evaluation performance"
   ]
  },
  {
   "cell_type": "code",
   "execution_count": 77,
   "metadata": {},
   "outputs": [
    {
     "data": {
      "text/plain": [
       "['nlp_name_boot',\n",
       " 'nlp_name_shoe',\n",
       " 'nlp_name_footwear',\n",
       " 'nlp_name_sandal',\n",
       " 'nlp_name_running',\n",
       " 'nlp_name_sneaker',\n",
       " 'nlp_name_loafer',\n",
       " 'nlp_name_slipper',\n",
       " 'nlp_name_moccasin']"
      ]
     },
     "execution_count": 77,
     "metadata": {},
     "output_type": "execute_result"
    }
   ],
   "source": [
    "nlp_name.columns.tolist()"
   ]
  },
  {
   "cell_type": "code",
   "execution_count": 78,
   "metadata": {},
   "outputs": [],
   "source": [
    "# Note: dateSeen_year removed due to high correlation with dateSeen_month and duration_since_dateSeen_month\n",
    "# led to negligeable impact on the model\n",
    "\n",
    "numeric_features = ['isSale', 'freeShipping', 'isBid',\n",
    "                    'duration_since_dateSeen_month','dateSeen_month',\n",
    "                    'shoe_cat_score','shoe_name_score']\n",
    "\n",
    "nlp_cat_subset = ['nlp_cat_boot',\n",
    " 'nlp_cat_shoe',\n",
    " 'nlp_cat_sneaker']\n",
    "\n",
    "nlp_name_subset = ['nlp_name_boot',\n",
    " 'nlp_name_shoe',\n",
    " 'nlp_name_sandal',\n",
    " 'nlp_name_running',\n",
    " 'nlp_name_sneaker',\n",
    " 'nlp_name_loafer',\n",
    " 'nlp_name_slipper',\n",
    " 'nlp_name_moccasin']\n",
    "\n",
    "numeric_features = numeric_features + nlp_cat_subset + nlp_name_subset\n",
    "\n",
    "categorical_features = ['brand_clean', 'gender', 'isNew', 'withTags', 'withBox', \n",
    "                        'prices.currency', 'URL_domain_clean']\n",
    "\n",
    "target_feature = ['mean_price_usd']\n",
    "\n",
    "y = data1[target_feature]"
   ]
  },
  {
   "cell_type": "code",
   "execution_count": 79,
   "metadata": {},
   "outputs": [],
   "source": [
    "numerical_data = data1[numeric_features]\n",
    "\n",
    "scaler = MinMaxScaler()\n",
    "numerical_data_scaled = pd.DataFrame(scaler.fit_transform(numerical_data), columns = numerical_data.columns)"
   ]
  },
  {
   "cell_type": "code",
   "execution_count": 80,
   "metadata": {},
   "outputs": [
    {
     "name": "stderr",
     "output_type": "stream",
     "text": [
      "/anaconda3/lib/python3.7/site-packages/ipykernel_launcher.py:3: SettingWithCopyWarning: \n",
      "A value is trying to be set on a copy of a slice from a DataFrame.\n",
      "Try using .loc[row_indexer,col_indexer] = value instead\n",
      "\n",
      "See the caveats in the documentation: http://pandas.pydata.org/pandas-docs/stable/indexing.html#indexing-view-versus-copy\n",
      "  This is separate from the ipykernel package so we can avoid doing imports until\n"
     ]
    },
    {
     "name": "stdout",
     "output_type": "stream",
     "text": [
      "Converting object variables to type category for lightgbm: \n"
     ]
    },
    {
     "data": {
      "text/plain": [
       "brand_clean         category\n",
       "gender              category\n",
       "isNew               category\n",
       "withTags            category\n",
       "withBox             category\n",
       "prices.currency     category\n",
       "URL_domain_clean    category\n",
       "dtype: object"
      ]
     },
     "execution_count": 80,
     "metadata": {},
     "output_type": "execute_result"
    }
   ],
   "source": [
    "categorical_data = data1[categorical_features]\n",
    "for col in categorical_data.columns: \n",
    "     categorical_data[col] = categorical_data[col].astype('category')\n",
    "\n",
    "print('Converting object variables to type category for lightgbm: ')\n",
    "categorical_data.dtypes"
   ]
  },
  {
   "cell_type": "code",
   "execution_count": 81,
   "metadata": {},
   "outputs": [
    {
     "name": "stdout",
     "output_type": "stream",
     "text": [
      "Features selected for lightgbm model based on feature importance and trial and error:\n"
     ]
    },
    {
     "data": {
      "text/plain": [
       "Index(['isSale', 'freeShipping', 'isBid', 'duration_since_dateSeen_month',\n",
       "       'dateSeen_month', 'shoe_cat_score', 'shoe_name_score', 'nlp_cat_boot',\n",
       "       'nlp_cat_shoe', 'nlp_cat_sneaker', 'nlp_name_boot', 'nlp_name_shoe',\n",
       "       'nlp_name_sandal', 'nlp_name_running', 'nlp_name_sneaker',\n",
       "       'nlp_name_loafer', 'nlp_name_slipper', 'nlp_name_moccasin',\n",
       "       'brand_clean', 'gender', 'isNew', 'withTags', 'withBox',\n",
       "       'prices.currency', 'URL_domain_clean'],\n",
       "      dtype='object')"
      ]
     },
     "execution_count": 81,
     "metadata": {},
     "output_type": "execute_result"
    }
   ],
   "source": [
    "X_lgbm = pd.concat([numerical_data_scaled.reset_index(drop=True), categorical_data.reset_index(drop=True)], axis=1)\n",
    "print('Features selected for lightgbm model based on feature importance and trial and error:')\n",
    "X_lgbm.columns"
   ]
  },
  {
   "cell_type": "code",
   "execution_count": 82,
   "metadata": {},
   "outputs": [
    {
     "name": "stdout",
     "output_type": "stream",
     "text": [
      "Shape of train set is: (15099, 25)\n",
      "Shape of testing set is: (3775, 25)\n"
     ]
    }
   ],
   "source": [
    "X_data, X_test, y_data, y_test = train_test_split(X_lgbm, y, test_size=0.2, random_state=42) #Updated\n",
    "print('Shape of train set is:', X_data.shape)  \n",
    "print('Shape of testing set is:', X_test.shape)"
   ]
  },
  {
   "cell_type": "code",
   "execution_count": 83,
   "metadata": {},
   "outputs": [],
   "source": [
    "def lgbm_model(X_data, y_data, params, n_folds):\n",
    "    n_folds = KFold(n_splits=n_folds)\n",
    "    X_data = X_data.reset_index(drop=True)\n",
    "    y_data = y_data.reset_index(drop=True)\n",
    "\n",
    "    \n",
    "    \n",
    "    train_mse = []\n",
    "    train_rmse = []\n",
    "    train_r2 = []\n",
    "    validation_mse = []\n",
    "    validation_rmse = []\n",
    "    validation_r2 = []\n",
    "    \n",
    "    for train_index, validate_index in n_folds.split(X_data):\n",
    "        \n",
    "        X_train, X_validate = X_data.iloc[train_index], X_data.iloc[validate_index]\n",
    "        y_train, y_validate = y_data.iloc[train_index], y_data.iloc[validate_index]\n",
    "        \n",
    "        \n",
    "        lgb_model = lgb.LGBMRegressor(**params, n_jobs=5)\n",
    "        \n",
    "        # train the model\n",
    "        lgb_model.fit(X_train, y_train, early_stopping_rounds=50, \n",
    "                      eval_set=(X_validate, y_validate), eval_metric='l2')\n",
    "\n",
    "        # get train rmse and r2\n",
    "        y_train_pred = lgb_model.predict(X_train, num_iteration=lgb_model.best_iteration_)\n",
    "\n",
    "        # get validation rmse and r2\n",
    "        y_pred = lgb_model.predict(X_validate, num_iteration=lgb_model.best_iteration_)\n",
    "\n",
    "        train_mse.append(metrics.mean_squared_error(y_train, y_train_pred))\n",
    "        train_rmse.append(math.sqrt(metrics.mean_squared_error(y_train, y_train_pred)))\n",
    "        train_r2.append(metrics.r2_score(y_train, y_train_pred))\n",
    "\n",
    "        validation_mse.append(metrics.mean_squared_error(y_validate, y_pred))\n",
    "        validation_rmse.append(math.sqrt(metrics.mean_squared_error(y_validate, y_pred)))\n",
    "        validation_r2.append(metrics.r2_score(y_validate, y_pred))    \n",
    "    \n",
    "    \n",
    "    return [pd.DataFrame(train_mse).mean().values[0], \n",
    "            pd.DataFrame(train_rmse).mean().values[0], \n",
    "            pd.DataFrame(train_r2).mean().values[0],\n",
    "            pd.DataFrame(validation_mse).mean().values[0], \n",
    "            pd.DataFrame(validation_rmse).mean().values[0], \n",
    "            pd.DataFrame(validation_r2).mean().values[0]], lgb_model"
   ]
  },
  {
   "cell_type": "code",
   "execution_count": 84,
   "metadata": {},
   "outputs": [],
   "source": [
    "params = {'learning_rate':0.08,\n",
    "         'boosting_type': 'gbdt',\n",
    "         'num_leaves':20,\n",
    "         'objective':'regression',\n",
    "         'metric': 'l1',\n",
    "         'max_depth': 4,\n",
    "         'max_bin': 50,\n",
    "         'feature_fraction': 0.5,\n",
    "         'reg_alpha': 0.5,\n",
    "         'reg_lambda': 0.5,\n",
    "         'min_gain_to_split': 0.2,\n",
    "         'n_estimators': 100,\n",
    "         'num_iterations': 90,\n",
    "         'min_split_gain': 0.08,\n",
    "         'min_child_samples': 5}"
   ]
  },
  {
   "cell_type": "code",
   "execution_count": 85,
   "metadata": {},
   "outputs": [
    {
     "name": "stdout",
     "output_type": "stream",
     "text": [
      "[1]\tvalid_0's l2: 39403.5\tvalid_0's l1: 86.3906\n",
      "Training until validation scores don't improve for 50 rounds.\n",
      "[2]\tvalid_0's l2: 37833.7\tvalid_0's l1: 83.8002\n",
      "[3]\tvalid_0's l2: 36299.4\tvalid_0's l1: 81.2633\n",
      "[4]\tvalid_0's l2: 35055.7\tvalid_0's l1: 79.6185\n",
      "[5]\tvalid_0's l2: 34138\tvalid_0's l1: 78.46\n",
      "[6]\tvalid_0's l2: 33267.5\tvalid_0's l1: 77.2665\n",
      "[7]\tvalid_0's l2: 32392\tvalid_0's l1: 75.1701\n",
      "[8]\tvalid_0's l2: 31749.7\tvalid_0's l1: 74.2724\n",
      "[9]\tvalid_0's l2: 31261.3\tvalid_0's l1: 73.2828\n",
      "[10]\tvalid_0's l2: 30704.8\tvalid_0's l1: 72.3628\n",
      "[11]\tvalid_0's l2: 30101.2\tvalid_0's l1: 70.6852\n",
      "[12]\tvalid_0's l2: 29558\tvalid_0's l1: 69.1741\n",
      "[13]\tvalid_0's l2: 29171\tvalid_0's l1: 68.198\n",
      "[14]\tvalid_0's l2: 28818.5\tvalid_0's l1: 67.2476\n",
      "[15]\tvalid_0's l2: 28642.3\tvalid_0's l1: 66.9385\n",
      "[16]\tvalid_0's l2: 28447.5\tvalid_0's l1: 66.3351\n",
      "[17]\tvalid_0's l2: 28302.2\tvalid_0's l1: 65.976\n",
      "[18]\tvalid_0's l2: 28103\tvalid_0's l1: 65.3637\n",
      "[19]\tvalid_0's l2: 27864.4\tvalid_0's l1: 64.6103\n",
      "[20]\tvalid_0's l2: 27628.3\tvalid_0's l1: 64.012\n",
      "[21]\tvalid_0's l2: 27418.8\tvalid_0's l1: 63.4101\n",
      "[22]\tvalid_0's l2: 27380.1\tvalid_0's l1: 63.3069\n",
      "[23]\tvalid_0's l2: 27226.1\tvalid_0's l1: 62.7823\n",
      "[24]\tvalid_0's l2: 27072.9\tvalid_0's l1: 62.5697\n",
      "[25]\tvalid_0's l2: 26901.2\tvalid_0's l1: 62.3202\n",
      "[26]\tvalid_0's l2: 26777.1\tvalid_0's l1: 61.9807\n",
      "[27]\tvalid_0's l2: 26722.3\tvalid_0's l1: 61.837\n",
      "[28]\tvalid_0's l2: 26628.6\tvalid_0's l1: 61.582\n",
      "[29]\tvalid_0's l2: 26560.1\tvalid_0's l1: 61.4005\n",
      "[30]\tvalid_0's l2: 26513.9\tvalid_0's l1: 61.2665\n",
      "[31]\tvalid_0's l2: 26445.8\tvalid_0's l1: 61.0992\n",
      "[32]\tvalid_0's l2: 26411.1\tvalid_0's l1: 60.8439\n",
      "[33]\tvalid_0's l2: 26394.6\tvalid_0's l1: 60.7637\n",
      "[34]\tvalid_0's l2: 26348.3\tvalid_0's l1: 60.5823\n",
      "[35]\tvalid_0's l2: 26301.2\tvalid_0's l1: 60.4341\n",
      "[36]\tvalid_0's l2: 26228.2\tvalid_0's l1: 60.1348\n",
      "[37]\tvalid_0's l2: 26176.8\tvalid_0's l1: 59.9299\n",
      "[38]\tvalid_0's l2: 26128.7\tvalid_0's l1: 59.6945\n",
      "[39]\tvalid_0's l2: 26074.4\tvalid_0's l1: 59.5054\n",
      "[40]\tvalid_0's l2: 26081.4\tvalid_0's l1: 59.4722\n",
      "[41]\tvalid_0's l2: 26045.1\tvalid_0's l1: 59.3395\n",
      "[42]\tvalid_0's l2: 26007.9\tvalid_0's l1: 59.1907\n",
      "[43]\tvalid_0's l2: 25979.7\tvalid_0's l1: 59.0821\n",
      "[44]\tvalid_0's l2: 25954\tvalid_0's l1: 58.9777\n",
      "[45]\tvalid_0's l2: 25916.2\tvalid_0's l1: 58.8466\n",
      "[46]\tvalid_0's l2: 25899.3\tvalid_0's l1: 58.738\n",
      "[47]\tvalid_0's l2: 25927.4\tvalid_0's l1: 58.6148\n",
      "[48]\tvalid_0's l2: 25915.8\tvalid_0's l1: 58.5201\n",
      "[49]\tvalid_0's l2: 25923\tvalid_0's l1: 58.5147\n",
      "[50]\tvalid_0's l2: 25903.3\tvalid_0's l1: 58.4177\n",
      "[51]\tvalid_0's l2: 25888.6\tvalid_0's l1: 58.3402\n",
      "[52]\tvalid_0's l2: 25873.6\tvalid_0's l1: 58.2381\n",
      "[53]\tvalid_0's l2: 25903.1\tvalid_0's l1: 58.2372\n",
      "[54]\tvalid_0's l2: 25878.3\tvalid_0's l1: 58.11\n",
      "[55]\tvalid_0's l2: 25871\tvalid_0's l1: 58.0461\n",
      "[56]\tvalid_0's l2: 25847.9\tvalid_0's l1: 57.8845\n",
      "[57]\tvalid_0's l2: 25832.4\tvalid_0's l1: 57.7872\n",
      "[58]\tvalid_0's l2: 25812.2\tvalid_0's l1: 57.6656\n",
      "[59]\tvalid_0's l2: 25801.6\tvalid_0's l1: 57.6354\n",
      "[60]\tvalid_0's l2: 25782.8\tvalid_0's l1: 57.5686\n",
      "[61]\tvalid_0's l2: 25773.8\tvalid_0's l1: 57.5294\n",
      "[62]\tvalid_0's l2: 25795.4\tvalid_0's l1: 57.495\n",
      "[63]\tvalid_0's l2: 25775.1\tvalid_0's l1: 57.3613\n",
      "[64]\tvalid_0's l2: 25797.2\tvalid_0's l1: 57.35\n",
      "[65]\tvalid_0's l2: 25790.3\tvalid_0's l1: 57.2414\n",
      "[66]\tvalid_0's l2: 25811.7\tvalid_0's l1: 57.2305\n",
      "[67]\tvalid_0's l2: 25869\tvalid_0's l1: 57.2777\n",
      "[68]\tvalid_0's l2: 25856.3\tvalid_0's l1: 57.2048\n",
      "[69]\tvalid_0's l2: 25840.4\tvalid_0's l1: 57.1627\n",
      "[70]\tvalid_0's l2: 25826.8\tvalid_0's l1: 57.1193\n",
      "[71]\tvalid_0's l2: 25811.4\tvalid_0's l1: 57.0477\n",
      "[72]\tvalid_0's l2: 25803.9\tvalid_0's l1: 57.0059\n",
      "[73]\tvalid_0's l2: 25834.8\tvalid_0's l1: 57.0282\n",
      "[74]\tvalid_0's l2: 25831.2\tvalid_0's l1: 57.0123\n",
      "[75]\tvalid_0's l2: 25816.6\tvalid_0's l1: 56.9837\n",
      "[76]\tvalid_0's l2: 25802\tvalid_0's l1: 56.9171\n",
      "[77]\tvalid_0's l2: 25788.8\tvalid_0's l1: 56.8434\n",
      "[78]\tvalid_0's l2: 25751.8\tvalid_0's l1: 56.8064\n",
      "[79]\tvalid_0's l2: 25746\tvalid_0's l1: 56.7877\n",
      "[80]\tvalid_0's l2: 25733.7\tvalid_0's l1: 56.7273\n",
      "[81]\tvalid_0's l2: 25727.6\tvalid_0's l1: 56.6834\n",
      "[82]\tvalid_0's l2: 25714.2\tvalid_0's l1: 56.6507\n",
      "[83]\tvalid_0's l2: 25704.4\tvalid_0's l1: 56.5988\n",
      "[84]\tvalid_0's l2: 25703.9\tvalid_0's l1: 56.5755\n",
      "[85]\tvalid_0's l2: 25697.1\tvalid_0's l1: 56.5508\n",
      "[86]\tvalid_0's l2: 25690\tvalid_0's l1: 56.4977\n",
      "[87]\tvalid_0's l2: 25683.9\tvalid_0's l1: 56.4767\n",
      "[88]\tvalid_0's l2: 25675.9\tvalid_0's l1: 56.4303\n",
      "[89]\tvalid_0's l2: 25669.9\tvalid_0's l1: 56.3944\n",
      "[90]\tvalid_0's l2: 25666\tvalid_0's l1: 56.3639\n",
      "Did not meet early stopping. Best iteration is:\n",
      "[90]\tvalid_0's l2: 25666\tvalid_0's l1: 56.3639\n"
     ]
    },
    {
     "name": "stderr",
     "output_type": "stream",
     "text": [
      "/anaconda3/lib/python3.7/site-packages/lightgbm/engine.py:118: UserWarning: Found `num_iterations` in params. Will use it instead of argument\n",
      "  warnings.warn(\"Found `{}` in params. Will use it instead of argument\".format(alias))\n",
      "/anaconda3/lib/python3.7/site-packages/lightgbm/engine.py:118: UserWarning: Found `num_iterations` in params. Will use it instead of argument\n",
      "  warnings.warn(\"Found `{}` in params. Will use it instead of argument\".format(alias))\n"
     ]
    },
    {
     "name": "stdout",
     "output_type": "stream",
     "text": [
      "[1]\tvalid_0's l2: 117195\tvalid_0's l1: 88.9688\n",
      "Training until validation scores don't improve for 50 rounds.\n",
      "[2]\tvalid_0's l2: 115830\tvalid_0's l1: 86.5413\n",
      "[3]\tvalid_0's l2: 114322\tvalid_0's l1: 83.9777\n",
      "[4]\tvalid_0's l2: 113159\tvalid_0's l1: 82.3151\n",
      "[5]\tvalid_0's l2: 112191\tvalid_0's l1: 81.122\n",
      "[6]\tvalid_0's l2: 111418\tvalid_0's l1: 80.0316\n",
      "[7]\tvalid_0's l2: 110619\tvalid_0's l1: 77.9809\n",
      "[8]\tvalid_0's l2: 109908\tvalid_0's l1: 76.9983\n",
      "[9]\tvalid_0's l2: 109358\tvalid_0's l1: 75.9764\n",
      "[10]\tvalid_0's l2: 108802\tvalid_0's l1: 74.9903\n",
      "[11]\tvalid_0's l2: 108272\tvalid_0's l1: 73.3814\n",
      "[12]\tvalid_0's l2: 107779\tvalid_0's l1: 72.0775\n",
      "[13]\tvalid_0's l2: 107362\tvalid_0's l1: 71.2055\n",
      "[14]\tvalid_0's l2: 107037\tvalid_0's l1: 70.1954\n",
      "[15]\tvalid_0's l2: 106662\tvalid_0's l1: 69.7819\n",
      "[16]\tvalid_0's l2: 106423\tvalid_0's l1: 69.0633\n",
      "[17]\tvalid_0's l2: 106119\tvalid_0's l1: 68.694\n",
      "[18]\tvalid_0's l2: 105879\tvalid_0's l1: 67.9948\n",
      "[19]\tvalid_0's l2: 105691\tvalid_0's l1: 67.2697\n",
      "[20]\tvalid_0's l2: 105477\tvalid_0's l1: 66.653\n",
      "[21]\tvalid_0's l2: 105294\tvalid_0's l1: 66.0782\n",
      "[22]\tvalid_0's l2: 105138\tvalid_0's l1: 65.9248\n",
      "[23]\tvalid_0's l2: 105004\tvalid_0's l1: 65.4203\n",
      "[24]\tvalid_0's l2: 104830\tvalid_0's l1: 65.0985\n",
      "[25]\tvalid_0's l2: 104670\tvalid_0's l1: 64.7622\n",
      "[26]\tvalid_0's l2: 104552\tvalid_0's l1: 64.3157\n",
      "[27]\tvalid_0's l2: 104417\tvalid_0's l1: 64.0382\n",
      "[28]\tvalid_0's l2: 104272\tvalid_0's l1: 63.7261\n",
      "[29]\tvalid_0's l2: 104198\tvalid_0's l1: 63.5494\n",
      "[30]\tvalid_0's l2: 104138\tvalid_0's l1: 63.3609\n",
      "[31]\tvalid_0's l2: 104031\tvalid_0's l1: 63.1323\n",
      "[32]\tvalid_0's l2: 103948\tvalid_0's l1: 62.7927\n",
      "[33]\tvalid_0's l2: 103716\tvalid_0's l1: 62.7462\n",
      "[34]\tvalid_0's l2: 103658\tvalid_0's l1: 62.539\n",
      "[35]\tvalid_0's l2: 103588\tvalid_0's l1: 62.3468\n",
      "[36]\tvalid_0's l2: 103525\tvalid_0's l1: 61.9963\n",
      "[37]\tvalid_0's l2: 103481\tvalid_0's l1: 61.7257\n",
      "[38]\tvalid_0's l2: 103428\tvalid_0's l1: 61.4617\n",
      "[39]\tvalid_0's l2: 103389\tvalid_0's l1: 61.2943\n",
      "[40]\tvalid_0's l2: 103347\tvalid_0's l1: 61.2145\n",
      "[41]\tvalid_0's l2: 103317\tvalid_0's l1: 61.0673\n",
      "[42]\tvalid_0's l2: 103271\tvalid_0's l1: 60.9092\n",
      "[43]\tvalid_0's l2: 103234\tvalid_0's l1: 60.768\n",
      "[44]\tvalid_0's l2: 103222\tvalid_0's l1: 60.6892\n",
      "[45]\tvalid_0's l2: 103190\tvalid_0's l1: 60.5751\n",
      "[46]\tvalid_0's l2: 103165\tvalid_0's l1: 60.4569\n",
      "[47]\tvalid_0's l2: 102997\tvalid_0's l1: 60.3727\n",
      "[48]\tvalid_0's l2: 102984\tvalid_0's l1: 60.2767\n",
      "[49]\tvalid_0's l2: 102975\tvalid_0's l1: 60.2482\n",
      "[50]\tvalid_0's l2: 102943\tvalid_0's l1: 60.1248\n",
      "[51]\tvalid_0's l2: 102877\tvalid_0's l1: 60.07\n",
      "[52]\tvalid_0's l2: 102872\tvalid_0's l1: 59.9455\n",
      "[53]\tvalid_0's l2: 102832\tvalid_0's l1: 59.9383\n",
      "[54]\tvalid_0's l2: 102826\tvalid_0's l1: 59.8933\n",
      "[55]\tvalid_0's l2: 102813\tvalid_0's l1: 59.7941\n",
      "[56]\tvalid_0's l2: 102800\tvalid_0's l1: 59.6851\n",
      "[57]\tvalid_0's l2: 102770\tvalid_0's l1: 59.5544\n",
      "[58]\tvalid_0's l2: 102735\tvalid_0's l1: 59.4557\n",
      "[59]\tvalid_0's l2: 102698\tvalid_0's l1: 59.4111\n",
      "[60]\tvalid_0's l2: 102630\tvalid_0's l1: 59.377\n",
      "[61]\tvalid_0's l2: 102615\tvalid_0's l1: 59.3471\n",
      "[62]\tvalid_0's l2: 102611\tvalid_0's l1: 59.2866\n",
      "[63]\tvalid_0's l2: 102537\tvalid_0's l1: 59.0907\n",
      "[64]\tvalid_0's l2: 102515\tvalid_0's l1: 59.0713\n",
      "[65]\tvalid_0's l2: 102475\tvalid_0's l1: 58.9417\n",
      "[66]\tvalid_0's l2: 102467\tvalid_0's l1: 58.8839\n",
      "[67]\tvalid_0's l2: 102462\tvalid_0's l1: 58.8127\n",
      "[68]\tvalid_0's l2: 102438\tvalid_0's l1: 58.7114\n",
      "[69]\tvalid_0's l2: 102416\tvalid_0's l1: 58.6706\n",
      "[70]\tvalid_0's l2: 102369\tvalid_0's l1: 58.6384\n",
      "[71]\tvalid_0's l2: 102350\tvalid_0's l1: 58.5883\n",
      "[72]\tvalid_0's l2: 102291\tvalid_0's l1: 58.5544\n",
      "[73]\tvalid_0's l2: 102276\tvalid_0's l1: 58.5176\n",
      "[74]\tvalid_0's l2: 102270\tvalid_0's l1: 58.4222\n",
      "[75]\tvalid_0's l2: 102262\tvalid_0's l1: 58.3906\n",
      "[76]\tvalid_0's l2: 102120\tvalid_0's l1: 58.3972\n",
      "[77]\tvalid_0's l2: 102104\tvalid_0's l1: 58.3334\n",
      "[78]\tvalid_0's l2: 102098\tvalid_0's l1: 58.2571\n",
      "[79]\tvalid_0's l2: 102086\tvalid_0's l1: 58.2021\n",
      "[80]\tvalid_0's l2: 102069\tvalid_0's l1: 58.1334\n",
      "[81]\tvalid_0's l2: 102054\tvalid_0's l1: 58.0666\n",
      "[82]\tvalid_0's l2: 102042\tvalid_0's l1: 58.0223\n",
      "[83]\tvalid_0's l2: 102017\tvalid_0's l1: 58.0033\n",
      "[84]\tvalid_0's l2: 102009\tvalid_0's l1: 57.9829\n",
      "[85]\tvalid_0's l2: 101988\tvalid_0's l1: 57.9491\n",
      "[86]\tvalid_0's l2: 101984\tvalid_0's l1: 57.9291\n",
      "[87]\tvalid_0's l2: 101976\tvalid_0's l1: 57.8909\n",
      "[88]\tvalid_0's l2: 101980\tvalid_0's l1: 57.9179\n",
      "[89]\tvalid_0's l2: 101982\tvalid_0's l1: 57.8453\n",
      "[90]\tvalid_0's l2: 101970\tvalid_0's l1: 57.8121\n",
      "Did not meet early stopping. Best iteration is:\n",
      "[90]\tvalid_0's l2: 101970\tvalid_0's l1: 57.8121\n",
      "[1]\tvalid_0's l2: 29981.5\tvalid_0's l1: 81.6252\n",
      "Training until validation scores don't improve for 50 rounds.\n",
      "[2]\tvalid_0's l2: 28753.6\tvalid_0's l1: 78.9882\n",
      "[3]\tvalid_0's l2: 27549.8\tvalid_0's l1: 76.5825\n",
      "[4]\tvalid_0's l2: 26605.6\tvalid_0's l1: 75.0281\n",
      "[5]\tvalid_0's l2: 25913.3\tvalid_0's l1: 73.9985\n",
      "[6]\tvalid_0's l2: 25181.1\tvalid_0's l1: 73.0122\n",
      "[7]\tvalid_0's l2: 24424\tvalid_0's l1: 70.9432\n",
      "[8]\tvalid_0's l2: 23927.3\tvalid_0's l1: 70.2026\n",
      "[9]\tvalid_0's l2: 23403.8\tvalid_0's l1: 69.3796\n",
      "[10]\tvalid_0's l2: 22955.8\tvalid_0's l1: 68.4613\n",
      "[11]\tvalid_0's l2: 22484.8\tvalid_0's l1: 66.9474\n",
      "[12]\tvalid_0's l2: 22095.7\tvalid_0's l1: 65.7493\n",
      "[13]\tvalid_0's l2: 21753\tvalid_0's l1: 64.8116\n",
      "[14]\tvalid_0's l2: 21454.7\tvalid_0's l1: 63.819\n",
      "[15]\tvalid_0's l2: 21328\tvalid_0's l1: 63.613\n",
      "[16]\tvalid_0's l2: 21112.8\tvalid_0's l1: 62.8831\n",
      "[17]\tvalid_0's l2: 21013.5\tvalid_0's l1: 62.6332\n",
      "[18]\tvalid_0's l2: 20793.1\tvalid_0's l1: 61.9384\n",
      "[19]\tvalid_0's l2: 20610.9\tvalid_0's l1: 61.294\n",
      "[20]\tvalid_0's l2: 20456.1\tvalid_0's l1: 60.7655\n",
      "[21]\tvalid_0's l2: 20278.3\tvalid_0's l1: 60.1708\n",
      "[22]\tvalid_0's l2: 20234.9\tvalid_0's l1: 60.1244\n",
      "[23]\tvalid_0's l2: 20111.2\tvalid_0's l1: 59.6372\n",
      "[24]\tvalid_0's l2: 19968.2\tvalid_0's l1: 59.3043\n",
      "[25]\tvalid_0's l2: 19826.6\tvalid_0's l1: 58.9368\n",
      "[26]\tvalid_0's l2: 19731.8\tvalid_0's l1: 58.5692\n",
      "[27]\tvalid_0's l2: 19661.1\tvalid_0's l1: 58.3891\n",
      "[28]\tvalid_0's l2: 19621.2\tvalid_0's l1: 58.191\n",
      "[29]\tvalid_0's l2: 19572.1\tvalid_0's l1: 58.0341\n",
      "[30]\tvalid_0's l2: 19544.7\tvalid_0's l1: 57.927\n"
     ]
    },
    {
     "name": "stderr",
     "output_type": "stream",
     "text": [
      "/anaconda3/lib/python3.7/site-packages/lightgbm/engine.py:118: UserWarning: Found `num_iterations` in params. Will use it instead of argument\n",
      "  warnings.warn(\"Found `{}` in params. Will use it instead of argument\".format(alias))\n",
      "/anaconda3/lib/python3.7/site-packages/lightgbm/engine.py:118: UserWarning: Found `num_iterations` in params. Will use it instead of argument\n",
      "  warnings.warn(\"Found `{}` in params. Will use it instead of argument\".format(alias))\n"
     ]
    },
    {
     "name": "stdout",
     "output_type": "stream",
     "text": [
      "[31]\tvalid_0's l2: 19480\tvalid_0's l1: 57.7295\n",
      "[32]\tvalid_0's l2: 19407.8\tvalid_0's l1: 57.4764\n",
      "[33]\tvalid_0's l2: 19377.9\tvalid_0's l1: 57.542\n",
      "[34]\tvalid_0's l2: 19338.9\tvalid_0's l1: 57.3846\n",
      "[35]\tvalid_0's l2: 19282\tvalid_0's l1: 57.1718\n",
      "[36]\tvalid_0's l2: 19211.6\tvalid_0's l1: 56.8603\n",
      "[37]\tvalid_0's l2: 19163.8\tvalid_0's l1: 56.6155\n",
      "[38]\tvalid_0's l2: 19116.6\tvalid_0's l1: 56.3982\n",
      "[39]\tvalid_0's l2: 19084.1\tvalid_0's l1: 56.2535\n",
      "[40]\tvalid_0's l2: 19096.8\tvalid_0's l1: 56.2189\n",
      "[41]\tvalid_0's l2: 19079.6\tvalid_0's l1: 56.1215\n",
      "[42]\tvalid_0's l2: 19038.5\tvalid_0's l1: 55.9586\n",
      "[43]\tvalid_0's l2: 19006.2\tvalid_0's l1: 55.8479\n",
      "[44]\tvalid_0's l2: 18987.8\tvalid_0's l1: 55.7297\n",
      "[45]\tvalid_0's l2: 18966.5\tvalid_0's l1: 55.6579\n",
      "[46]\tvalid_0's l2: 18955.2\tvalid_0's l1: 55.5718\n",
      "[47]\tvalid_0's l2: 18934\tvalid_0's l1: 55.476\n",
      "[48]\tvalid_0's l2: 18921.7\tvalid_0's l1: 55.4187\n",
      "[49]\tvalid_0's l2: 18912.5\tvalid_0's l1: 55.3407\n",
      "[50]\tvalid_0's l2: 18883.7\tvalid_0's l1: 55.2195\n",
      "[51]\tvalid_0's l2: 18903\tvalid_0's l1: 55.271\n",
      "[52]\tvalid_0's l2: 18887.5\tvalid_0's l1: 55.1602\n",
      "[53]\tvalid_0's l2: 18900.9\tvalid_0's l1: 55.2413\n",
      "[54]\tvalid_0's l2: 18878.2\tvalid_0's l1: 55.1542\n",
      "[55]\tvalid_0's l2: 18866.6\tvalid_0's l1: 55.0818\n",
      "[56]\tvalid_0's l2: 18838\tvalid_0's l1: 54.9349\n",
      "[57]\tvalid_0's l2: 18823.8\tvalid_0's l1: 54.8522\n",
      "[58]\tvalid_0's l2: 18814.3\tvalid_0's l1: 54.7644\n",
      "[59]\tvalid_0's l2: 18814.9\tvalid_0's l1: 54.7501\n",
      "[60]\tvalid_0's l2: 18812.5\tvalid_0's l1: 54.7281\n",
      "[61]\tvalid_0's l2: 18805.4\tvalid_0's l1: 54.7197\n",
      "[62]\tvalid_0's l2: 18790.8\tvalid_0's l1: 54.6899\n",
      "[63]\tvalid_0's l2: 18749.3\tvalid_0's l1: 54.5614\n",
      "[64]\tvalid_0's l2: 18739.9\tvalid_0's l1: 54.5014\n",
      "[65]\tvalid_0's l2: 18712.7\tvalid_0's l1: 54.3791\n",
      "[66]\tvalid_0's l2: 18707.4\tvalid_0's l1: 54.3178\n",
      "[67]\tvalid_0's l2: 18918.2\tvalid_0's l1: 54.4743\n",
      "[68]\tvalid_0's l2: 18914\tvalid_0's l1: 54.4538\n",
      "[69]\tvalid_0's l2: 18904.1\tvalid_0's l1: 54.3812\n",
      "[70]\tvalid_0's l2: 18911\tvalid_0's l1: 54.3855\n",
      "[71]\tvalid_0's l2: 18898.2\tvalid_0's l1: 54.317\n",
      "[72]\tvalid_0's l2: 18893.2\tvalid_0's l1: 54.2916\n",
      "[73]\tvalid_0's l2: 18911.3\tvalid_0's l1: 54.313\n",
      "[74]\tvalid_0's l2: 18908.2\tvalid_0's l1: 54.2932\n",
      "[75]\tvalid_0's l2: 18980.4\tvalid_0's l1: 54.3615\n",
      "[76]\tvalid_0's l2: 18975.7\tvalid_0's l1: 54.3363\n",
      "[77]\tvalid_0's l2: 18961.4\tvalid_0's l1: 54.2976\n",
      "[78]\tvalid_0's l2: 18955\tvalid_0's l1: 54.2481\n",
      "[79]\tvalid_0's l2: 18997.7\tvalid_0's l1: 54.3619\n",
      "[80]\tvalid_0's l2: 18983.3\tvalid_0's l1: 54.3105\n",
      "[81]\tvalid_0's l2: 18980.6\tvalid_0's l1: 54.2766\n",
      "[82]\tvalid_0's l2: 18979.2\tvalid_0's l1: 54.2669\n",
      "[83]\tvalid_0's l2: 18970.2\tvalid_0's l1: 54.2211\n",
      "[84]\tvalid_0's l2: 18964.5\tvalid_0's l1: 54.1828\n",
      "[85]\tvalid_0's l2: 18959.8\tvalid_0's l1: 54.1507\n",
      "[86]\tvalid_0's l2: 18963.6\tvalid_0's l1: 54.1319\n",
      "[87]\tvalid_0's l2: 18957.4\tvalid_0's l1: 54.1187\n",
      "[88]\tvalid_0's l2: 18959.4\tvalid_0's l1: 54.0854\n",
      "[89]\tvalid_0's l2: 19026.1\tvalid_0's l1: 54.1243\n",
      "[90]\tvalid_0's l2: 19022.5\tvalid_0's l1: 54.1001\n",
      "Did not meet early stopping. Best iteration is:\n",
      "[66]\tvalid_0's l2: 18707.4\tvalid_0's l1: 54.3178\n",
      "[1]\tvalid_0's l2: 41752.2\tvalid_0's l1: 85.6906\n",
      "Training until validation scores don't improve for 50 rounds.\n",
      "[2]\tvalid_0's l2: 40345.8\tvalid_0's l1: 83.1183\n",
      "[3]\tvalid_0's l2: 39013.7\tvalid_0's l1: 80.5966\n",
      "[4]\tvalid_0's l2: 37954.3\tvalid_0's l1: 78.9442\n",
      "[5]\tvalid_0's l2: 37141.6\tvalid_0's l1: 77.7644\n",
      "[6]\tvalid_0's l2: 36194.5\tvalid_0's l1: 76.5962\n",
      "[7]\tvalid_0's l2: 35401\tvalid_0's l1: 74.5304\n",
      "[8]\tvalid_0's l2: 34734.9\tvalid_0's l1: 73.5535\n",
      "[9]\tvalid_0's l2: 34026.9\tvalid_0's l1: 72.5069\n",
      "[10]\tvalid_0's l2: 33567.1\tvalid_0's l1: 71.4836\n",
      "[11]\tvalid_0's l2: 33011.5\tvalid_0's l1: 69.9816\n",
      "[12]\tvalid_0's l2: 32579.2\tvalid_0's l1: 68.7463\n",
      "[13]\tvalid_0's l2: 32187.8\tvalid_0's l1: 67.7977\n",
      "[14]\tvalid_0's l2: 31823.4\tvalid_0's l1: 66.7604\n",
      "[15]\tvalid_0's l2: 31627.1\tvalid_0's l1: 66.5051\n",
      "[16]\tvalid_0's l2: 31391\tvalid_0's l1: 65.8094\n",
      "[17]\tvalid_0's l2: 31223.8\tvalid_0's l1: 65.4631\n",
      "[18]\tvalid_0's l2: 30997.6\tvalid_0's l1: 64.7727\n",
      "[19]\tvalid_0's l2: 30785.9\tvalid_0's l1: 64.0169\n",
      "[20]\tvalid_0's l2: 30619.4\tvalid_0's l1: 63.5559\n",
      "[21]\tvalid_0's l2: 30470.8\tvalid_0's l1: 62.9804\n",
      "[22]\tvalid_0's l2: 30339.7\tvalid_0's l1: 62.7967\n",
      "[23]\tvalid_0's l2: 30199.9\tvalid_0's l1: 62.2812\n",
      "[24]\tvalid_0's l2: 30080\tvalid_0's l1: 62.0171\n",
      "[25]\tvalid_0's l2: 29972.1\tvalid_0's l1: 61.8242\n",
      "[26]\tvalid_0's l2: 29897.4\tvalid_0's l1: 61.4284\n",
      "[27]\tvalid_0's l2: 29842.6\tvalid_0's l1: 61.242\n",
      "[28]\tvalid_0's l2: 29786.5\tvalid_0's l1: 61.0057\n",
      "[29]\tvalid_0's l2: 29730.2\tvalid_0's l1: 60.8515\n",
      "[30]\tvalid_0's l2: 29689.7\tvalid_0's l1: 60.7213\n",
      "[31]\tvalid_0's l2: 29643.4\tvalid_0's l1: 60.6032\n",
      "[32]\tvalid_0's l2: 29582.6\tvalid_0's l1: 60.3093\n",
      "[33]\tvalid_0's l2: 29482.9\tvalid_0's l1: 60.2474\n",
      "[34]\tvalid_0's l2: 29457.9\tvalid_0's l1: 60.1152\n",
      "[35]\tvalid_0's l2: 29418.1\tvalid_0's l1: 59.9809\n",
      "[36]\tvalid_0's l2: 29365.4\tvalid_0's l1: 59.7827\n",
      "[37]\tvalid_0's l2: 29321.6\tvalid_0's l1: 59.5878\n",
      "[38]\tvalid_0's l2: 29269.8\tvalid_0's l1: 59.3585\n",
      "[39]\tvalid_0's l2: 29251.4\tvalid_0's l1: 59.214\n",
      "[40]\tvalid_0's l2: 29260.9\tvalid_0's l1: 59.1861\n",
      "[41]\tvalid_0's l2: 29243.5\tvalid_0's l1: 59.0823\n",
      "[42]\tvalid_0's l2: 29212.2\tvalid_0's l1: 58.9476\n",
      "[43]\tvalid_0's l2: 29189.6\tvalid_0's l1: 58.7556\n",
      "[44]\tvalid_0's l2: 29148.4\tvalid_0's l1: 58.6155\n",
      "[45]\tvalid_0's l2: 29119.8\tvalid_0's l1: 58.5287\n",
      "[46]\tvalid_0's l2: 29097\tvalid_0's l1: 58.4442\n",
      "[47]\tvalid_0's l2: 29096.5\tvalid_0's l1: 58.347\n",
      "[48]\tvalid_0's l2: 29071.2\tvalid_0's l1: 58.2065\n",
      "[49]\tvalid_0's l2: 29061.2\tvalid_0's l1: 58.159\n",
      "[50]\tvalid_0's l2: 29035.7\tvalid_0's l1: 58.0624\n",
      "[51]\tvalid_0's l2: 29009.9\tvalid_0's l1: 58.0142\n",
      "[52]\tvalid_0's l2: 29019.7\tvalid_0's l1: 57.9443\n",
      "[53]\tvalid_0's l2: 29008.8\tvalid_0's l1: 57.9722\n",
      "[54]\tvalid_0's l2: 29001.9\tvalid_0's l1: 57.906\n",
      "[55]\tvalid_0's l2: 28983.5\tvalid_0's l1: 57.8046\n",
      "[56]\tvalid_0's l2: 28954.8\tvalid_0's l1: 57.6935\n",
      "[57]\tvalid_0's l2: 28940.1\tvalid_0's l1: 57.6274\n",
      "[58]\tvalid_0's l2: 28908.7\tvalid_0's l1: 57.5442\n",
      "[59]\tvalid_0's l2: 28884.5\tvalid_0's l1: 57.4833\n",
      "[60]\tvalid_0's l2: 28883.2\tvalid_0's l1: 57.4409\n",
      "[61]\tvalid_0's l2: 28877.7\tvalid_0's l1: 57.466\n",
      "[62]\tvalid_0's l2: 28879.2\tvalid_0's l1: 57.4117\n",
      "[63]\tvalid_0's l2: 28850.2\tvalid_0's l1: 57.3158\n",
      "[64]\tvalid_0's l2: 28834.8\tvalid_0's l1: 57.2416\n",
      "[65]\tvalid_0's l2: 28830.3\tvalid_0's l1: 57.1923\n",
      "[66]\tvalid_0's l2: 28816\tvalid_0's l1: 57.131\n",
      "[67]\tvalid_0's l2: 28836.2\tvalid_0's l1: 57.12\n",
      "[68]\tvalid_0's l2: 28824.9\tvalid_0's l1: 57.0742\n",
      "[69]\tvalid_0's l2: 28794.2\tvalid_0's l1: 57.0454\n",
      "[70]\tvalid_0's l2: 28784.2\tvalid_0's l1: 57.0421\n",
      "[71]\tvalid_0's l2: 28781.3\tvalid_0's l1: 57.0357\n",
      "[72]\tvalid_0's l2: 28763.5\tvalid_0's l1: 57.0064\n",
      "[73]\tvalid_0's l2: 28756.8\tvalid_0's l1: 56.9854\n",
      "[74]\tvalid_0's l2: 28735.2\tvalid_0's l1: 56.9617\n",
      "[75]\tvalid_0's l2: 28725.8\tvalid_0's l1: 56.9685\n",
      "[76]\tvalid_0's l2: 28690.9\tvalid_0's l1: 56.9552\n",
      "[77]\tvalid_0's l2: 28683.9\tvalid_0's l1: 56.9091\n",
      "[78]\tvalid_0's l2: 28685.3\tvalid_0's l1: 56.9083\n",
      "[79]\tvalid_0's l2: 28665.8\tvalid_0's l1: 56.8626\n",
      "[80]\tvalid_0's l2: 28650.4\tvalid_0's l1: 56.8077\n",
      "[81]\tvalid_0's l2: 28645.5\tvalid_0's l1: 56.7785\n",
      "[82]\tvalid_0's l2: 28637.6\tvalid_0's l1: 56.7421\n",
      "[83]\tvalid_0's l2: 28619.7\tvalid_0's l1: 56.7259\n",
      "[84]\tvalid_0's l2: 28616.3\tvalid_0's l1: 56.7169\n",
      "[85]\tvalid_0's l2: 28600.4\tvalid_0's l1: 56.6804\n",
      "[86]\tvalid_0's l2: 28589.7\tvalid_0's l1: 56.6199\n",
      "[87]\tvalid_0's l2: 28584.6\tvalid_0's l1: 56.6002\n",
      "[88]\tvalid_0's l2: 28563.9\tvalid_0's l1: 56.5225\n",
      "[89]\tvalid_0's l2: 28549\tvalid_0's l1: 56.4659\n",
      "[90]\tvalid_0's l2: 28540.8\tvalid_0's l1: 56.4127\n",
      "Did not meet early stopping. Best iteration is:\n",
      "[90]\tvalid_0's l2: 28540.8\tvalid_0's l1: 56.4127\n",
      "[1]\tvalid_0's l2: 121648\tvalid_0's l1: 88.8191\n",
      "Training until validation scores don't improve for 50 rounds.\n",
      "[2]\tvalid_0's l2: 120039\tvalid_0's l1: 86.1705\n",
      "[3]\tvalid_0's l2: 118553\tvalid_0's l1: 83.6374\n",
      "[4]\tvalid_0's l2: 117149\tvalid_0's l1: 81.8754\n",
      "[5]\tvalid_0's l2: 115988\tvalid_0's l1: 80.205\n",
      "[6]\tvalid_0's l2: 115064\tvalid_0's l1: 78.8404\n",
      "[7]\tvalid_0's l2: 114218\tvalid_0's l1: 76.7041\n",
      "[8]\tvalid_0's l2: 113543\tvalid_0's l1: 75.7138\n",
      "[9]\tvalid_0's l2: 112950\tvalid_0's l1: 74.5385\n",
      "[10]\tvalid_0's l2: 112352\tvalid_0's l1: 73.4136\n",
      "[11]\tvalid_0's l2: 111795\tvalid_0's l1: 71.7969\n",
      "[12]\tvalid_0's l2: 111335\tvalid_0's l1: 70.6119\n",
      "[13]\tvalid_0's l2: 110800\tvalid_0's l1: 69.5058\n",
      "[14]\tvalid_0's l2: 110338\tvalid_0's l1: 68.4691\n",
      "[15]\tvalid_0's l2: 110045\tvalid_0's l1: 67.9732\n",
      "[16]\tvalid_0's l2: 109821\tvalid_0's l1: 67.288\n",
      "[17]\tvalid_0's l2: 109581\tvalid_0's l1: 66.8752\n",
      "[18]\tvalid_0's l2: 109281\tvalid_0's l1: 66.1579\n",
      "[19]\tvalid_0's l2: 109097\tvalid_0's l1: 65.5323\n",
      "[20]\tvalid_0's l2: 108840\tvalid_0's l1: 64.9738\n",
      "[21]\tvalid_0's l2: 108697\tvalid_0's l1: 64.4101\n",
      "[22]\tvalid_0's l2: 108466\tvalid_0's l1: 64.1669\n",
      "[23]\tvalid_0's l2: 108348\tvalid_0's l1: 63.6795\n",
      "[24]\tvalid_0's l2: 108131\tvalid_0's l1: 63.3258\n",
      "[25]\tvalid_0's l2: 107972\tvalid_0's l1: 63.0708\n",
      "[26]\tvalid_0's l2: 107914\tvalid_0's l1: 62.7983\n",
      "[27]\tvalid_0's l2: 107721\tvalid_0's l1: 62.569\n",
      "[28]\tvalid_0's l2: 107436\tvalid_0's l1: 62.2431\n",
      "[29]\tvalid_0's l2: 107345\tvalid_0's l1: 62.0238\n",
      "[30]\tvalid_0's l2: 107285\tvalid_0's l1: 61.892\n",
      "[31]\tvalid_0's l2: 107218\tvalid_0's l1: 61.716\n",
      "[32]\tvalid_0's l2: 107129\tvalid_0's l1: 61.4247\n",
      "[33]\tvalid_0's l2: 106880\tvalid_0's l1: 61.313\n",
      "[34]\tvalid_0's l2: 106801\tvalid_0's l1: 61.0407\n",
      "[35]\tvalid_0's l2: 106724\tvalid_0's l1: 60.8532\n",
      "[36]\tvalid_0's l2: 106689\tvalid_0's l1: 60.6233\n",
      "[37]\tvalid_0's l2: 106647\tvalid_0's l1: 60.4282\n",
      "[38]\tvalid_0's l2: 106595\tvalid_0's l1: 60.2063\n",
      "[39]\tvalid_0's l2: 106559\tvalid_0's l1: 60.0964\n",
      "[40]\tvalid_0's l2: 106522\tvalid_0's l1: 59.9813\n",
      "[41]\tvalid_0's l2: 106484\tvalid_0's l1: 59.8037\n",
      "[42]\tvalid_0's l2: 106444\tvalid_0's l1: 59.7034\n",
      "[43]\tvalid_0's l2: 106426\tvalid_0's l1: 59.609\n",
      "[44]\tvalid_0's l2: 106403\tvalid_0's l1: 59.4786\n",
      "[45]\tvalid_0's l2: 106377\tvalid_0's l1: 59.3857\n",
      "[46]\tvalid_0's l2: 106355\tvalid_0's l1: 59.2843\n",
      "[47]\tvalid_0's l2: 106334\tvalid_0's l1: 59.2039\n",
      "[48]\tvalid_0's l2: 106325\tvalid_0's l1: 59.1402\n",
      "[49]\tvalid_0's l2: 106306\tvalid_0's l1: 59.0641\n",
      "[50]\tvalid_0's l2: 106287\tvalid_0's l1: 59.0063\n",
      "[51]\tvalid_0's l2: 106219\tvalid_0's l1: 58.9772\n",
      "[52]\tvalid_0's l2: 106204\tvalid_0's l1: 58.9381\n",
      "[53]\tvalid_0's l2: 106055\tvalid_0's l1: 58.8929\n",
      "[54]\tvalid_0's l2: 106047\tvalid_0's l1: 58.8287\n",
      "[55]\tvalid_0's l2: 106035\tvalid_0's l1: 58.8088\n",
      "[56]\tvalid_0's l2: 106020\tvalid_0's l1: 58.7031\n",
      "[57]\tvalid_0's l2: 106010\tvalid_0's l1: 58.6497\n",
      "[58]\tvalid_0's l2: 105989\tvalid_0's l1: 58.5447\n",
      "[59]\tvalid_0's l2: 105976\tvalid_0's l1: 58.5213\n",
      "[60]\tvalid_0's l2: 105959\tvalid_0's l1: 58.472\n",
      "[61]\tvalid_0's l2: 105946\tvalid_0's l1: 58.4487\n",
      "[62]\tvalid_0's l2: 105936\tvalid_0's l1: 58.4153\n",
      "[63]\tvalid_0's l2: 105903\tvalid_0's l1: 58.3075\n",
      "[64]\tvalid_0's l2: 105894\tvalid_0's l1: 58.2923\n",
      "[65]\tvalid_0's l2: 105862\tvalid_0's l1: 58.1982\n",
      "[66]\tvalid_0's l2: 105809\tvalid_0's l1: 58.1576\n",
      "[67]\tvalid_0's l2: 105804\tvalid_0's l1: 58.1249\n",
      "[68]\tvalid_0's l2: 105787\tvalid_0's l1: 58.0687\n",
      "[69]\tvalid_0's l2: 105772\tvalid_0's l1: 58.0297\n",
      "[70]\tvalid_0's l2: 105755\tvalid_0's l1: 58.0248\n",
      "[71]\tvalid_0's l2: 105743\tvalid_0's l1: 57.9718\n",
      "[72]\tvalid_0's l2: 105735\tvalid_0's l1: 57.9357\n",
      "[73]\tvalid_0's l2: 105718\tvalid_0's l1: 57.8431\n",
      "[74]\tvalid_0's l2: 105711\tvalid_0's l1: 57.7893\n",
      "[75]\tvalid_0's l2: 105703\tvalid_0's l1: 57.7716\n",
      "[76]\tvalid_0's l2: 105700\tvalid_0's l1: 57.7289\n",
      "[77]\tvalid_0's l2: 105698\tvalid_0's l1: 57.6906\n",
      "[78]\tvalid_0's l2: 105689\tvalid_0's l1: 57.6534\n",
      "[79]\tvalid_0's l2: 105674\tvalid_0's l1: 57.6026\n",
      "[80]\tvalid_0's l2: 105580\tvalid_0's l1: 57.595\n",
      "[81]\tvalid_0's l2: 105571\tvalid_0's l1: 57.5783\n",
      "[82]\tvalid_0's l2: 105576\tvalid_0's l1: 57.5816\n",
      "[83]\tvalid_0's l2: 105571\tvalid_0's l1: 57.5457\n",
      "[84]\tvalid_0's l2: 105565\tvalid_0's l1: 57.5299\n",
      "[85]\tvalid_0's l2: 105550\tvalid_0's l1: 57.4917\n",
      "[86]\tvalid_0's l2: 105544\tvalid_0's l1: 57.4686\n",
      "[87]\tvalid_0's l2: 105505\tvalid_0's l1: 57.4586\n"
     ]
    },
    {
     "name": "stdout",
     "output_type": "stream",
     "text": [
      "[88]\tvalid_0's l2: 105457\tvalid_0's l1: 57.426\n",
      "[89]\tvalid_0's l2: 105412\tvalid_0's l1: 57.4114\n",
      "[90]\tvalid_0's l2: 105405\tvalid_0's l1: 57.3677\n",
      "Did not meet early stopping. Best iteration is:\n",
      "[90]\tvalid_0's l2: 105405\tvalid_0's l1: 57.3677\n"
     ]
    },
    {
     "name": "stderr",
     "output_type": "stream",
     "text": [
      "/anaconda3/lib/python3.7/site-packages/lightgbm/engine.py:118: UserWarning: Found `num_iterations` in params. Will use it instead of argument\n",
      "  warnings.warn(\"Found `{}` in params. Will use it instead of argument\".format(alias))\n"
     ]
    }
   ],
   "source": [
    "model_eval, result_model = lgbm_model(X_data, y_data,params,  5)"
   ]
  },
  {
   "cell_type": "code",
   "execution_count": 86,
   "metadata": {},
   "outputs": [
    {
     "name": "stdout",
     "output_type": "stream",
     "text": [
      "Train MSE: 54152.192870355546\n",
      "Train RMSE: 231.83767626733402\n",
      "Train R2: 0.24969104636289474\n",
      "\n",
      "Validation MSE: 56057.96978601177\n",
      "Validation RMSE: 221.9822457375664\n",
      "Validation R2: 0.28469013569772733\n"
     ]
    }
   ],
   "source": [
    "print(\"Train MSE:\",model_eval[0])\n",
    "print(\"Train RMSE:\",model_eval[1])\n",
    "print(\"Train R2:\",model_eval[2])\n",
    "print()\n",
    "print(\"Validation MSE:\",model_eval[3])\n",
    "print(\"Validation RMSE:\",model_eval[4])\n",
    "print(\"Validation R2:\",model_eval[5])"
   ]
  },
  {
   "cell_type": "code",
   "execution_count": 87,
   "metadata": {},
   "outputs": [
    {
     "name": "stdout",
     "output_type": "stream",
     "text": [
      "Feature importance barplot:\n"
     ]
    },
    {
     "data": {
      "text/plain": [
       "<matplotlib.axes._subplots.AxesSubplot at 0x1a1fd0d898>"
      ]
     },
     "execution_count": 87,
     "metadata": {},
     "output_type": "execute_result"
    },
    {
     "data": {
      "image/png": "[encoded data removed]",
      "text/plain": [
       "<Figure size 432x288 with 1 Axes>"
      ]
     },
     "metadata": {
      "needs_background": "light"
     },
     "output_type": "display_data"
    }
   ],
   "source": [
    "print('Feature importance barplot:')\n",
    "(pd.Series(result_model.feature_importances_, index=X_lgbm.columns)\n",
    "   .nlargest(40)\n",
    "   .plot(kind='barh'))"
   ]
  },
  {
   "cell_type": "code",
   "execution_count": 88,
   "metadata": {},
   "outputs": [
    {
     "name": "stdout",
     "output_type": "stream",
     "text": [
      "Test MSE: 88788.67273620391\n",
      "Test RMSE: 297.9742820046789\n",
      "Test R2: 0.15410361478433254\n"
     ]
    }
   ],
   "source": [
    "y_pred = result_model.predict(X_test, num_iteration=result_model.best_iteration_)\n",
    "print(\"Test MSE:\",metrics.mean_squared_error(y_test, y_pred))\n",
    "print(\"Test RMSE:\",math.sqrt(metrics.mean_squared_error(y_test, y_pred)))\n",
    "print(\"Test R2:\",metrics.r2_score(y_test, y_pred))"
   ]
  },
  {
   "cell_type": "markdown",
   "metadata": {},
   "source": [
    "### Model Implementation Summary"
   ]
  },
  {
   "cell_type": "markdown",
   "metadata": {},
   "source": [
    "In summary, the performance of the LightGBM model as implemented **did not yield the low error (MSE, RMSE)/high explanation of variance (R2 score) result** that an applicant like myself might have hoped for. It did demonstrate a *small improvement in performance over the baseline model (linear regression model)* and the *worse-case scenario analysis (measure of central tendency comparison)* in the test fitting.\n",
    "\n",
    "Train, validation and test set MSE, RMSE and R2 are (54152, 231 USD, 25%), (56058, 222 USD, 29%) and (88788, 298, 15%)\n",
    "\n",
    "Listed below are some of the pros and cons of the LightGBM mode as currently implemented:\n",
    "\n",
    "##### Pros\n",
    "\n",
    "- The test set predictions vs true test values' R2 score explained a meager **7%** more of the variance in the data than the test set using the linear model (and that's before considering R2). That's also **15%** more than the worse case scenario (R2 of ~0).<br><br>\n",
    "\n",
    "- Similarly, the RMSE of the LightGBM model's performance was reduced by **11.50 USD** from the RMSE of the linear model's performance (noting that RMSE is in USD, the units of the target variable). Given that the average value of the target variable (y_test) is **~113 USD**, that's a favorable dollar value decrease in error with respect to the average price of test set products - however, it is nowhere near the dollar value of RMSE error.<br><br>\n",
    "\n",
    "- (Similar results apply for MSE, however the units are in USD squared - arguably less intuitive if there's a need for explainability to a stakeholder or client.)<br><br>\n",
    "\n",
    "- As discussed in 'Cons', I was not able to programatically optimize the hyperparameter tuning of the model (say, using Bayesian Optimization). This can also be a pro as it means the performance of the model can still improve with additional hyperparameter tweaking.<br><br>\n",
    "\n",
    "- Although LightGBM typically performs better on larger datasets than the one at hand (say, 100K+ rows of data points), the model still demonstrated a minute increase with respect to the baseline model (both the linear and worse case).<br><br>\n",
    "\n",
    "##### Cons\n",
    "\n",
    "- The model is clearly overfitting the training data despite my attempts to tweak the regularization parameters in LightGBM (L1, L2 costs). This is arguably the biggest problem with the model at the moment - due in part to using such a complex supervised learning model that can be prone to overfitting. Perhaps comparing the current evaluation metrics to those of other techniques (ensemble methods, for example) would be worth a shot. On the training and validation sets, the model can perform as well as explaining 50% of the variance in the data (be careful, needs to be sanity-checked with adjusted_R2) and brings the RMSE down to the order of 10^1 USD. For those values, the model did not generalize to similar evaluation metrics on the test set, however.<br><br>\n",
    "\n",
    "- Additional hyperparameter tuning is needed to fully leverage the power of the current modelling technique + improve its performance (discussed in 'Future Improvements' as well).<br><br>\n",
    "\n",
    "- The performance is still not ideal given that the order of magnitude of test set RMSE is on par with that of the average target variable value. Although the **R2 score already doesn't look immediately appealing, the RMSE score confirms that the dollar-value error is too large for this model to confidently predict men's shoe prices to a reasonable confidence level.**<br><br>\n",
    "\n",
    "- Furthermore, given more time, I would also evaluate **adjusted_R2**; which is a **function of the number of independent variables in the model**. It's possible that the percentage of variance in the data explained by the model will decrease once the number of independent features are accounted for. That being said, the current model does not suffer from worryingly high dimensionality, so it would likely not decrease dramatically in explained variance.<br><br>\n",
    "\n",
    "### Conclusion\n",
    "\n",
    "**Ultimately, I would not advise using this model for men's shoe prices' predictions in production in its current implementation.**"
   ]
  },
  {
   "cell_type": "markdown",
   "metadata": {},
   "source": [
    "# Future Improvements"
   ]
  },
  {
   "cell_type": "markdown",
   "metadata": {},
   "source": [
    "1. Additional **data cleaning** for missing and erroneous values\n",
    "2. Free shipping and free returns currently lumped together\n",
    "3. **Predicting any currency price** as opposed to **predicting USD-converted mean price**\n",
    "4. Improve (currently rudimentary) **NLP modelling**\n",
    "5. **Increase dataset size** + supplement with 3rd party data; additional (clean) data points should theoretically improve LightGBM’s evaluation metric performance\n",
    "6. More explicit **hyperparameter tuning (Bayesian Optimization)**\n",
    "7. Better leverage of the **prices.offer column** for discount data."
   ]
  },
  {
   "cell_type": "markdown",
   "metadata": {},
   "source": [
    "**1.** I know for a fact that there are still non-men's shoe products contained within the dataset that may or may not be skewing the distribution of prices + introducing biases. Additional cleaning is required, in particular in the name and categories columns - to be explicit, removing rows/data points (products in particular) whose category is not part of men's shoes. (Recall the apriori assumption that we would include all men's footwear in this analysis; mocassins, slippers, etc). This might in turn improve the NLP performance of the nlp_cat_score and nlp_name_score columns.<br><br>\n",
    "\n",
    "**2.** I would hypothesize that this improvement would have little impact on the model's performance overall, but free shipping and free returns are currently being encoded together in the same categorical column. The suggested improvement would be to make separate encodings for each field: increases dimensionality and sparseness (possibly for little payoff), but worth revisiting. Low priority improvement.<br><br>\n",
    "\n",
    "**3.** Currently, the model is training and testing on prices converted entirely to USD. It could be worth seeing how the model performs keeping the mean prices in their original listing currencies (granted, it would introduce additional complications - like assessing RMSE of a target variable that is theoretically in different units). Would likely involve having to reformulate the problem itself.<br><br>\n",
    "\n",
    "**4.** The NLP modelling of the name and category columns completed so far has been very basic given the time constraint of the project, but already some of the feature-engineered columns demonstrate high importance in the model's performance. With a more thorough NLP assessment of those two columns (and other high cardinality ordinal columns like brand, among others), I believe NLP-based \"binning\" of the products will greatly improve the model's ability to discern product segmentation with respect to price.<br><br>\n",
    "\n",
    "**5.** LightGBM is a complex supervised learning model that usually works best when supplemented with large amounts of data (due to the bias-variance tradeoff, there is an inherent danger of overfitting the training set). Acquiring more data points for the model **may** help with performance - emphasis is on help since, as I previously mentioned, the model would benefit most from either re-engineering the input features, or reframing the target of the problem.<br> Furthermore, we can try supplementing the existing data with external 3rd party data. For example, we can join Amazon Product Advertising API data on the ASIN column (granted, there is a lot of missing data in the column currently), which could add additional features like SalesRank for measuring the relative popularity of a product on Amazon's platform to other products in its 'category'. My recommendation would still be to improve the model performance first (by improving the feature engineering process) before trying to throw more data at it.<br><br>\n",
    "\n",
    "**6.** More explicit hyperparameter tuning (which would benefit in optimization performance from the increase in dataset row-size from 5). A common method utilized in tandem with LightGBM for parameter optimization is Bayesian Optimization, a technique I did not have time to implement given the time constraint. It may be worth trying in the future to see if it improves performance at all and solves the issue of overfitting the training set.<br><br>\n",
    "\n",
    "**7.** I hypothesize that better leveraging the *'prices.offer'* column of the dataset could lead to a significant improvement in performance via additional feature engineering that I was unable to tap into given the assignment time constraint. As far as columns of Strings go in the dataset, it is arguably one of the best formatted and easiest to extract valuable information from using simple string manipulation. I should have prioritized feature engineering from this column over some of the other categorical encoding variables that I spent time on (like withTags which ended up having a low feature importance, etc). Given more time, I would attempt to extract columns for a USD dollar amount of discount and percentage discount respectively using string manipulations (maybe NLP if necessary, but don't think it would be at first sight)."
   ]
  }
 ],
 "metadata": {
  "kernelspec": {
   "display_name": "Python 3",
   "language": "python",
   "name": "python3"
  },
  "language_info": {
   "codemirror_mode": {
    "name": "ipython",
    "version": 3
   },
   "file_extension": ".py",
   "mimetype": "text/x-python",
   "name": "python",
   "nbconvert_exporter": "python",
   "pygments_lexer": "ipython3",
   "version": "3.7.1"
  }
 },
 "nbformat": 4,
 "nbformat_minor": 2
}
